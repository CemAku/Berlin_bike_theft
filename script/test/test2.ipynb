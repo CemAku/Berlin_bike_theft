{
 "cells": [
  {
   "cell_type": "code",
   "execution_count": 835,
   "metadata": {},
   "outputs": [],
   "source": [
    "# Importing necessary libraries\n",
    "import pandas as pd                 # To read and manipulate data\n",
    "import numpy as np                  # To perform mathematical operations\n",
    "import matplotlib.pyplot as plt     # To plot the graphs\n",
    "import seaborn as sns               # To plot the graphs\n",
    "import chardet                      # To detect the encoding of the file\n",
    "import datetime                     # To perform operations on date and time"
   ]
  },
  {
   "cell_type": "code",
   "execution_count": 836,
   "metadata": {},
   "outputs": [],
   "source": [
    "# Importing the dataset berlin_districts.csv\n",
    "dataset_berlin = pd.read_csv('../data/berlin_districts.csv', delimiter=';')"
   ]
  },
  {
   "cell_type": "code",
   "execution_count": 837,
   "metadata": {},
   "outputs": [],
   "source": [
    "# WARNING: The following code block was used for a one-time character encoding detection.\n",
    "# Set this to True if you need to run the encoding detection\n",
    "run_encoding_check = False\n",
    "\n",
    "if run_encoding_check:\n",
    "    with open(r'../data/fahrraddiebstahl.csv', 'rb') as file:\n",
    "        print(chardet.detect(file.read()))"
   ]
  },
  {
   "cell_type": "code",
   "execution_count": 838,
   "metadata": {},
   "outputs": [],
   "source": [
    "# Importing the dataset fahrraddiebstahl.csv\n",
    "dataset_fahrraddiebstahl = pd.read_csv(r'../data/fahrraddiebstahl.csv', encoding='ISO-8859-1')"
   ]
  },
  {
   "cell_type": "code",
   "execution_count": 839,
   "metadata": {},
   "outputs": [
    {
     "data": {
      "text/plain": [
       "(12, 2)"
      ]
     },
     "execution_count": 839,
     "metadata": {},
     "output_type": "execute_result"
    }
   ],
   "source": [
    "# Checking the shape of the dataset berlin_districts\n",
    "dataset_berlin.shape"
   ]
  },
  {
   "cell_type": "code",
   "execution_count": 840,
   "metadata": {},
   "outputs": [
    {
     "name": "stdout",
     "output_type": "stream",
     "text": [
      "<class 'pandas.core.frame.DataFrame'>\n",
      "RangeIndex: 12 entries, 0 to 11\n",
      "Data columns (total 2 columns):\n",
      " #   Column       Non-Null Count  Dtype \n",
      "---  ------       --------------  ----- \n",
      " 0   bezirk_id    12 non-null     int64 \n",
      " 1   bezirk_name  12 non-null     object\n",
      "dtypes: int64(1), object(1)\n",
      "memory usage: 320.0+ bytes\n"
     ]
    }
   ],
   "source": [
    "# Checking the information of the dataset berlin_districts\n",
    "dataset_berlin.info()"
   ]
  },
  {
   "cell_type": "code",
   "execution_count": 841,
   "metadata": {},
   "outputs": [
    {
     "data": {
      "text/html": [
       "<div>\n",
       "<style scoped>\n",
       "    .dataframe tbody tr th:only-of-type {\n",
       "        vertical-align: middle;\n",
       "    }\n",
       "\n",
       "    .dataframe tbody tr th {\n",
       "        vertical-align: top;\n",
       "    }\n",
       "\n",
       "    .dataframe thead th {\n",
       "        text-align: right;\n",
       "    }\n",
       "</style>\n",
       "<table border=\"1\" class=\"dataframe\">\n",
       "  <thead>\n",
       "    <tr style=\"text-align: right;\">\n",
       "      <th></th>\n",
       "      <th>bezirk_id</th>\n",
       "      <th>bezirk_name</th>\n",
       "    </tr>\n",
       "  </thead>\n",
       "  <tbody>\n",
       "    <tr>\n",
       "      <th>0</th>\n",
       "      <td>1</td>\n",
       "      <td>Mitte</td>\n",
       "    </tr>\n",
       "    <tr>\n",
       "      <th>1</th>\n",
       "      <td>2</td>\n",
       "      <td>Friedrichshain-Kreuzberg</td>\n",
       "    </tr>\n",
       "    <tr>\n",
       "      <th>2</th>\n",
       "      <td>3</td>\n",
       "      <td>Pankow</td>\n",
       "    </tr>\n",
       "  </tbody>\n",
       "</table>\n",
       "</div>"
      ],
      "text/plain": [
       "   bezirk_id               bezirk_name\n",
       "0          1                     Mitte\n",
       "1          2  Friedrichshain-Kreuzberg\n",
       "2          3                    Pankow"
      ]
     },
     "execution_count": 841,
     "metadata": {},
     "output_type": "execute_result"
    }
   ],
   "source": [
    "# Checking the first 3 rows of the dataset berlin_districts\n",
    "dataset_berlin.head(3)"
   ]
  },
  {
   "cell_type": "code",
   "execution_count": 842,
   "metadata": {},
   "outputs": [
    {
     "name": "stdout",
     "output_type": "stream",
     "text": [
      "Total missing values in dataset_berlin: 0\n"
     ]
    }
   ],
   "source": [
    "# Checking missing values in dataset berlin_districts\n",
    "dataset_berlin_missing=dataset_berlin.isnull().sum()\n",
    "print(\"Total missing values in dataset_berlin:\",dataset_berlin_missing.sum())"
   ]
  },
  {
   "cell_type": "code",
   "execution_count": 843,
   "metadata": {},
   "outputs": [
    {
     "name": "stdout",
     "output_type": "stream",
     "text": [
      "Total duplicates in dataset_berlin:  0\n"
     ]
    }
   ],
   "source": [
    "# Checking duplicated rows in dataset berlin_districts\n",
    "dataset_berlin_duplicated=dataset_berlin.duplicated().sum()\n",
    "print(\"Total duplicates in dataset_berlin: \", dataset_berlin_duplicated)"
   ]
  },
  {
   "cell_type": "code",
   "execution_count": 844,
   "metadata": {},
   "outputs": [
    {
     "data": {
      "text/plain": [
       "1     1\n",
       "2     1\n",
       "3     1\n",
       "4     1\n",
       "5     1\n",
       "6     1\n",
       "7     1\n",
       "8     1\n",
       "9     1\n",
       "10    1\n",
       "11    1\n",
       "12    1\n",
       "Name: bezirk_id, dtype: int64"
      ]
     },
     "execution_count": 844,
     "metadata": {},
     "output_type": "execute_result"
    }
   ],
   "source": [
    "# Checking distribution of bezirk_id column\n",
    "dataset_berlin['bezirk_id'].value_counts()"
   ]
  },
  {
   "cell_type": "code",
   "execution_count": 845,
   "metadata": {},
   "outputs": [
    {
     "data": {
      "text/plain": [
       "(22127, 11)"
      ]
     },
     "execution_count": 845,
     "metadata": {},
     "output_type": "execute_result"
    }
   ],
   "source": [
    "# Checking the shape of the dataset fahrraddiebstahl\n",
    "dataset_fahrraddiebstahl.shape"
   ]
  },
  {
   "cell_type": "code",
   "execution_count": 846,
   "metadata": {},
   "outputs": [
    {
     "data": {
      "text/html": [
       "<div>\n",
       "<style scoped>\n",
       "    .dataframe tbody tr th:only-of-type {\n",
       "        vertical-align: middle;\n",
       "    }\n",
       "\n",
       "    .dataframe tbody tr th {\n",
       "        vertical-align: top;\n",
       "    }\n",
       "\n",
       "    .dataframe thead th {\n",
       "        text-align: right;\n",
       "    }\n",
       "</style>\n",
       "<table border=\"1\" class=\"dataframe\">\n",
       "  <thead>\n",
       "    <tr style=\"text-align: right;\">\n",
       "      <th></th>\n",
       "      <th>ANGELEGT_AM</th>\n",
       "      <th>TATZEIT_ANFANG_DATUM</th>\n",
       "      <th>TATZEIT_ANFANG_STUNDE</th>\n",
       "      <th>TATZEIT_ENDE_DATUM</th>\n",
       "      <th>TATZEIT_ENDE_STUNDE</th>\n",
       "      <th>LOR</th>\n",
       "      <th>SCHADENSHOEHE</th>\n",
       "      <th>VERSUCH</th>\n",
       "      <th>ART_DES_FAHRRADS</th>\n",
       "      <th>DELIKT</th>\n",
       "      <th>ERFASSUNGSGRUND</th>\n",
       "    </tr>\n",
       "  </thead>\n",
       "  <tbody>\n",
       "    <tr>\n",
       "      <th>0</th>\n",
       "      <td>14.01.2024</td>\n",
       "      <td>13.01.2024</td>\n",
       "      <td>17</td>\n",
       "      <td>14.01.2024</td>\n",
       "      <td>11</td>\n",
       "      <td>7300515</td>\n",
       "      <td>110</td>\n",
       "      <td>Nein</td>\n",
       "      <td>Herrenfahrrad</td>\n",
       "      <td>Fahrraddiebstahl</td>\n",
       "      <td>Sonstiger schwerer Diebstahl von Fahrrädern</td>\n",
       "    </tr>\n",
       "    <tr>\n",
       "      <th>1</th>\n",
       "      <td>14.01.2024</td>\n",
       "      <td>13.01.2024</td>\n",
       "      <td>16</td>\n",
       "      <td>14.01.2024</td>\n",
       "      <td>12</td>\n",
       "      <td>8100416</td>\n",
       "      <td>999</td>\n",
       "      <td>Nein</td>\n",
       "      <td>Damenfahrrad</td>\n",
       "      <td>Fahrraddiebstahl</td>\n",
       "      <td>Sonstiger schwerer Diebstahl von Fahrrädern</td>\n",
       "    </tr>\n",
       "    <tr>\n",
       "      <th>2</th>\n",
       "      <td>14.01.2024</td>\n",
       "      <td>14.01.2024</td>\n",
       "      <td>15</td>\n",
       "      <td>14.01.2024</td>\n",
       "      <td>20</td>\n",
       "      <td>2500830</td>\n",
       "      <td>399</td>\n",
       "      <td>Nein</td>\n",
       "      <td>Herrenfahrrad</td>\n",
       "      <td>Fahrraddiebstahl</td>\n",
       "      <td>Sonstiger schwerer Diebstahl von Fahrrädern</td>\n",
       "    </tr>\n",
       "  </tbody>\n",
       "</table>\n",
       "</div>"
      ],
      "text/plain": [
       "  ANGELEGT_AM TATZEIT_ANFANG_DATUM  TATZEIT_ANFANG_STUNDE TATZEIT_ENDE_DATUM  \\\n",
       "0  14.01.2024           13.01.2024                     17         14.01.2024   \n",
       "1  14.01.2024           13.01.2024                     16         14.01.2024   \n",
       "2  14.01.2024           14.01.2024                     15         14.01.2024   \n",
       "\n",
       "   TATZEIT_ENDE_STUNDE      LOR  SCHADENSHOEHE VERSUCH ART_DES_FAHRRADS  \\\n",
       "0                   11  7300515            110    Nein    Herrenfahrrad   \n",
       "1                   12  8100416            999    Nein     Damenfahrrad   \n",
       "2                   20  2500830            399    Nein    Herrenfahrrad   \n",
       "\n",
       "             DELIKT                              ERFASSUNGSGRUND  \n",
       "0  Fahrraddiebstahl  Sonstiger schwerer Diebstahl von Fahrrädern  \n",
       "1  Fahrraddiebstahl  Sonstiger schwerer Diebstahl von Fahrrädern  \n",
       "2  Fahrraddiebstahl  Sonstiger schwerer Diebstahl von Fahrrädern  "
      ]
     },
     "execution_count": 846,
     "metadata": {},
     "output_type": "execute_result"
    }
   ],
   "source": [
    "# Checking the first 3 rows of the dataset fahrraddiebstahl\n",
    "dataset_fahrraddiebstahl.head(3)"
   ]
  },
  {
   "cell_type": "code",
   "execution_count": 847,
   "metadata": {},
   "outputs": [
    {
     "data": {
      "text/html": [
       "<div>\n",
       "<style scoped>\n",
       "    .dataframe tbody tr th:only-of-type {\n",
       "        vertical-align: middle;\n",
       "    }\n",
       "\n",
       "    .dataframe tbody tr th {\n",
       "        vertical-align: top;\n",
       "    }\n",
       "\n",
       "    .dataframe thead th {\n",
       "        text-align: right;\n",
       "    }\n",
       "</style>\n",
       "<table border=\"1\" class=\"dataframe\">\n",
       "  <thead>\n",
       "    <tr style=\"text-align: right;\">\n",
       "      <th></th>\n",
       "      <th>ANGELEGT_AM</th>\n",
       "      <th>TATZEIT_ANFANG_DATUM</th>\n",
       "      <th>TATZEIT_ANFANG_STUNDE</th>\n",
       "      <th>TATZEIT_ENDE_DATUM</th>\n",
       "      <th>TATZEIT_ENDE_STUNDE</th>\n",
       "      <th>LOR</th>\n",
       "      <th>SCHADENSHOEHE</th>\n",
       "      <th>VERSUCH</th>\n",
       "      <th>ART_DES_FAHRRADS</th>\n",
       "      <th>DELIKT</th>\n",
       "      <th>ERFASSUNGSGRUND</th>\n",
       "    </tr>\n",
       "  </thead>\n",
       "  <tbody>\n",
       "    <tr>\n",
       "      <th>22124</th>\n",
       "      <td>01.01.2023</td>\n",
       "      <td>01.01.2023</td>\n",
       "      <td>5</td>\n",
       "      <td>01.01.2023</td>\n",
       "      <td>9</td>\n",
       "      <td>4300413</td>\n",
       "      <td>1400</td>\n",
       "      <td>Nein</td>\n",
       "      <td>Fahrrad</td>\n",
       "      <td>Fahrraddiebstahl</td>\n",
       "      <td>Sonstiger schwerer Diebstahl von Fahrrädern</td>\n",
       "    </tr>\n",
       "    <tr>\n",
       "      <th>22125</th>\n",
       "      <td>01.01.2023</td>\n",
       "      <td>01.01.2023</td>\n",
       "      <td>12</td>\n",
       "      <td>01.01.2023</td>\n",
       "      <td>18</td>\n",
       "      <td>6300526</td>\n",
       "      <td>695</td>\n",
       "      <td>Nein</td>\n",
       "      <td>Damenfahrrad</td>\n",
       "      <td>Fahrraddiebstahl</td>\n",
       "      <td>Sonstiger schwerer Diebstahl von Fahrrädern</td>\n",
       "    </tr>\n",
       "    <tr>\n",
       "      <th>22126</th>\n",
       "      <td>01.01.2023</td>\n",
       "      <td>01.01.2023</td>\n",
       "      <td>6</td>\n",
       "      <td>01.01.2023</td>\n",
       "      <td>12</td>\n",
       "      <td>4300621</td>\n",
       "      <td>400</td>\n",
       "      <td>Nein</td>\n",
       "      <td>Fahrrad</td>\n",
       "      <td>Fahrraddiebstahl</td>\n",
       "      <td>Sonstiger schwerer Diebstahl von Fahrrädern</td>\n",
       "    </tr>\n",
       "  </tbody>\n",
       "</table>\n",
       "</div>"
      ],
      "text/plain": [
       "      ANGELEGT_AM TATZEIT_ANFANG_DATUM  TATZEIT_ANFANG_STUNDE  \\\n",
       "22124  01.01.2023           01.01.2023                      5   \n",
       "22125  01.01.2023           01.01.2023                     12   \n",
       "22126  01.01.2023           01.01.2023                      6   \n",
       "\n",
       "      TATZEIT_ENDE_DATUM  TATZEIT_ENDE_STUNDE      LOR  SCHADENSHOEHE VERSUCH  \\\n",
       "22124         01.01.2023                    9  4300413           1400    Nein   \n",
       "22125         01.01.2023                   18  6300526            695    Nein   \n",
       "22126         01.01.2023                   12  4300621            400    Nein   \n",
       "\n",
       "      ART_DES_FAHRRADS            DELIKT  \\\n",
       "22124          Fahrrad  Fahrraddiebstahl   \n",
       "22125     Damenfahrrad  Fahrraddiebstahl   \n",
       "22126          Fahrrad  Fahrraddiebstahl   \n",
       "\n",
       "                                   ERFASSUNGSGRUND  \n",
       "22124  Sonstiger schwerer Diebstahl von Fahrrädern  \n",
       "22125  Sonstiger schwerer Diebstahl von Fahrrädern  \n",
       "22126  Sonstiger schwerer Diebstahl von Fahrrädern  "
      ]
     },
     "execution_count": 847,
     "metadata": {},
     "output_type": "execute_result"
    }
   ],
   "source": [
    "# Checking the last 3 rows of the dataset fahrraddiebstahl\n",
    "dataset_fahrraddiebstahl.tail(3)"
   ]
  },
  {
   "cell_type": "code",
   "execution_count": 848,
   "metadata": {},
   "outputs": [
    {
     "name": "stdout",
     "output_type": "stream",
     "text": [
      "Total duplicates in dataset_fahrraddiebstahl:  50\n"
     ]
    }
   ],
   "source": [
    "# Checking duplicated rows in dataset fahrraddiebstahl\n",
    "dataset_fahrraddiebstahl_duplicated=dataset_fahrraddiebstahl.duplicated().sum()\n",
    "print(\"Total duplicates in dataset_fahrraddiebstahl: \", dataset_fahrraddiebstahl_duplicated)"
   ]
  },
  {
   "cell_type": "code",
   "execution_count": 849,
   "metadata": {},
   "outputs": [
    {
     "name": "stdout",
     "output_type": "stream",
     "text": [
      "<class 'pandas.core.frame.DataFrame'>\n",
      "RangeIndex: 22127 entries, 0 to 22126\n",
      "Data columns (total 11 columns):\n",
      " #   Column                 Non-Null Count  Dtype \n",
      "---  ------                 --------------  ----- \n",
      " 0   ANGELEGT_AM            22127 non-null  object\n",
      " 1   TATZEIT_ANFANG_DATUM   22127 non-null  object\n",
      " 2   TATZEIT_ANFANG_STUNDE  22127 non-null  int64 \n",
      " 3   TATZEIT_ENDE_DATUM     22127 non-null  object\n",
      " 4   TATZEIT_ENDE_STUNDE    22127 non-null  int64 \n",
      " 5   LOR                    22127 non-null  int64 \n",
      " 6   SCHADENSHOEHE          22127 non-null  int64 \n",
      " 7   VERSUCH                22127 non-null  object\n",
      " 8   ART_DES_FAHRRADS       22127 non-null  object\n",
      " 9   DELIKT                 22127 non-null  object\n",
      " 10  ERFASSUNGSGRUND        22127 non-null  object\n",
      "dtypes: int64(4), object(7)\n",
      "memory usage: 1.9+ MB\n"
     ]
    }
   ],
   "source": [
    "# Checking information of the dataset fahrraddiebstahl\n",
    "dataset_fahrraddiebstahl.info()"
   ]
  },
  {
   "cell_type": "markdown",
   "metadata": {},
   "source": [
    "#### Dividing LOR Column to Merge Datasets"
   ]
  },
  {
   "cell_type": "code",
   "execution_count": 850,
   "metadata": {},
   "outputs": [
    {
     "name": "stdout",
     "output_type": "stream",
     "text": [
      "<class 'pandas.core.series.Series'>\n",
      "RangeIndex: 22127 entries, 0 to 22126\n",
      "Series name: LOR\n",
      "Non-Null Count  Dtype\n",
      "--------------  -----\n",
      "22127 non-null  int64\n",
      "dtypes: int64(1)\n",
      "memory usage: 173.0 KB\n"
     ]
    }
   ],
   "source": [
    "# Checking the data type of LOR column\n",
    "dataset_fahrraddiebstahl[\"LOR\"].info()"
   ]
  },
  {
   "cell_type": "code",
   "execution_count": 851,
   "metadata": {},
   "outputs": [
    {
     "name": "stdout",
     "output_type": "stream",
     "text": [
      "Min value for LOR:  1100101\n",
      "Max value for LOR:  12601236\n"
     ]
    }
   ],
   "source": [
    "# Checking min and max values for LOR\n",
    "print(\"Min value for LOR: \", dataset_fahrraddiebstahl['LOR'].min())\n",
    "print(\"Max value for LOR: \", dataset_fahrraddiebstahl['LOR'].max())"
   ]
  },
  {
   "cell_type": "markdown",
   "metadata": {},
   "source": [
    "# DATA PREPARATION"
   ]
  },
  {
   "cell_type": "code",
   "execution_count": 852,
   "metadata": {},
   "outputs": [
    {
     "name": "stdout",
     "output_type": "stream",
     "text": [
      "Min value for LOR:  01100101\n",
      "Max value for LOR:  12601236\n"
     ]
    }
   ],
   "source": [
    "# Converting the column to strings\n",
    "dataset_fahrraddiebstahl['LOR'] = dataset_fahrraddiebstahl['LOR'].astype(str)\n",
    "\n",
    "# Adding a leading zero to 7-digit entries\n",
    "dataset_fahrraddiebstahl['LOR'] = dataset_fahrraddiebstahl['LOR'].apply(lambda x: '0' + x if len(x) == 7 else x)\n",
    "\n",
    "# Checking min and max values for LOR\n",
    "print(\"Min value for LOR: \", dataset_fahrraddiebstahl['LOR'].min())\n",
    "print(\"Max value for LOR: \", dataset_fahrraddiebstahl['LOR'].max())"
   ]
  },
  {
   "cell_type": "code",
   "execution_count": 853,
   "metadata": {},
   "outputs": [
    {
     "name": "stdout",
     "output_type": "stream",
     "text": [
      "        LOR bezirk_id PGR BZR PLR\n",
      "0  07300515        07  30  05  15\n",
      "1  08100416        08  10  04  16\n",
      "2  02500830        02  50  08  30\n",
      "3  06300634        06  30  06  34\n",
      "4  07200414        07  20  04  14\n"
     ]
    }
   ],
   "source": [
    "# Creating new columns by slicing the LOR column\n",
    "dataset_fahrraddiebstahl['bezirk_id'] = dataset_fahrraddiebstahl['LOR'].str[:2]\n",
    "dataset_fahrraddiebstahl['PGR'] = dataset_fahrraddiebstahl['LOR'].str[2:4]\n",
    "dataset_fahrraddiebstahl['BZR'] = dataset_fahrraddiebstahl['LOR'].str[4:6]\n",
    "dataset_fahrraddiebstahl['PLR'] = dataset_fahrraddiebstahl['LOR'].str[6:8]\n",
    "\n",
    "# Checking the first few rows to verify the changes\n",
    "print(dataset_fahrraddiebstahl[['LOR', 'bezirk_id', 'PGR', 'BZR', 'PLR']].head())"
   ]
  },
  {
   "cell_type": "code",
   "execution_count": 854,
   "metadata": {},
   "outputs": [
    {
     "name": "stdout",
     "output_type": "stream",
     "text": [
      "<class 'pandas.core.series.Series'>\n",
      "RangeIndex: 22127 entries, 0 to 22126\n",
      "Series name: bezirk_id\n",
      "Non-Null Count  Dtype\n",
      "--------------  -----\n",
      "22127 non-null  int32\n",
      "dtypes: int32(1)\n",
      "memory usage: 86.6 KB\n"
     ]
    }
   ],
   "source": [
    "# Converting the data type of bezirk_id to int\n",
    "dataset_fahrraddiebstahl['bezirk_id'] = dataset_fahrraddiebstahl['bezirk_id'].astype(int)\n",
    "\n",
    "# Checking the data type of bezirk_id column\n",
    "dataset_fahrraddiebstahl[\"bezirk_id\"].info()"
   ]
  },
  {
   "cell_type": "code",
   "execution_count": 855,
   "metadata": {},
   "outputs": [
    {
     "name": "stdout",
     "output_type": "stream",
     "text": [
      "Min value for bezirk_id:  1\n",
      "Max value for bezirk_id:  12\n"
     ]
    }
   ],
   "source": [
    "# Checking min and max values for bezirk_id column\n",
    "print(\"Min value for bezirk_id: \", dataset_fahrraddiebstahl['bezirk_id'].min())\n",
    "print(\"Max value for bezirk_id: \", dataset_fahrraddiebstahl['bezirk_id'].max())"
   ]
  },
  {
   "cell_type": "code",
   "execution_count": 856,
   "metadata": {},
   "outputs": [
    {
     "data": {
      "text/plain": [
       "1     3321\n",
       "2     3202\n",
       "3     2788\n",
       "4     2231\n",
       "7     2168\n",
       "9     1717\n",
       "8     1693\n",
       "6     1378\n",
       "11    1365\n",
       "12     978\n",
       "10     647\n",
       "5      639\n",
       "Name: bezirk_id, dtype: int64"
      ]
     },
     "execution_count": 856,
     "metadata": {},
     "output_type": "execute_result"
    }
   ],
   "source": [
    "# Checking distribution of bezirk_id column\n",
    "dataset_fahrraddiebstahl['bezirk_id'].value_counts()"
   ]
  },
  {
   "cell_type": "code",
   "execution_count": 857,
   "metadata": {},
   "outputs": [],
   "source": [
    "# Converting data type of bezirk_id to category\n",
    "dataset_fahrraddiebstahl['bezirk_id'] = dataset_fahrraddiebstahl['bezirk_id'].astype('category')"
   ]
  },
  {
   "cell_type": "code",
   "execution_count": 858,
   "metadata": {},
   "outputs": [],
   "source": [
    "# Converting the column bezirk_id to categorical data type in dataset berlin_districts\n",
    "dataset_berlin['bezirk_id'] = dataset_berlin['bezirk_id'].astype('category')"
   ]
  },
  {
   "cell_type": "code",
   "execution_count": 859,
   "metadata": {},
   "outputs": [
    {
     "data": {
      "text/html": [
       "<div>\n",
       "<style scoped>\n",
       "    .dataframe tbody tr th:only-of-type {\n",
       "        vertical-align: middle;\n",
       "    }\n",
       "\n",
       "    .dataframe tbody tr th {\n",
       "        vertical-align: top;\n",
       "    }\n",
       "\n",
       "    .dataframe thead th {\n",
       "        text-align: right;\n",
       "    }\n",
       "</style>\n",
       "<table border=\"1\" class=\"dataframe\">\n",
       "  <thead>\n",
       "    <tr style=\"text-align: right;\">\n",
       "      <th></th>\n",
       "      <th>bezirk_id</th>\n",
       "      <th>bezirk_name</th>\n",
       "    </tr>\n",
       "  </thead>\n",
       "  <tbody>\n",
       "    <tr>\n",
       "      <th>0</th>\n",
       "      <td>1</td>\n",
       "      <td>Mitte</td>\n",
       "    </tr>\n",
       "    <tr>\n",
       "      <th>1</th>\n",
       "      <td>2</td>\n",
       "      <td>Friedrichshain-Kreuzberg</td>\n",
       "    </tr>\n",
       "    <tr>\n",
       "      <th>2</th>\n",
       "      <td>3</td>\n",
       "      <td>Pankow</td>\n",
       "    </tr>\n",
       "  </tbody>\n",
       "</table>\n",
       "</div>"
      ],
      "text/plain": [
       "  bezirk_id               bezirk_name\n",
       "0         1                     Mitte\n",
       "1         2  Friedrichshain-Kreuzberg\n",
       "2         3                    Pankow"
      ]
     },
     "execution_count": 859,
     "metadata": {},
     "output_type": "execute_result"
    }
   ],
   "source": [
    "# Printing first few rows of dataset berlin_districts\n",
    "dataset_berlin.head(3)"
   ]
  },
  {
   "cell_type": "markdown",
   "metadata": {},
   "source": [
    "### Merging Data"
   ]
  },
  {
   "cell_type": "code",
   "execution_count": 860,
   "metadata": {},
   "outputs": [
    {
     "name": "stdout",
     "output_type": "stream",
     "text": [
      "Shape of dataset_berlin:  (12, 2)\n",
      "Shape of dataset_fahrraddiebstahl:  (22127, 15)\n",
      "Shape of dataset_berlin_fahrraddiebstahl:  (22127, 16)\n"
     ]
    }
   ],
   "source": [
    "# Printing the shape of dataset_berlin\n",
    "print(\"Shape of dataset_berlin: \", dataset_berlin.shape)\n",
    "\n",
    "# Printing the shape of dataset_fahrraddiebstahl\n",
    "print(\"Shape of dataset_fahrraddiebstahl: \", dataset_fahrraddiebstahl.shape)\n",
    "\n",
    "# Merging the two datasets over the column bezirk_id\n",
    "dataset_berlin_fahrraddiebstahl = pd.merge(dataset_fahrraddiebstahl, dataset_berlin, on='bezirk_id', how='left')\n",
    "\n",
    "# Printing the shape of the new dataset\n",
    "print(\"Shape of dataset_berlin_fahrraddiebstahl: \", dataset_berlin_fahrraddiebstahl.shape)"
   ]
  },
  {
   "cell_type": "code",
   "execution_count": 861,
   "metadata": {},
   "outputs": [
    {
     "data": {
      "text/html": [
       "<div>\n",
       "<style scoped>\n",
       "    .dataframe tbody tr th:only-of-type {\n",
       "        vertical-align: middle;\n",
       "    }\n",
       "\n",
       "    .dataframe tbody tr th {\n",
       "        vertical-align: top;\n",
       "    }\n",
       "\n",
       "    .dataframe thead th {\n",
       "        text-align: right;\n",
       "    }\n",
       "</style>\n",
       "<table border=\"1\" class=\"dataframe\">\n",
       "  <thead>\n",
       "    <tr style=\"text-align: right;\">\n",
       "      <th></th>\n",
       "      <th>ANGELEGT_AM</th>\n",
       "      <th>TATZEIT_ANFANG_DATUM</th>\n",
       "      <th>TATZEIT_ANFANG_STUNDE</th>\n",
       "      <th>TATZEIT_ENDE_DATUM</th>\n",
       "      <th>TATZEIT_ENDE_STUNDE</th>\n",
       "      <th>LOR</th>\n",
       "      <th>SCHADENSHOEHE</th>\n",
       "      <th>VERSUCH</th>\n",
       "      <th>ART_DES_FAHRRADS</th>\n",
       "      <th>DELIKT</th>\n",
       "      <th>ERFASSUNGSGRUND</th>\n",
       "      <th>bezirk_id</th>\n",
       "      <th>PGR</th>\n",
       "      <th>BZR</th>\n",
       "      <th>PLR</th>\n",
       "      <th>bezirk_name</th>\n",
       "    </tr>\n",
       "  </thead>\n",
       "  <tbody>\n",
       "    <tr>\n",
       "      <th>0</th>\n",
       "      <td>14.01.2024</td>\n",
       "      <td>13.01.2024</td>\n",
       "      <td>17</td>\n",
       "      <td>14.01.2024</td>\n",
       "      <td>11</td>\n",
       "      <td>07300515</td>\n",
       "      <td>110</td>\n",
       "      <td>Nein</td>\n",
       "      <td>Herrenfahrrad</td>\n",
       "      <td>Fahrraddiebstahl</td>\n",
       "      <td>Sonstiger schwerer Diebstahl von Fahrrädern</td>\n",
       "      <td>7</td>\n",
       "      <td>30</td>\n",
       "      <td>05</td>\n",
       "      <td>15</td>\n",
       "      <td>Tempelhof-Schöneberg</td>\n",
       "    </tr>\n",
       "    <tr>\n",
       "      <th>1</th>\n",
       "      <td>14.01.2024</td>\n",
       "      <td>13.01.2024</td>\n",
       "      <td>16</td>\n",
       "      <td>14.01.2024</td>\n",
       "      <td>12</td>\n",
       "      <td>08100416</td>\n",
       "      <td>999</td>\n",
       "      <td>Nein</td>\n",
       "      <td>Damenfahrrad</td>\n",
       "      <td>Fahrraddiebstahl</td>\n",
       "      <td>Sonstiger schwerer Diebstahl von Fahrrädern</td>\n",
       "      <td>8</td>\n",
       "      <td>10</td>\n",
       "      <td>04</td>\n",
       "      <td>16</td>\n",
       "      <td>Neukölln</td>\n",
       "    </tr>\n",
       "    <tr>\n",
       "      <th>2</th>\n",
       "      <td>14.01.2024</td>\n",
       "      <td>14.01.2024</td>\n",
       "      <td>15</td>\n",
       "      <td>14.01.2024</td>\n",
       "      <td>20</td>\n",
       "      <td>02500830</td>\n",
       "      <td>399</td>\n",
       "      <td>Nein</td>\n",
       "      <td>Herrenfahrrad</td>\n",
       "      <td>Fahrraddiebstahl</td>\n",
       "      <td>Sonstiger schwerer Diebstahl von Fahrrädern</td>\n",
       "      <td>2</td>\n",
       "      <td>50</td>\n",
       "      <td>08</td>\n",
       "      <td>30</td>\n",
       "      <td>Friedrichshain-Kreuzberg</td>\n",
       "    </tr>\n",
       "  </tbody>\n",
       "</table>\n",
       "</div>"
      ],
      "text/plain": [
       "  ANGELEGT_AM TATZEIT_ANFANG_DATUM  TATZEIT_ANFANG_STUNDE TATZEIT_ENDE_DATUM  \\\n",
       "0  14.01.2024           13.01.2024                     17         14.01.2024   \n",
       "1  14.01.2024           13.01.2024                     16         14.01.2024   \n",
       "2  14.01.2024           14.01.2024                     15         14.01.2024   \n",
       "\n",
       "   TATZEIT_ENDE_STUNDE       LOR  SCHADENSHOEHE VERSUCH ART_DES_FAHRRADS  \\\n",
       "0                   11  07300515            110    Nein    Herrenfahrrad   \n",
       "1                   12  08100416            999    Nein     Damenfahrrad   \n",
       "2                   20  02500830            399    Nein    Herrenfahrrad   \n",
       "\n",
       "             DELIKT                              ERFASSUNGSGRUND bezirk_id  \\\n",
       "0  Fahrraddiebstahl  Sonstiger schwerer Diebstahl von Fahrrädern         7   \n",
       "1  Fahrraddiebstahl  Sonstiger schwerer Diebstahl von Fahrrädern         8   \n",
       "2  Fahrraddiebstahl  Sonstiger schwerer Diebstahl von Fahrrädern         2   \n",
       "\n",
       "  PGR BZR PLR               bezirk_name  \n",
       "0  30  05  15      Tempelhof-Schöneberg  \n",
       "1  10  04  16                  Neukölln  \n",
       "2  50  08  30  Friedrichshain-Kreuzberg  "
      ]
     },
     "execution_count": 861,
     "metadata": {},
     "output_type": "execute_result"
    }
   ],
   "source": [
    "# Printing head of dataset_berlin_fahrraddiebstahl\n",
    "dataset_berlin_fahrraddiebstahl.head(3)"
   ]
  },
  {
   "cell_type": "code",
   "execution_count": 862,
   "metadata": {},
   "outputs": [
    {
     "name": "stdout",
     "output_type": "stream",
     "text": [
      "Shape of dataset_berlin_fahrraddiebstahl before dropping duplicates:  (22127, 16)\n",
      "Shape of dataset_berlin_fahrraddiebstahl after dropping duplicates:  (22077, 16)\n"
     ]
    }
   ],
   "source": [
    "# Printing the shape of the dataset_berlin_fahrraddiebstahl\n",
    "print(\"Shape of dataset_berlin_fahrraddiebstahl before dropping duplicates: \", dataset_berlin_fahrraddiebstahl.shape)\n",
    "\n",
    "# Dropping duplicated rows\n",
    "dataset_berlin_fahrraddiebstahl.drop_duplicates(inplace=True)\n",
    "\n",
    "# Printing the shape of the dataset_berlin_fahrraddiebstahl\n",
    "print(\"Shape of dataset_berlin_fahrraddiebstahl after dropping duplicates: \", dataset_berlin_fahrraddiebstahl.shape)"
   ]
  },
  {
   "cell_type": "markdown",
   "metadata": {},
   "source": [
    "#### Checking ANGELEGT_AM column"
   ]
  },
  {
   "cell_type": "code",
   "execution_count": 863,
   "metadata": {},
   "outputs": [
    {
     "name": "stdout",
     "output_type": "stream",
     "text": [
      "<class 'pandas.core.series.Series'>\n",
      "Int64Index: 22077 entries, 0 to 22126\n",
      "Series name: ANGELEGT_AM\n",
      "Non-Null Count  Dtype         \n",
      "--------------  -----         \n",
      "22077 non-null  datetime64[ns]\n",
      "dtypes: datetime64[ns](1)\n",
      "memory usage: 345.0 KB\n"
     ]
    }
   ],
   "source": [
    "# Changing the data type of ANGELEGT_AM to datetime\n",
    "dataset_berlin_fahrraddiebstahl['ANGELEGT_AM'] = pd.to_datetime(dataset_berlin_fahrraddiebstahl['ANGELEGT_AM'], format='%d.%m.%Y')\n",
    "\n",
    "# Approving the change of data type for ANGELEGT_AM column\n",
    "dataset_berlin_fahrraddiebstahl[\"ANGELEGT_AM\"].info()"
   ]
  },
  {
   "cell_type": "code",
   "execution_count": 864,
   "metadata": {},
   "outputs": [
    {
     "name": "stdout",
     "output_type": "stream",
     "text": [
      "Min value for ANGELEGT_AM:  2023-01-01 00:00:00\n",
      "Max value for ANGELEGT_AM:  2024-01-14 00:00:00\n"
     ]
    }
   ],
   "source": [
    "# Checking min and max values for ANGELEGT_AM\n",
    "print(\"Min value for ANGELEGT_AM: \", dataset_berlin_fahrraddiebstahl['ANGELEGT_AM'].min())\n",
    "print(\"Max value for ANGELEGT_AM: \", dataset_berlin_fahrraddiebstahl['ANGELEGT_AM'].max())"
   ]
  },
  {
   "cell_type": "code",
   "execution_count": 865,
   "metadata": {},
   "outputs": [],
   "source": [
    "# Creating a function for plotting histograms\n",
    "def plot_histogram(data, column, bins, figsize, mean_line=True, median_line=True, season_lines=False):\n",
    "    \"\"\"\n",
    "    Plots a histogram for a specified column in the dataset.\n",
    "\n",
    "    :param data: DataFrame containing the data.\n",
    "    :param column: Column name for which the histogram is to be plotted.\n",
    "    :param bins: Number of bins in the histogram.\n",
    "    :param figsize: Size of the figure.\n",
    "    :param mean_line: Boolean to indicate if a line for the mean should be plotted.\n",
    "    :param median_line: Boolean to indicate if a line for the median should be plotted.\n",
    "    :param season_lines: Boolean to indicate if lines for seasons should be plotted.\n",
    "    \"\"\"\n",
    "    data[column].hist(bins=bins, figsize=figsize)\n",
    "\n",
    "    # Adding Red lines for the mean and median\n",
    "    if mean_line:\n",
    "        plt.axvline(data[column].mean(), color='red', linestyle='dashed', linewidth=1)\n",
    "    \n",
    "    # Adding Red lines for the mean and median\n",
    "    if median_line:\n",
    "        plt.axvline(data[column].median(), color='red', linestyle='dashed', linewidth=1)\n",
    "\n",
    "    # Adding Yellow lines for seasons\n",
    "    if season_lines:\n",
    "        for date in ['2023-03-20', '2023-06-20', '2023-09-22', '2023-12-21']:\n",
    "            plt.axvline(pd.to_datetime(date), color='yellow', linestyle='dashed', linewidth=1)\n",
    "    \n",
    "    # Adding title as well as x and y labels\n",
    "    plt.title(f'Histogram for {column}')\n",
    "    plt.xlabel(column)\n",
    "    plt.ylabel('Frequency')\n",
    "    plt.show()"
   ]
  },
  {
   "cell_type": "code",
   "execution_count": 866,
   "metadata": {},
   "outputs": [
    {
     "data": {
      "image/png": "[encoded data removed]",
      "text/plain": [
       "<Figure size 1000x500 with 1 Axes>"
      ]
     },
     "metadata": {},
     "output_type": "display_data"
    }
   ],
   "source": [
    "# Plotting histogram for ANGELEGT_AM\n",
    "plot_histogram(dataset_berlin_fahrraddiebstahl, 'ANGELEGT_AM', bins=50, figsize=(10,5), season_lines=True)"
   ]
  },
  {
   "cell_type": "markdown",
   "metadata": {},
   "source": [
    "#### Checking TATZEIT_ANFANG_DATUM column"
   ]
  },
  {
   "cell_type": "code",
   "execution_count": 867,
   "metadata": {},
   "outputs": [
    {
     "name": "stdout",
     "output_type": "stream",
     "text": [
      "<class 'pandas.core.series.Series'>\n",
      "Int64Index: 22077 entries, 0 to 22126\n",
      "Series name: TATZEIT_ANFANG_DATUM\n",
      "Non-Null Count  Dtype         \n",
      "--------------  -----         \n",
      "22077 non-null  datetime64[ns]\n",
      "dtypes: datetime64[ns](1)\n",
      "memory usage: 345.0 KB\n"
     ]
    }
   ],
   "source": [
    "# Changing the data type to datetime for the column TATZEIT_ANFANG_DATUM\n",
    "dataset_berlin_fahrraddiebstahl['TATZEIT_ANFANG_DATUM'] = pd.to_datetime(dataset_berlin_fahrraddiebstahl['TATZEIT_ANFANG_DATUM'], format='%d.%m.%Y')\n",
    "\n",
    "# Approving the change of data type for TATZEIT_ANFANG_DATUM column\n",
    "dataset_berlin_fahrraddiebstahl[\"TATZEIT_ANFANG_DATUM\"].info()"
   ]
  },
  {
   "cell_type": "code",
   "execution_count": 868,
   "metadata": {},
   "outputs": [
    {
     "name": "stdout",
     "output_type": "stream",
     "text": [
      "Min value for TATZEIT_ANFANG_DATUM:  2023-01-01 00:00:00\n",
      "Max value for TATZEIT_ANFANG_DATUM:  2024-01-14 00:00:00\n"
     ]
    }
   ],
   "source": [
    "# Checking min and max values for TATZEIT_ANFANG_DATUM\n",
    "print(\"Min value for TATZEIT_ANFANG_DATUM: \", dataset_berlin_fahrraddiebstahl['TATZEIT_ANFANG_DATUM'].min())\n",
    "print(\"Max value for TATZEIT_ANFANG_DATUM: \", dataset_berlin_fahrraddiebstahl['TATZEIT_ANFANG_DATUM'].max())"
   ]
  },
  {
   "cell_type": "code",
   "execution_count": 869,
   "metadata": {},
   "outputs": [
    {
     "data": {
      "image/png": "[encoded data removed]",
      "text/plain": [
       "<Figure size 1000x500 with 1 Axes>"
      ]
     },
     "metadata": {},
     "output_type": "display_data"
    }
   ],
   "source": [
    "# Plotting histogram for TATZEIT_ANFANG_DATUM\n",
    "plot_histogram(dataset_berlin_fahrraddiebstahl, 'TATZEIT_ANFANG_DATUM', bins=50, figsize=(10,5), season_lines=True)"
   ]
  },
  {
   "cell_type": "markdown",
   "metadata": {},
   "source": [
    "#### Checking TATZEIT_ANFANG_STUNDE column"
   ]
  },
  {
   "cell_type": "code",
   "execution_count": 870,
   "metadata": {},
   "outputs": [
    {
     "name": "stdout",
     "output_type": "stream",
     "text": [
      "Min value for TATZEIT_ANFANG_STUNDE:  0\n",
      "Max value for TATZEIT_ANFANG_STUNDE:  23\n"
     ]
    }
   ],
   "source": [
    "# Checking min and max values for TATZEIT_ANFANG_STUNDE\n",
    "print(\"Min value for TATZEIT_ANFANG_STUNDE: \", dataset_berlin_fahrraddiebstahl['TATZEIT_ANFANG_STUNDE'].min())\n",
    "print(\"Max value for TATZEIT_ANFANG_STUNDE: \", dataset_berlin_fahrraddiebstahl['TATZEIT_ANFANG_STUNDE'].max())"
   ]
  },
  {
   "cell_type": "markdown",
   "metadata": {},
   "source": [
    "# BURASI EKLENDI "
   ]
  },
  {
   "cell_type": "code",
   "execution_count": 871,
   "metadata": {},
   "outputs": [
    {
     "name": "stdout",
     "output_type": "stream",
     "text": [
      "0        17:00\n",
      "1        16:00\n",
      "2        15:00\n",
      "3        20:00\n",
      "4        17:00\n",
      "         ...  \n",
      "22122    08:00\n",
      "22123    11:00\n",
      "22124    05:00\n",
      "22125    12:00\n",
      "22126    06:00\n",
      "Name: TATZEIT_ANFANG_STUNDE, Length: 22077, dtype: object\n"
     ]
    }
   ],
   "source": [
    "# Format the 'TATZEIT_ANFANG_STUNDE' column\n",
    "dataset_berlin_fahrraddiebstahl['TATZEIT_ANFANG_STUNDE'] = dataset_berlin_fahrraddiebstahl['TATZEIT_ANFANG_STUNDE'].apply(lambda x: f\"{x:02d}:00\")\n",
    "\n",
    "# Now the DataFrame has an additional column 'formatted_hour' with the time formatted as \"HH:00\"\n",
    "print(dataset_berlin_fahrraddiebstahl['TATZEIT_ANFANG_STUNDE'])"
   ]
  },
  {
   "cell_type": "code",
   "execution_count": 872,
   "metadata": {},
   "outputs": [],
   "source": [
    "def plot_lineplot(data, column, working_hours=True, parking_hours=False):\n",
    "    \"\"\"\n",
    "    Plots a line plot for a specified column in the dataset.\n",
    "\n",
    "    :param data: DataFrame containing the data.\n",
    "    :param column: Column name for which the line plot is to be plotted.\n",
    "    :param working_hours: Boolean to indicate if lines for standard working hours should be plotted.\n",
    "    :param parking_hours: Boolean to indicate if shaded regions for standard bike parking hours should be plotted.\n",
    "    \"\"\"\n",
    "    counts = data[column].value_counts().sort_index()\n",
    "    \n",
    "    # Creating a lineplot\n",
    "    sns.lineplot(x=counts.index, y=counts.values)\n",
    "    \n",
    "    # Adding significance markers to the plot\n",
    "    plt.plot(counts.index, counts.values, 's', markersize=4)\n",
    "\n",
    "    # Adding Working Hour lines\n",
    "    if working_hours:\n",
    "        plt.axvline(8, color='red', linestyle='dashed', linewidth=1)\n",
    "        plt.axvline(16, color='red', linestyle='dashed', linewidth=1)\n",
    "\n",
    "    # Adding transparent sketches for bike parking hours\n",
    "    # Shades are added to show the bike parking hours\n",
    "    if parking_hours:\n",
    "        plt.axvspan(7, 9, color='blue', alpha=0.2)  # Shaded region from 7 to 9\n",
    "        plt.axvspan(16, 18, color='blue', alpha=0.2)  # Shaded region from 16 to 18\n",
    "\n",
    "    # Adding title as well as x and y labels\n",
    "    plt.title(f'Line Plot for {column}')\n",
    "    plt.xlabel(column)\n",
    "    plt.ylabel('Frequency')\n",
    "    # Rotate x labels\n",
    "    plt.xticks(rotation=90)\n",
    "    plt.show()"
   ]
  },
  {
   "cell_type": "code",
   "execution_count": 873,
   "metadata": {},
   "outputs": [
    {
     "data": {
      "image/png": "[encoded data removed]",
      "text/plain": [
       "<Figure size 640x480 with 1 Axes>"
      ]
     },
     "metadata": {},
     "output_type": "display_data"
    }
   ],
   "source": [
    "# Plotting lineplot for TATZEIT_ANFANG_DATUM\n",
    "plot_lineplot(dataset_berlin_fahrraddiebstahl, 'TATZEIT_ANFANG_STUNDE', working_hours=True, parking_hours=True)"
   ]
  },
  {
   "cell_type": "markdown",
   "metadata": {},
   "source": [
    "#### Checking TATZEIT_ENDE_DATUM column"
   ]
  },
  {
   "cell_type": "code",
   "execution_count": 874,
   "metadata": {},
   "outputs": [
    {
     "name": "stdout",
     "output_type": "stream",
     "text": [
      "<class 'pandas.core.series.Series'>\n",
      "Int64Index: 22077 entries, 0 to 22126\n",
      "Series name: TATZEIT_ENDE_DATUM\n",
      "Non-Null Count  Dtype         \n",
      "--------------  -----         \n",
      "22077 non-null  datetime64[ns]\n",
      "dtypes: datetime64[ns](1)\n",
      "memory usage: 345.0 KB\n"
     ]
    }
   ],
   "source": [
    "# Changing the data type to datetime for the column TATZEIT_ENDE_DATUM\n",
    "dataset_berlin_fahrraddiebstahl['TATZEIT_ENDE_DATUM'] = pd.to_datetime(dataset_berlin_fahrraddiebstahl['TATZEIT_ENDE_DATUM'], format='%d.%m.%Y')\n",
    "\n",
    "# Approving the change of data type for TATZEIT_ANFANG_DATUM column\n",
    "dataset_berlin_fahrraddiebstahl[\"TATZEIT_ENDE_DATUM\"].info()"
   ]
  },
  {
   "cell_type": "code",
   "execution_count": 875,
   "metadata": {},
   "outputs": [
    {
     "data": {
      "text/html": [
       "<div>\n",
       "<style scoped>\n",
       "    .dataframe tbody tr th:only-of-type {\n",
       "        vertical-align: middle;\n",
       "    }\n",
       "\n",
       "    .dataframe tbody tr th {\n",
       "        vertical-align: top;\n",
       "    }\n",
       "\n",
       "    .dataframe thead th {\n",
       "        text-align: right;\n",
       "    }\n",
       "</style>\n",
       "<table border=\"1\" class=\"dataframe\">\n",
       "  <thead>\n",
       "    <tr style=\"text-align: right;\">\n",
       "      <th></th>\n",
       "      <th>ANGELEGT_AM</th>\n",
       "      <th>TATZEIT_ANFANG_DATUM</th>\n",
       "      <th>TATZEIT_ANFANG_STUNDE</th>\n",
       "      <th>TATZEIT_ENDE_DATUM</th>\n",
       "      <th>TATZEIT_ENDE_STUNDE</th>\n",
       "      <th>LOR</th>\n",
       "      <th>SCHADENSHOEHE</th>\n",
       "      <th>VERSUCH</th>\n",
       "      <th>ART_DES_FAHRRADS</th>\n",
       "      <th>DELIKT</th>\n",
       "      <th>ERFASSUNGSGRUND</th>\n",
       "      <th>bezirk_id</th>\n",
       "      <th>PGR</th>\n",
       "      <th>BZR</th>\n",
       "      <th>PLR</th>\n",
       "      <th>bezirk_name</th>\n",
       "    </tr>\n",
       "  </thead>\n",
       "  <tbody>\n",
       "    <tr>\n",
       "      <th>0</th>\n",
       "      <td>2024-01-14</td>\n",
       "      <td>2024-01-13</td>\n",
       "      <td>17:00</td>\n",
       "      <td>2024-01-14</td>\n",
       "      <td>11</td>\n",
       "      <td>07300515</td>\n",
       "      <td>110</td>\n",
       "      <td>Nein</td>\n",
       "      <td>Herrenfahrrad</td>\n",
       "      <td>Fahrraddiebstahl</td>\n",
       "      <td>Sonstiger schwerer Diebstahl von Fahrrädern</td>\n",
       "      <td>7</td>\n",
       "      <td>30</td>\n",
       "      <td>05</td>\n",
       "      <td>15</td>\n",
       "      <td>Tempelhof-Schöneberg</td>\n",
       "    </tr>\n",
       "    <tr>\n",
       "      <th>1</th>\n",
       "      <td>2024-01-14</td>\n",
       "      <td>2024-01-13</td>\n",
       "      <td>16:00</td>\n",
       "      <td>2024-01-14</td>\n",
       "      <td>12</td>\n",
       "      <td>08100416</td>\n",
       "      <td>999</td>\n",
       "      <td>Nein</td>\n",
       "      <td>Damenfahrrad</td>\n",
       "      <td>Fahrraddiebstahl</td>\n",
       "      <td>Sonstiger schwerer Diebstahl von Fahrrädern</td>\n",
       "      <td>8</td>\n",
       "      <td>10</td>\n",
       "      <td>04</td>\n",
       "      <td>16</td>\n",
       "      <td>Neukölln</td>\n",
       "    </tr>\n",
       "    <tr>\n",
       "      <th>2</th>\n",
       "      <td>2024-01-14</td>\n",
       "      <td>2024-01-14</td>\n",
       "      <td>15:00</td>\n",
       "      <td>2024-01-14</td>\n",
       "      <td>20</td>\n",
       "      <td>02500830</td>\n",
       "      <td>399</td>\n",
       "      <td>Nein</td>\n",
       "      <td>Herrenfahrrad</td>\n",
       "      <td>Fahrraddiebstahl</td>\n",
       "      <td>Sonstiger schwerer Diebstahl von Fahrrädern</td>\n",
       "      <td>2</td>\n",
       "      <td>50</td>\n",
       "      <td>08</td>\n",
       "      <td>30</td>\n",
       "      <td>Friedrichshain-Kreuzberg</td>\n",
       "    </tr>\n",
       "  </tbody>\n",
       "</table>\n",
       "</div>"
      ],
      "text/plain": [
       "  ANGELEGT_AM TATZEIT_ANFANG_DATUM TATZEIT_ANFANG_STUNDE TATZEIT_ENDE_DATUM  \\\n",
       "0  2024-01-14           2024-01-13                 17:00         2024-01-14   \n",
       "1  2024-01-14           2024-01-13                 16:00         2024-01-14   \n",
       "2  2024-01-14           2024-01-14                 15:00         2024-01-14   \n",
       "\n",
       "   TATZEIT_ENDE_STUNDE       LOR  SCHADENSHOEHE VERSUCH ART_DES_FAHRRADS  \\\n",
       "0                   11  07300515            110    Nein    Herrenfahrrad   \n",
       "1                   12  08100416            999    Nein     Damenfahrrad   \n",
       "2                   20  02500830            399    Nein    Herrenfahrrad   \n",
       "\n",
       "             DELIKT                              ERFASSUNGSGRUND bezirk_id  \\\n",
       "0  Fahrraddiebstahl  Sonstiger schwerer Diebstahl von Fahrrädern         7   \n",
       "1  Fahrraddiebstahl  Sonstiger schwerer Diebstahl von Fahrrädern         8   \n",
       "2  Fahrraddiebstahl  Sonstiger schwerer Diebstahl von Fahrrädern         2   \n",
       "\n",
       "  PGR BZR PLR               bezirk_name  \n",
       "0  30  05  15      Tempelhof-Schöneberg  \n",
       "1  10  04  16                  Neukölln  \n",
       "2  50  08  30  Friedrichshain-Kreuzberg  "
      ]
     },
     "execution_count": 875,
     "metadata": {},
     "output_type": "execute_result"
    }
   ],
   "source": [
    "# Checking the first 3 rows of the dataset_berlin_fahrraddiebstahl\n",
    "dataset_berlin_fahrraddiebstahl.head(3)"
   ]
  },
  {
   "cell_type": "code",
   "execution_count": 876,
   "metadata": {},
   "outputs": [
    {
     "name": "stdout",
     "output_type": "stream",
     "text": [
      "Min value for TATZEIT_ENDE_DATUM:  2023-01-01 00:00:00\n",
      "Max value for TATZEIT_ENDE_DATUM:  2024-01-14 00:00:00\n"
     ]
    }
   ],
   "source": [
    "# Checking min and max values for TATZEIT_ENDE_DATUM\n",
    "print(\"Min value for TATZEIT_ENDE_DATUM: \", dataset_berlin_fahrraddiebstahl['TATZEIT_ENDE_DATUM'].min())\n",
    "print(\"Max value for TATZEIT_ENDE_DATUM: \", dataset_berlin_fahrraddiebstahl['TATZEIT_ENDE_DATUM'].max())"
   ]
  },
  {
   "cell_type": "code",
   "execution_count": 877,
   "metadata": {},
   "outputs": [
    {
     "data": {
      "image/png": "[encoded data removed]",
      "text/plain": [
       "<Figure size 1000x500 with 1 Axes>"
      ]
     },
     "metadata": {},
     "output_type": "display_data"
    }
   ],
   "source": [
    "# Plotting histogram for TATZEIT_ENDE_DATUM\n",
    "plot_histogram(dataset_berlin_fahrraddiebstahl, 'TATZEIT_ENDE_DATUM', bins=50, figsize=(10,5), season_lines=True)"
   ]
  },
  {
   "cell_type": "markdown",
   "metadata": {},
   "source": [
    "#### Checking TATZEIT_ENDE_STUNDE column"
   ]
  },
  {
   "cell_type": "code",
   "execution_count": 878,
   "metadata": {},
   "outputs": [
    {
     "name": "stdout",
     "output_type": "stream",
     "text": [
      "Min value for TATZEIT_ENDE_STUNDE:  0\n",
      "Max value for TATZEIT_ENDE_STUNDE:  23\n"
     ]
    }
   ],
   "source": [
    "# Checking min and max values for TATZEIT_ENDE_STUNDE\n",
    "print(\"Min value for TATZEIT_ENDE_STUNDE: \", dataset_berlin_fahrraddiebstahl['TATZEIT_ENDE_STUNDE'].min())\n",
    "print(\"Max value for TATZEIT_ENDE_STUNDE: \", dataset_berlin_fahrraddiebstahl['TATZEIT_ENDE_STUNDE'].max())"
   ]
  },
  {
   "cell_type": "code",
   "execution_count": 879,
   "metadata": {},
   "outputs": [
    {
     "name": "stdout",
     "output_type": "stream",
     "text": [
      "0        11:00\n",
      "1        12:00\n",
      "2        20:00\n",
      "3        00:00\n",
      "4        13:00\n",
      "         ...  \n",
      "22122    09:00\n",
      "22123    11:00\n",
      "22124    09:00\n",
      "22125    18:00\n",
      "22126    12:00\n",
      "Name: TATZEIT_ENDE_STUNDE, Length: 22077, dtype: object\n"
     ]
    }
   ],
   "source": [
    "# Format the 'TATZEIT_ENDE_STUNDE' column\n",
    "dataset_berlin_fahrraddiebstahl['TATZEIT_ENDE_STUNDE'] = dataset_berlin_fahrraddiebstahl['TATZEIT_ENDE_STUNDE'].apply(lambda x: f\"{x:02d}:00\")\n",
    "\n",
    "# Now the DataFrame has an additional column 'formatted_hour' with the time formatted as \"HH:00\"\n",
    "print(dataset_berlin_fahrraddiebstahl['TATZEIT_ENDE_STUNDE'])"
   ]
  },
  {
   "cell_type": "code",
   "execution_count": 880,
   "metadata": {},
   "outputs": [
    {
     "data": {
      "image/png": "[encoded data removed]",
      "text/plain": [
       "<Figure size 640x480 with 1 Axes>"
      ]
     },
     "metadata": {},
     "output_type": "display_data"
    }
   ],
   "source": [
    "# Plotting lineplot for TATZEIT_ENDE_STUNDE\n",
    "plot_lineplot(dataset_berlin_fahrraddiebstahl, 'TATZEIT_ENDE_STUNDE', working_hours=True, parking_hours=True)"
   ]
  },
  {
   "cell_type": "markdown",
   "metadata": {},
   "source": [
    "#### Checking SCHADENSHOEHE column"
   ]
  },
  {
   "cell_type": "code",
   "execution_count": 881,
   "metadata": {},
   "outputs": [
    {
     "name": "stdout",
     "output_type": "stream",
     "text": [
      "<class 'pandas.core.series.Series'>\n",
      "Int64Index: 22077 entries, 0 to 22126\n",
      "Series name: SCHADENSHOEHE\n",
      "Non-Null Count  Dtype\n",
      "--------------  -----\n",
      "22077 non-null  int64\n",
      "dtypes: int64(1)\n",
      "memory usage: 345.0 KB\n"
     ]
    }
   ],
   "source": [
    "# Checking the data type of SCHADENSHOEHE column\n",
    "dataset_berlin_fahrraddiebstahl[\"SCHADENSHOEHE\"].info()"
   ]
  },
  {
   "cell_type": "code",
   "execution_count": 882,
   "metadata": {},
   "outputs": [
    {
     "name": "stdout",
     "output_type": "stream",
     "text": [
      "count    22077.000000\n",
      "mean      1152.600625\n",
      "std       1143.071598\n",
      "min          0.000000\n",
      "25%        472.000000\n",
      "50%        799.000000\n",
      "75%       1399.000000\n",
      "max      10000.000000\n",
      "Name: SCHADENSHOEHE, dtype: float64\n"
     ]
    }
   ],
   "source": [
    "# Printing the first 3 rows of SCHADENSHOEHE column\n",
    "print(dataset_berlin_fahrraddiebstahl['SCHADENSHOEHE'].describe())"
   ]
  },
  {
   "cell_type": "code",
   "execution_count": 883,
   "metadata": {},
   "outputs": [
    {
     "name": "stdout",
     "output_type": "stream",
     "text": [
      "Skewness: 2.675129744421664\n",
      "Kurtosis: 10.309509302440869\n"
     ]
    }
   ],
   "source": [
    "# Calculating the skewness and kurtosis for SCHADENSHOEHE column\n",
    "SCHADENSHOEHE_skewness = dataset_berlin_fahrraddiebstahl['SCHADENSHOEHE'].skew()\n",
    "SCHADENSHOEHE_kurtosis = dataset_berlin_fahrraddiebstahl['SCHADENSHOEHE'].kurtosis()\n",
    "\n",
    "print(f'Skewness: {SCHADENSHOEHE_skewness}')\n",
    "print(f'Kurtosis: {SCHADENSHOEHE_kurtosis}')"
   ]
  },
  {
   "cell_type": "markdown",
   "metadata": {},
   "source": [
    "Skewness (2.673797309410892):\n",
    "A skewness value greater than 0, especially higher than 1, indicates a positively skewed (right-skewed) distribution.\n",
    "This means that the majority of the data points are concentrated on the lower side of the scale, but there are some exceptionally high values (i.e., a long right tail).\n",
    "In the context of prices, it suggests that while most of the items have lower prices, there are a few items with very high prices.\n",
    "\n",
    "Kurtosis (10.302528203073297):\n",
    "A kurtosis value significantly greater than 0 suggests a leptokurtic distribution.\n",
    "This type of distribution has a sharper peak and fatter tails compared to a normal distribution.\n",
    "It indicates that the data has more frequent and severe outliers than a normal distribution would predict.\n",
    "\n",
    "Implications:\n",
    "The positive skewness suggests that any mean-based analysis might be skewed by these high-value outliers. The median might be a more representative measure of central tendency for this data.\n",
    "The high kurtosis value alerts you to the presence of outliers, which might need special attention or treatment, especially in tasks like predictive modeling.\n",
    "So i decided to choose outliers regarding 4 Sigma rule."
   ]
  },
  {
   "cell_type": "code",
   "execution_count": 884,
   "metadata": {},
   "outputs": [
    {
     "name": "stdout",
     "output_type": "stream",
     "text": [
      "Identified outliers: 221\n"
     ]
    }
   ],
   "source": [
    "# Calculating mean and standard deviation\n",
    "mean = dataset_berlin_fahrraddiebstahl['SCHADENSHOEHE'].mean()\n",
    "std_dev = dataset_berlin_fahrraddiebstahl['SCHADENSHOEHE'].std()\n",
    "\n",
    "# Determining bounds for outliers (4-sigma rule)\n",
    "schadenshoehe_lower_bound = mean - 4 * std_dev\n",
    "schadenshoehe_upper_bound = mean + 4 * std_dev\n",
    "\n",
    "# Identifing outliers\n",
    "SCHADENSHOEHE_outliers = dataset_berlin_fahrraddiebstahl[(dataset_berlin_fahrraddiebstahl['SCHADENSHOEHE'] < schadenshoehe_lower_bound) | (dataset_berlin_fahrraddiebstahl['SCHADENSHOEHE'] > schadenshoehe_upper_bound)]\n",
    "\n",
    "# Saving row numbers of outliers for future removal possibilities\n",
    "outliers_row_numbers = SCHADENSHOEHE_outliers.index.values.tolist()\n",
    "\n",
    "# Printing total number of outliers\n",
    "print('Identified outliers: %d' % SCHADENSHOEHE_outliers.shape[0])"
   ]
  },
  {
   "cell_type": "code",
   "execution_count": 885,
   "metadata": {},
   "outputs": [
    {
     "data": {
      "image/png": "[encoded data removed]",
      "text/plain": [
       "<Figure size 640x480 with 1 Axes>"
      ]
     },
     "metadata": {},
     "output_type": "display_data"
    }
   ],
   "source": [
    "# Creating a histogram for SCHADENSHOEHE with signing the outliers\n",
    "plt.hist(dataset_berlin_fahrraddiebstahl['SCHADENSHOEHE'], bins=50, edgecolor='black')\n",
    "plt.title('Distribution of SCHADENSHOEHE')\n",
    "plt.xlabel('SCHADENSHOEHE')\n",
    "plt.ylabel('Frequency')\n",
    "\n",
    "# Adding red lines for the mean and median\n",
    "plt.axvline(dataset_berlin_fahrraddiebstahl['SCHADENSHOEHE'].mean(), color='red', linestyle='dashed', linewidth=1)\n",
    "plt.axvline(dataset_berlin_fahrraddiebstahl['SCHADENSHOEHE'].median(), color='red', linestyle='dashed', linewidth=1)\n",
    "\n",
    "# Adding yellow lines for the outliers\n",
    "plt.axvline(schadenshoehe_upper_bound, color='yellow', linestyle='dashed', linewidth=1)\n",
    "plt.show()"
   ]
  },
  {
   "cell_type": "code",
   "execution_count": 886,
   "metadata": {},
   "outputs": [
    {
     "name": "stdout",
     "output_type": "stream",
     "text": [
      "Shape of dataset_berlin_fahrraddiebstahl before dropping outliers:  (22077, 16)\n",
      "Shape of dataset_berlin_fahrraddiebstahl after dropping outliers:  (21856, 16)\n"
     ]
    }
   ],
   "source": [
    "# Printing the shape of the dataset\n",
    "print(\"Shape of dataset_berlin_fahrraddiebstahl before dropping outliers: \", dataset_berlin_fahrraddiebstahl.shape)\n",
    "\n",
    "# Dropping rows which are identified as outliers\n",
    "dataset_berlin_fahrraddiebstahl.drop(outliers_row_numbers, inplace=True)\n",
    "\n",
    "# Printing the shape of the dataset\n",
    "print(\"Shape of dataset_berlin_fahrraddiebstahl after dropping outliers: \", dataset_berlin_fahrraddiebstahl.shape)"
   ]
  },
  {
   "cell_type": "markdown",
   "metadata": {},
   "source": [
    "#### Checking VERSUCH column"
   ]
  },
  {
   "cell_type": "code",
   "execution_count": 887,
   "metadata": {},
   "outputs": [
    {
     "name": "stdout",
     "output_type": "stream",
     "text": [
      "<class 'pandas.core.series.Series'>\n",
      "Int64Index: 21856 entries, 0 to 22126\n",
      "Series name: VERSUCH\n",
      "Non-Null Count  Dtype \n",
      "--------------  ----- \n",
      "21856 non-null  object\n",
      "dtypes: object(1)\n",
      "memory usage: 341.5+ KB\n"
     ]
    }
   ],
   "source": [
    "# Checking the data type of VERSUCH column\n",
    "dataset_berlin_fahrraddiebstahl[\"VERSUCH\"].info()"
   ]
  },
  {
   "cell_type": "code",
   "execution_count": 888,
   "metadata": {},
   "outputs": [
    {
     "name": "stdout",
     "output_type": "stream",
     "text": [
      "count     21856\n",
      "unique        3\n",
      "top        Nein\n",
      "freq      21751\n",
      "Name: VERSUCH, dtype: object\n"
     ]
    }
   ],
   "source": [
    "# Describing the VERSUCH column\n",
    "print(dataset_berlin_fahrraddiebstahl['VERSUCH'].describe())"
   ]
  },
  {
   "cell_type": "code",
   "execution_count": 889,
   "metadata": {},
   "outputs": [],
   "source": [
    "# Changing the data type of VERSUCH to category\n",
    "dataset_berlin_fahrraddiebstahl['VERSUCH'] = dataset_berlin_fahrraddiebstahl['VERSUCH'].astype('category')"
   ]
  },
  {
   "cell_type": "code",
   "execution_count": 890,
   "metadata": {},
   "outputs": [
    {
     "name": "stdout",
     "output_type": "stream",
     "text": [
      "Nein         21751\n",
      "Ja              96\n",
      "Unbekannt        9\n",
      "Name: VERSUCH, dtype: int64\n",
      "----------------------------------------------------\n",
      "Nein         0.995196\n",
      "Ja           0.004392\n",
      "Unbekannt    0.000412\n",
      "Name: VERSUCH, dtype: float64\n"
     ]
    }
   ],
   "source": [
    "# Checking distribution of VERSUCH column\n",
    "print(dataset_berlin_fahrraddiebstahl['VERSUCH'].value_counts())\n",
    "print(\"----------------------------------------------------\")\n",
    "\n",
    "# Checking proportion of VERSUCH column\n",
    "print(dataset_berlin_fahrraddiebstahl['VERSUCH'].value_counts(normalize=True))\n"
   ]
  },
  {
   "cell_type": "code",
   "execution_count": 891,
   "metadata": {},
   "outputs": [
    {
     "data": {
      "image/png": "[encoded data removed]",
      "text/plain": [
       "<Figure size 640x480 with 1 Axes>"
      ]
     },
     "metadata": {},
     "output_type": "display_data"
    }
   ],
   "source": [
    "# Creating the bar plot\n",
    "ax = sns.countplot(x='VERSUCH', data=dataset_berlin_fahrraddiebstahl)\n",
    "plt.xlabel('VERSUCH')\n",
    "plt.ylabel('Frequency')\n",
    "plt.title('Frequency of Each Category in VERSUCH')\n",
    "\n",
    "# Annotating each bar with its count\n",
    "for p in ax.patches:\n",
    "    ax.annotate(f'{int(p.get_height())}', (p.get_x() + p.get_width() / 2., p.get_height()), ha='center', va='center', xytext=(0, 10), textcoords='offset points')\n",
    "\n",
    "plt.show()\n"
   ]
  },
  {
   "cell_type": "markdown",
   "metadata": {},
   "source": [
    "#### Checking ART_DES_FAHRRADS column"
   ]
  },
  {
   "cell_type": "code",
   "execution_count": 892,
   "metadata": {},
   "outputs": [
    {
     "name": "stdout",
     "output_type": "stream",
     "text": [
      "<class 'pandas.core.series.Series'>\n",
      "Int64Index: 21856 entries, 0 to 22126\n",
      "Series name: ART_DES_FAHRRADS\n",
      "Non-Null Count  Dtype \n",
      "--------------  ----- \n",
      "21856 non-null  object\n",
      "dtypes: object(1)\n",
      "memory usage: 341.5+ KB\n"
     ]
    }
   ],
   "source": [
    "# Checking the data type of ART_DES_FAHRRADS column\n",
    "dataset_berlin_fahrraddiebstahl[\"ART_DES_FAHRRADS\"].info()"
   ]
  },
  {
   "cell_type": "code",
   "execution_count": 893,
   "metadata": {},
   "outputs": [
    {
     "name": "stdout",
     "output_type": "stream",
     "text": [
      "count             21856\n",
      "unique                8\n",
      "top       Herrenfahrrad\n",
      "freq               9957\n",
      "Name: ART_DES_FAHRRADS, dtype: object\n"
     ]
    }
   ],
   "source": [
    "# Describing the ART_DES_FAHRRADS column\n",
    "print(dataset_berlin_fahrraddiebstahl['ART_DES_FAHRRADS'].describe())"
   ]
  },
  {
   "cell_type": "code",
   "execution_count": 894,
   "metadata": {},
   "outputs": [],
   "source": [
    "# Changing the data type of ART_DES_FAHRRADS to category\n",
    "dataset_berlin_fahrraddiebstahl['ART_DES_FAHRRADS'] = dataset_berlin_fahrraddiebstahl['ART_DES_FAHRRADS'].astype('category')"
   ]
  },
  {
   "cell_type": "code",
   "execution_count": 895,
   "metadata": {},
   "outputs": [
    {
     "name": "stdout",
     "output_type": "stream",
     "text": [
      "Herrenfahrrad        9957\n",
      "Damenfahrrad         5732\n",
      "Fahrrad              3325\n",
      "Kinderfahrrad         922\n",
      "Mountainbike          893\n",
      "diverse Fahrräder     575\n",
      "Rennrad               387\n",
      "Lastenfahrrad          65\n",
      "Name: ART_DES_FAHRRADS, dtype: int64\n",
      "----------------------------------------------------\n",
      "Herrenfahrrad        0.455573\n",
      "Damenfahrrad         0.262262\n",
      "Fahrrad              0.152132\n",
      "Kinderfahrrad        0.042185\n",
      "Mountainbike         0.040858\n",
      "diverse Fahrräder    0.026309\n",
      "Rennrad              0.017707\n",
      "Lastenfahrrad        0.002974\n",
      "Name: ART_DES_FAHRRADS, dtype: float64\n"
     ]
    }
   ],
   "source": [
    "# Checking distribution of ART_DES_FAHRRADS column\n",
    "print(dataset_berlin_fahrraddiebstahl['ART_DES_FAHRRADS'].value_counts())\n",
    "print(\"----------------------------------------------------\")\n",
    "\n",
    "# Checking proportion of ART_DES_FAHRRADS column\n",
    "print(dataset_berlin_fahrraddiebstahl['ART_DES_FAHRRADS'].value_counts(normalize=True))"
   ]
  },
  {
   "cell_type": "code",
   "execution_count": 896,
   "metadata": {},
   "outputs": [
    {
     "data": {
      "image/png": "[encoded data removed]",
      "text/plain": [
       "<Figure size 640x480 with 1 Axes>"
      ]
     },
     "metadata": {},
     "output_type": "display_data"
    }
   ],
   "source": [
    "# Creating the bar plot\n",
    "ax = sns.countplot(x='ART_DES_FAHRRADS', data=dataset_berlin_fahrraddiebstahl)\n",
    "plt.xlabel('ART_DES_FAHRRADS')\n",
    "\n",
    "#Rotating the x labels\n",
    "plt.xticks(rotation=45)\n",
    "plt.ylabel('Frequency')\n",
    "plt.title('Frequency of Each Category in ART_DES_FAHRRADS')\n",
    "\n",
    "# Annotating each bar with its count\n",
    "for p in ax.patches:\n",
    "    ax.annotate(f'{int(p.get_height())}', (p.get_x() + p.get_width() / 2., p.get_height()), ha='center', va='center', xytext=(0, 10), textcoords='offset points')\n",
    "\n",
    "plt.show()"
   ]
  },
  {
   "cell_type": "markdown",
   "metadata": {},
   "source": [
    "#### Checking DELIKT column"
   ]
  },
  {
   "cell_type": "code",
   "execution_count": 897,
   "metadata": {},
   "outputs": [
    {
     "name": "stdout",
     "output_type": "stream",
     "text": [
      "<class 'pandas.core.series.Series'>\n",
      "Int64Index: 21856 entries, 0 to 22126\n",
      "Series name: DELIKT\n",
      "Non-Null Count  Dtype \n",
      "--------------  ----- \n",
      "21856 non-null  object\n",
      "dtypes: object(1)\n",
      "memory usage: 341.5+ KB\n"
     ]
    }
   ],
   "source": [
    "# Checking the data type of DELIKT column\n",
    "dataset_berlin_fahrraddiebstahl[\"DELIKT\"].info()"
   ]
  },
  {
   "cell_type": "code",
   "execution_count": 898,
   "metadata": {},
   "outputs": [
    {
     "name": "stdout",
     "output_type": "stream",
     "text": [
      "count                21856\n",
      "unique                   2\n",
      "top       Fahrraddiebstahl\n",
      "freq                 20570\n",
      "Name: DELIKT, dtype: object\n"
     ]
    }
   ],
   "source": [
    "# Describing the DELIKT column\n",
    "print(dataset_berlin_fahrraddiebstahl['DELIKT'].describe())"
   ]
  },
  {
   "cell_type": "code",
   "execution_count": 899,
   "metadata": {},
   "outputs": [],
   "source": [
    "# Changing the data type of DELIKT to category\n",
    "dataset_berlin_fahrraddiebstahl['DELIKT'] = dataset_berlin_fahrraddiebstahl['DELIKT'].astype('category')"
   ]
  },
  {
   "cell_type": "code",
   "execution_count": 900,
   "metadata": {},
   "outputs": [
    {
     "name": "stdout",
     "output_type": "stream",
     "text": [
      "Fahrraddiebstahl             20570\n",
      "Keller- und Bodeneinbruch     1286\n",
      "Name: DELIKT, dtype: int64\n",
      "----------------------------------------------------\n",
      "Fahrraddiebstahl             0.94116\n",
      "Keller- und Bodeneinbruch    0.05884\n",
      "Name: DELIKT, dtype: float64\n"
     ]
    }
   ],
   "source": [
    "# Checking distribution of DELIKT column\n",
    "print(dataset_berlin_fahrraddiebstahl['DELIKT'].value_counts())\n",
    "print(\"----------------------------------------------------\")\n",
    "\n",
    "# Checking proportion of DELIKT column\n",
    "print(dataset_berlin_fahrraddiebstahl['DELIKT'].value_counts(normalize=True))"
   ]
  },
  {
   "cell_type": "code",
   "execution_count": 901,
   "metadata": {},
   "outputs": [
    {
     "data": {
      "image/png": "[encoded data removed]",
      "text/plain": [
       "<Figure size 640x480 with 1 Axes>"
      ]
     },
     "metadata": {},
     "output_type": "display_data"
    }
   ],
   "source": [
    "# Creating the bar plot\n",
    "ax = sns.countplot(x='DELIKT', data=dataset_berlin_fahrraddiebstahl)\n",
    "plt.xlabel('DELIKT')\n",
    "plt.ylabel('Frequency')\n",
    "plt.title('Frequency of Each Category in DELIKT')\n",
    "\n",
    "# Annotating each bar with its count\n",
    "for p in ax.patches:\n",
    "    ax.annotate(f'{int(p.get_height())}', (p.get_x() + p.get_width() / 2., p.get_height()), ha='center', va='center', xytext=(0, 10), textcoords='offset points')\n",
    "\n",
    "plt.show()"
   ]
  },
  {
   "cell_type": "markdown",
   "metadata": {},
   "source": [
    "#### Checking ERFASSUNGSGRUND column"
   ]
  },
  {
   "cell_type": "code",
   "execution_count": 902,
   "metadata": {},
   "outputs": [
    {
     "name": "stdout",
     "output_type": "stream",
     "text": [
      "<class 'pandas.core.series.Series'>\n",
      "Int64Index: 21856 entries, 0 to 22126\n",
      "Series name: ERFASSUNGSGRUND\n",
      "Non-Null Count  Dtype \n",
      "--------------  ----- \n",
      "21856 non-null  object\n",
      "dtypes: object(1)\n",
      "memory usage: 341.5+ KB\n"
     ]
    }
   ],
   "source": [
    "# Checking the data type of ERFASSUNGSGRUND column\n",
    "dataset_berlin_fahrraddiebstahl[\"ERFASSUNGSGRUND\"].info()"
   ]
  },
  {
   "cell_type": "code",
   "execution_count": 903,
   "metadata": {},
   "outputs": [
    {
     "name": "stdout",
     "output_type": "stream",
     "text": [
      "count                                           21856\n",
      "unique                                              4\n",
      "top       Sonstiger schwerer Diebstahl von Fahrrädern\n",
      "freq                                            19450\n",
      "Name: ERFASSUNGSGRUND, dtype: object\n"
     ]
    }
   ],
   "source": [
    "# Describing the ERFASSUNGSGRUND column\n",
    "print(dataset_berlin_fahrraddiebstahl['ERFASSUNGSGRUND'].describe())"
   ]
  },
  {
   "cell_type": "code",
   "execution_count": 904,
   "metadata": {},
   "outputs": [],
   "source": [
    "dataset_berlin_fahrraddiebstahl['ERFASSUNGSGRUND'] = dataset_berlin_fahrraddiebstahl['ERFASSUNGSGRUND'].astype('category')"
   ]
  },
  {
   "cell_type": "code",
   "execution_count": 905,
   "metadata": {},
   "outputs": [
    {
     "name": "stdout",
     "output_type": "stream",
     "text": [
      "Sonstiger schwerer Diebstahl von Fahrrädern                        19450\n",
      "Sonstiger schwerer Diebstahl in/aus Keller/Boden von Fahrrädern     1286\n",
      "Einfacher Diebstahl von Fahrrädern                                  1073\n",
      "Einfacher Diebstahl aus Keller/Boden von Fahrrädern                   47\n",
      "Name: ERFASSUNGSGRUND, dtype: int64\n",
      "----------------------------------------------------\n",
      "Sonstiger schwerer Diebstahl von Fahrrädern                        0.889916\n",
      "Sonstiger schwerer Diebstahl in/aus Keller/Boden von Fahrrädern    0.058840\n",
      "Einfacher Diebstahl von Fahrrädern                                 0.049094\n",
      "Einfacher Diebstahl aus Keller/Boden von Fahrrädern                0.002150\n",
      "Name: ERFASSUNGSGRUND, dtype: float64\n"
     ]
    }
   ],
   "source": [
    "# Checking distribution of ERFASSUNGSGRUND column\n",
    "print(dataset_berlin_fahrraddiebstahl['ERFASSUNGSGRUND'].value_counts())\n",
    "print(\"----------------------------------------------------\")\n",
    "\n",
    "# Checking proportion of ERFASSUNGSGRUND column\n",
    "print(dataset_berlin_fahrraddiebstahl['ERFASSUNGSGRUND'].value_counts(normalize=True))"
   ]
  },
  {
   "cell_type": "code",
   "execution_count": 906,
   "metadata": {},
   "outputs": [
    {
     "data": {
      "image/png": "[encoded data removed]",
      "text/plain": [
       "<Figure size 640x480 with 1 Axes>"
      ]
     },
     "metadata": {},
     "output_type": "display_data"
    }
   ],
   "source": [
    "# Creating the bar plot\n",
    "ax = sns.countplot(x='ERFASSUNGSGRUND', data=dataset_berlin_fahrraddiebstahl)\n",
    "plt.xlabel('ERFASSUNGSGRUND')\n",
    "\n",
    "# Rotating the x labels\n",
    "plt.xticks(rotation=80)\n",
    "plt.ylabel('Frequency')\n",
    "plt.title('Frequency of Each Category in ERFASSUNGSGRUND')\n",
    "\n",
    "# Annotating each bar with its count\n",
    "for p in ax.patches:\n",
    "    ax.annotate(f'{int(p.get_height())}', (p.get_x() + p.get_width() / 2., p.get_height()), ha='center', va='center', xytext=(0, 10), textcoords='offset points')\n",
    "\n",
    "plt.show()"
   ]
  },
  {
   "cell_type": "code",
   "execution_count": 907,
   "metadata": {},
   "outputs": [
    {
     "name": "stderr",
     "output_type": "stream",
     "text": [
      "C:\\Users\\MehmetCemAkuras\\AppData\\Local\\Temp\\ipykernel_7416\\2588556358.py:2: FutureWarning: The default value of numeric_only in DataFrame.corr is deprecated. In a future version, it will default to False. Select only valid columns or specify the value of numeric_only to silence this warning.\n",
      "  dataset_berlin_fahrraddiebstahl.corr()\n"
     ]
    },
    {
     "data": {
      "text/html": [
       "<div>\n",
       "<style scoped>\n",
       "    .dataframe tbody tr th:only-of-type {\n",
       "        vertical-align: middle;\n",
       "    }\n",
       "\n",
       "    .dataframe tbody tr th {\n",
       "        vertical-align: top;\n",
       "    }\n",
       "\n",
       "    .dataframe thead th {\n",
       "        text-align: right;\n",
       "    }\n",
       "</style>\n",
       "<table border=\"1\" class=\"dataframe\">\n",
       "  <thead>\n",
       "    <tr style=\"text-align: right;\">\n",
       "      <th></th>\n",
       "      <th>SCHADENSHOEHE</th>\n",
       "    </tr>\n",
       "  </thead>\n",
       "  <tbody>\n",
       "    <tr>\n",
       "      <th>SCHADENSHOEHE</th>\n",
       "      <td>1.0</td>\n",
       "    </tr>\n",
       "  </tbody>\n",
       "</table>\n",
       "</div>"
      ],
      "text/plain": [
       "               SCHADENSHOEHE\n",
       "SCHADENSHOEHE            1.0"
      ]
     },
     "execution_count": 907,
     "metadata": {},
     "output_type": "execute_result"
    }
   ],
   "source": [
    "# Checking correlation matrix\n",
    "dataset_berlin_fahrraddiebstahl.corr()"
   ]
  },
  {
   "cell_type": "code",
   "execution_count": 908,
   "metadata": {},
   "outputs": [
    {
     "data": {
      "text/html": [
       "<div>\n",
       "<style scoped>\n",
       "    .dataframe tbody tr th:only-of-type {\n",
       "        vertical-align: middle;\n",
       "    }\n",
       "\n",
       "    .dataframe tbody tr th {\n",
       "        vertical-align: top;\n",
       "    }\n",
       "\n",
       "    .dataframe thead th {\n",
       "        text-align: right;\n",
       "    }\n",
       "</style>\n",
       "<table border=\"1\" class=\"dataframe\">\n",
       "  <thead>\n",
       "    <tr style=\"text-align: right;\">\n",
       "      <th></th>\n",
       "      <th>ANGELEGT_AM</th>\n",
       "      <th>TATZEIT_ANFANG_DATUM</th>\n",
       "      <th>TATZEIT_ANFANG_STUNDE</th>\n",
       "      <th>TATZEIT_ENDE_DATUM</th>\n",
       "      <th>TATZEIT_ENDE_STUNDE</th>\n",
       "      <th>LOR</th>\n",
       "      <th>SCHADENSHOEHE</th>\n",
       "      <th>VERSUCH</th>\n",
       "      <th>ART_DES_FAHRRADS</th>\n",
       "      <th>DELIKT</th>\n",
       "      <th>ERFASSUNGSGRUND</th>\n",
       "      <th>bezirk_id</th>\n",
       "      <th>PGR</th>\n",
       "      <th>BZR</th>\n",
       "      <th>PLR</th>\n",
       "      <th>bezirk_name</th>\n",
       "    </tr>\n",
       "  </thead>\n",
       "  <tbody>\n",
       "    <tr>\n",
       "      <th>0</th>\n",
       "      <td>2024-01-14</td>\n",
       "      <td>2024-01-13</td>\n",
       "      <td>17:00</td>\n",
       "      <td>2024-01-14</td>\n",
       "      <td>11:00</td>\n",
       "      <td>07300515</td>\n",
       "      <td>110</td>\n",
       "      <td>Nein</td>\n",
       "      <td>Herrenfahrrad</td>\n",
       "      <td>Fahrraddiebstahl</td>\n",
       "      <td>Sonstiger schwerer Diebstahl von Fahrrädern</td>\n",
       "      <td>7</td>\n",
       "      <td>30</td>\n",
       "      <td>05</td>\n",
       "      <td>15</td>\n",
       "      <td>Tempelhof-Schöneberg</td>\n",
       "    </tr>\n",
       "    <tr>\n",
       "      <th>1</th>\n",
       "      <td>2024-01-14</td>\n",
       "      <td>2024-01-13</td>\n",
       "      <td>16:00</td>\n",
       "      <td>2024-01-14</td>\n",
       "      <td>12:00</td>\n",
       "      <td>08100416</td>\n",
       "      <td>999</td>\n",
       "      <td>Nein</td>\n",
       "      <td>Damenfahrrad</td>\n",
       "      <td>Fahrraddiebstahl</td>\n",
       "      <td>Sonstiger schwerer Diebstahl von Fahrrädern</td>\n",
       "      <td>8</td>\n",
       "      <td>10</td>\n",
       "      <td>04</td>\n",
       "      <td>16</td>\n",
       "      <td>Neukölln</td>\n",
       "    </tr>\n",
       "  </tbody>\n",
       "</table>\n",
       "</div>"
      ],
      "text/plain": [
       "  ANGELEGT_AM TATZEIT_ANFANG_DATUM TATZEIT_ANFANG_STUNDE TATZEIT_ENDE_DATUM  \\\n",
       "0  2024-01-14           2024-01-13                 17:00         2024-01-14   \n",
       "1  2024-01-14           2024-01-13                 16:00         2024-01-14   \n",
       "\n",
       "  TATZEIT_ENDE_STUNDE       LOR  SCHADENSHOEHE VERSUCH ART_DES_FAHRRADS  \\\n",
       "0               11:00  07300515            110    Nein    Herrenfahrrad   \n",
       "1               12:00  08100416            999    Nein     Damenfahrrad   \n",
       "\n",
       "             DELIKT                              ERFASSUNGSGRUND bezirk_id  \\\n",
       "0  Fahrraddiebstahl  Sonstiger schwerer Diebstahl von Fahrrädern         7   \n",
       "1  Fahrraddiebstahl  Sonstiger schwerer Diebstahl von Fahrrädern         8   \n",
       "\n",
       "  PGR BZR PLR           bezirk_name  \n",
       "0  30  05  15  Tempelhof-Schöneberg  \n",
       "1  10  04  16              Neukölln  "
      ]
     },
     "execution_count": 908,
     "metadata": {},
     "output_type": "execute_result"
    }
   ],
   "source": [
    "# Plotting the correlation matrix\n",
    "dataset_berlin_fahrraddiebstahl.head(2)"
   ]
  },
  {
   "cell_type": "code",
   "execution_count": 909,
   "metadata": {},
   "outputs": [],
   "source": [
    "# WARNING: The following code block updates the hour in TATZEIT_ANFANG_DATUM and TATZEIT_ENDE_DATUM,\n",
    "# and removes the TATZEIT_ANFANG_STUNDE and TATZEIT_ENDE_STUNDE columns.\n",
    "# Set this to True if you need to perform the update and removal\n",
    "perform_update = False\n",
    "\n",
    "if perform_update:\n",
    "    # Updating the hour in TATZEIT_ANFANG_DATUM with the hour from TATZEIT_ANFANG_STUNDE\n",
    "    dataset_berlin_fahrraddiebstahl['TATZEIT_ANFANG_DATUM'] = dataset_berlin_fahrraddiebstahl.apply(\n",
    "        lambda row: row['TATZEIT_ANFANG_DATUM'].replace(hour=int(row['TATZEIT_ANFANG_STUNDE'])), axis=1\n",
    "    )\n",
    "\n",
    "    # Updating the hour in TATZEIT_ENDE_DATUM with the hour from TATZEIT_ENDE_STUNDE\n",
    "    dataset_berlin_fahrraddiebstahl['TATZEIT_ENDE_DATUM'] = dataset_berlin_fahrraddiebstahl.apply(\n",
    "        lambda row: row['TATZEIT_ENDE_DATUM'].replace(hour=int(row['TATZEIT_ENDE_STUNDE'])), axis=1\n",
    "    )\n",
    "\n",
    "    # Removing TATZEIT_ANFANG_STUNDE and TATZEIT_ENDE_STUNDE columns\n",
    "    dataset_berlin_fahrraddiebstahl.drop(columns=['TATZEIT_ANFANG_STUNDE', 'TATZEIT_ENDE_STUNDE'], inplace=True)\n",
    "\n",
    "    # Checking the first few rows to confirm the change\n",
    "    print(dataset_berlin_fahrraddiebstahl.head(3))"
   ]
  },
  {
   "cell_type": "code",
   "execution_count": 910,
   "metadata": {},
   "outputs": [
    {
     "data": {
      "text/html": [
       "<div>\n",
       "<style scoped>\n",
       "    .dataframe tbody tr th:only-of-type {\n",
       "        vertical-align: middle;\n",
       "    }\n",
       "\n",
       "    .dataframe tbody tr th {\n",
       "        vertical-align: top;\n",
       "    }\n",
       "\n",
       "    .dataframe thead th {\n",
       "        text-align: right;\n",
       "    }\n",
       "</style>\n",
       "<table border=\"1\" class=\"dataframe\">\n",
       "  <thead>\n",
       "    <tr style=\"text-align: right;\">\n",
       "      <th></th>\n",
       "      <th>ANGELEGT_AM</th>\n",
       "      <th>TATZEIT_ANFANG_DATUM</th>\n",
       "      <th>TATZEIT_ANFANG_STUNDE</th>\n",
       "      <th>TATZEIT_ENDE_DATUM</th>\n",
       "      <th>TATZEIT_ENDE_STUNDE</th>\n",
       "      <th>LOR</th>\n",
       "      <th>SCHADENSHOEHE</th>\n",
       "      <th>VERSUCH</th>\n",
       "      <th>ART_DES_FAHRRADS</th>\n",
       "      <th>DELIKT</th>\n",
       "      <th>ERFASSUNGSGRUND</th>\n",
       "      <th>bezirk_id</th>\n",
       "      <th>PGR</th>\n",
       "      <th>BZR</th>\n",
       "      <th>PLR</th>\n",
       "      <th>bezirk_name</th>\n",
       "      <th>ZEITUNTERSCHIED</th>\n",
       "    </tr>\n",
       "  </thead>\n",
       "  <tbody>\n",
       "    <tr>\n",
       "      <th>0</th>\n",
       "      <td>2024-01-14</td>\n",
       "      <td>2024-01-13</td>\n",
       "      <td>17:00</td>\n",
       "      <td>2024-01-14</td>\n",
       "      <td>11:00</td>\n",
       "      <td>07300515</td>\n",
       "      <td>110</td>\n",
       "      <td>Nein</td>\n",
       "      <td>Herrenfahrrad</td>\n",
       "      <td>Fahrraddiebstahl</td>\n",
       "      <td>Sonstiger schwerer Diebstahl von Fahrrädern</td>\n",
       "      <td>7</td>\n",
       "      <td>30</td>\n",
       "      <td>05</td>\n",
       "      <td>15</td>\n",
       "      <td>Tempelhof-Schöneberg</td>\n",
       "      <td>1 days</td>\n",
       "    </tr>\n",
       "    <tr>\n",
       "      <th>1</th>\n",
       "      <td>2024-01-14</td>\n",
       "      <td>2024-01-13</td>\n",
       "      <td>16:00</td>\n",
       "      <td>2024-01-14</td>\n",
       "      <td>12:00</td>\n",
       "      <td>08100416</td>\n",
       "      <td>999</td>\n",
       "      <td>Nein</td>\n",
       "      <td>Damenfahrrad</td>\n",
       "      <td>Fahrraddiebstahl</td>\n",
       "      <td>Sonstiger schwerer Diebstahl von Fahrrädern</td>\n",
       "      <td>8</td>\n",
       "      <td>10</td>\n",
       "      <td>04</td>\n",
       "      <td>16</td>\n",
       "      <td>Neukölln</td>\n",
       "      <td>1 days</td>\n",
       "    </tr>\n",
       "    <tr>\n",
       "      <th>2</th>\n",
       "      <td>2024-01-14</td>\n",
       "      <td>2024-01-14</td>\n",
       "      <td>15:00</td>\n",
       "      <td>2024-01-14</td>\n",
       "      <td>20:00</td>\n",
       "      <td>02500830</td>\n",
       "      <td>399</td>\n",
       "      <td>Nein</td>\n",
       "      <td>Herrenfahrrad</td>\n",
       "      <td>Fahrraddiebstahl</td>\n",
       "      <td>Sonstiger schwerer Diebstahl von Fahrrädern</td>\n",
       "      <td>2</td>\n",
       "      <td>50</td>\n",
       "      <td>08</td>\n",
       "      <td>30</td>\n",
       "      <td>Friedrichshain-Kreuzberg</td>\n",
       "      <td>0 days</td>\n",
       "    </tr>\n",
       "  </tbody>\n",
       "</table>\n",
       "</div>"
      ],
      "text/plain": [
       "  ANGELEGT_AM TATZEIT_ANFANG_DATUM TATZEIT_ANFANG_STUNDE TATZEIT_ENDE_DATUM  \\\n",
       "0  2024-01-14           2024-01-13                 17:00         2024-01-14   \n",
       "1  2024-01-14           2024-01-13                 16:00         2024-01-14   \n",
       "2  2024-01-14           2024-01-14                 15:00         2024-01-14   \n",
       "\n",
       "  TATZEIT_ENDE_STUNDE       LOR  SCHADENSHOEHE VERSUCH ART_DES_FAHRRADS  \\\n",
       "0               11:00  07300515            110    Nein    Herrenfahrrad   \n",
       "1               12:00  08100416            999    Nein     Damenfahrrad   \n",
       "2               20:00  02500830            399    Nein    Herrenfahrrad   \n",
       "\n",
       "             DELIKT                              ERFASSUNGSGRUND bezirk_id  \\\n",
       "0  Fahrraddiebstahl  Sonstiger schwerer Diebstahl von Fahrrädern         7   \n",
       "1  Fahrraddiebstahl  Sonstiger schwerer Diebstahl von Fahrrädern         8   \n",
       "2  Fahrraddiebstahl  Sonstiger schwerer Diebstahl von Fahrrädern         2   \n",
       "\n",
       "  PGR BZR PLR               bezirk_name ZEITUNTERSCHIED  \n",
       "0  30  05  15      Tempelhof-Schöneberg          1 days  \n",
       "1  10  04  16                  Neukölln          1 days  \n",
       "2  50  08  30  Friedrichshain-Kreuzberg          0 days  "
      ]
     },
     "execution_count": 910,
     "metadata": {},
     "output_type": "execute_result"
    }
   ],
   "source": [
    "# Checking time difference between TATZEIT_ANFANG_DATUM and TATZEIT_ENDE_DATUM\n",
    "dataset_berlin_fahrraddiebstahl['ZEITUNTERSCHIED'] = dataset_berlin_fahrraddiebstahl['TATZEIT_ENDE_DATUM'] - dataset_berlin_fahrraddiebstahl['TATZEIT_ANFANG_DATUM']\n",
    "# Checking the first few rows to confirm the change\n",
    "dataset_berlin_fahrraddiebstahl.head(3)"
   ]
  },
  {
   "cell_type": "code",
   "execution_count": 911,
   "metadata": {},
   "outputs": [
    {
     "name": "stdout",
     "output_type": "stream",
     "text": [
      "Min value for ZEITUNTERSCHIED:  0 days 00:00:00\n",
      "Max value for ZEITUNTERSCHIED:  3 days 00:00:00\n"
     ]
    }
   ],
   "source": [
    "# Checking min and max values for ZEITUNTERSCHIED\n",
    "print(\"Min value for ZEITUNTERSCHIED: \", dataset_berlin_fahrraddiebstahl['ZEITUNTERSCHIED'].min())\n",
    "print(\"Max value for ZEITUNTERSCHIED: \", dataset_berlin_fahrraddiebstahl['ZEITUNTERSCHIED'].max())"
   ]
  },
  {
   "cell_type": "markdown",
   "metadata": {},
   "source": [
    "Max value for ZEITUNTERSCHIED is consistent with data on source website"
   ]
  },
  {
   "cell_type": "code",
   "execution_count": 912,
   "metadata": {},
   "outputs": [
    {
     "name": "stdout",
     "output_type": "stream",
     "text": [
      "Min value for ZEIT_BIS_TATZEIT:  -1 days +00:00:00\n",
      "Max value for ZEIT_BIS_TATZEIT:  369 days 00:00:00\n"
     ]
    }
   ],
   "source": [
    "# Calculating time difference between ANGELEGT_AM and TATZEIT_ANFANG_DATUM without hours\n",
    "dataset_berlin_fahrraddiebstahl['ZEIT_BIS_TATZEIT'] = dataset_berlin_fahrraddiebstahl['ANGELEGT_AM'].dt.date - dataset_berlin_fahrraddiebstahl['TATZEIT_ENDE_DATUM'].dt.date\n",
    "\n",
    "# Checking min and max values for ZEIT_BIS_TATZEIT\n",
    "print(\"Min value for ZEIT_BIS_TATZEIT: \", dataset_berlin_fahrraddiebstahl['ZEIT_BIS_TATZEIT'].min())\n",
    "print(\"Max value for ZEIT_BIS_TATZEIT: \", dataset_berlin_fahrraddiebstahl['ZEIT_BIS_TATZEIT'].max())"
   ]
  },
  {
   "cell_type": "markdown",
   "metadata": {},
   "source": [
    "Theft cannot be recorded before it occurres. Therefore, where ZEIT_BIS_TATZEIT data has a negative value, the ANGELEGT_AM value will be equalised to TATZEIT_ENDE_DATUM."
   ]
  },
  {
   "cell_type": "code",
   "execution_count": 913,
   "metadata": {},
   "outputs": [
    {
     "name": "stdout",
     "output_type": "stream",
     "text": [
      "Quantity of negative values for ZEIT_BIS_TATZEIT:  3\n",
      "Row numbers of negative values for ZEIT_BIS_TATZEIT:  [3124, 3159, 13692]\n"
     ]
    }
   ],
   "source": [
    "# Showing quantity of negative values for ZEIT_BIS_TATZEIT\n",
    "print(\"Quantity of negative values for ZEIT_BIS_TATZEIT: \", dataset_berlin_fahrraddiebstahl[dataset_berlin_fahrraddiebstahl['ZEIT_BIS_TATZEIT'] < datetime.timedelta(0)].shape[0])\n",
    "# Identifying row numbers of negative values for ZEIT_BIS_TATZEIT\n",
    "print(\"Row numbers of negative values for ZEIT_BIS_TATZEIT: \", dataset_berlin_fahrraddiebstahl[dataset_berlin_fahrraddiebstahl['ZEIT_BIS_TATZEIT'] < datetime.timedelta(0)].index.values.tolist())"
   ]
  },
  {
   "cell_type": "code",
   "execution_count": 914,
   "metadata": {},
   "outputs": [
    {
     "name": "stdout",
     "output_type": "stream",
     "text": [
      "      ANGELEGT_AM TATZEIT_ENDE_DATUM\n",
      "3124   2023-10-28         2023-10-29\n",
      "3159   2023-10-28         2023-10-29\n",
      "13692  2023-06-08         2023-06-09\n"
     ]
    }
   ],
   "source": [
    "# Printing ANGELEGT_AM and TATZEIT_ENDE_DATUM columns of [3124, 3159, 13692] to change them.\n",
    "print(dataset_berlin_fahrraddiebstahl.loc[[3124, 3159, 13692], ['ANGELEGT_AM', 'TATZEIT_ENDE_DATUM']])"
   ]
  },
  {
   "cell_type": "code",
   "execution_count": 915,
   "metadata": {},
   "outputs": [],
   "source": [
    "# Changing the row 3124 of ANGELEGT_AM to 2023-10-29\n",
    "dataset_berlin_fahrraddiebstahl.loc[3124, 'ANGELEGT_AM'] = pd.to_datetime('2023-10-29')\n",
    "\n",
    "# Changing the row 3159 of ANGELEGT_AM to 2023-10-29\n",
    "dataset_berlin_fahrraddiebstahl.loc[3159, 'ANGELEGT_AM'] = pd.to_datetime('2023-10-29')\n",
    "\n",
    "# Changing the row 13692 of ANGELEGT_AM to 2023-06-09\n",
    "dataset_berlin_fahrraddiebstahl.loc[13692, 'ANGELEGT_AM'] = pd.to_datetime('2023-06-09')"
   ]
  },
  {
   "cell_type": "code",
   "execution_count": 916,
   "metadata": {},
   "outputs": [
    {
     "name": "stdout",
     "output_type": "stream",
     "text": [
      "Min value for ZEIT_BIS_TATZEIT:  0 days 00:00:00\n",
      "Max value for ZEIT_BIS_TATZEIT:  370 days 00:00:00\n"
     ]
    }
   ],
   "source": [
    "# Calculating time difference between ANGELEGT_AM and TATZEIT_ANFANG_DATUM without hours\n",
    "dataset_berlin_fahrraddiebstahl['ZEIT_BIS_TATZEIT'] = dataset_berlin_fahrraddiebstahl['ANGELEGT_AM'].dt.date - dataset_berlin_fahrraddiebstahl['TATZEIT_ANFANG_DATUM'].dt.date\n",
    "\n",
    "# Checking min and max values for ZEIT_BIS_TATZEIT\n",
    "print(\"Min value for ZEIT_BIS_TATZEIT: \", dataset_berlin_fahrraddiebstahl['ZEIT_BIS_TATZEIT'].min())\n",
    "print(\"Max value for ZEIT_BIS_TATZEIT: \", dataset_berlin_fahrraddiebstahl['ZEIT_BIS_TATZEIT'].max())"
   ]
  },
  {
   "cell_type": "code",
   "execution_count": 917,
   "metadata": {},
   "outputs": [
    {
     "name": "stdout",
     "output_type": "stream",
     "text": [
      "Identified outliers: 168\n"
     ]
    }
   ],
   "source": [
    "# Calculating outliers for ZEIT_BIS_TATZEIT regarding the 4-sigma rule\n",
    "ZEIT_BIS_TATZEIT_mean = dataset_berlin_fahrraddiebstahl['ZEIT_BIS_TATZEIT'].mean()\n",
    "ZEIT_BIS_TATZEIT_std_dev = dataset_berlin_fahrraddiebstahl['ZEIT_BIS_TATZEIT'].std()\n",
    "\n",
    "# Determining bounds for outliers (4-sigma rule)\n",
    "zeit_bis_tatzeit_lower_bound = ZEIT_BIS_TATZEIT_mean - 4 * ZEIT_BIS_TATZEIT_std_dev\n",
    "zeit_bis_tatzeit_upper_bound = ZEIT_BIS_TATZEIT_mean + 4 * ZEIT_BIS_TATZEIT_std_dev\n",
    "\n",
    "# Identifying outliers\n",
    "ZEIT_BIS_TATZEIT_outliers = dataset_berlin_fahrraddiebstahl[(dataset_berlin_fahrraddiebstahl['ZEIT_BIS_TATZEIT'] < zeit_bis_tatzeit_lower_bound) | (dataset_berlin_fahrraddiebstahl['ZEIT_BIS_TATZEIT'] > zeit_bis_tatzeit_upper_bound)]\n",
    "\n",
    "# Saving row numbers of outliers\n",
    "ZEIT_BIS_TATZEIT_outliers_row_numbers = ZEIT_BIS_TATZEIT_outliers.index.values.tolist()\n",
    "\n",
    "# Printing total number of outliers\n",
    "print('Identified outliers: %d' % ZEIT_BIS_TATZEIT_outliers.shape[0])"
   ]
  },
  {
   "cell_type": "markdown",
   "metadata": {},
   "source": [
    "Outliers could be removed however it is decided to hold them not to lose valuable data.\n",
    "If needed please return the remove_outliers to True in the following code."
   ]
  },
  {
   "cell_type": "code",
   "execution_count": 918,
   "metadata": {},
   "outputs": [],
   "source": [
    "# WARNING: The following code block outlier removal in ZEIT_BIS_TATZEIT column,\n",
    "# Set this to True if you need to perform the outlier removal\n",
    "remove_outliers = False\n",
    "\n",
    "if remove_outliers:\n",
    "    # Removing outliers from the dataset\n",
    "    dataset_berlin_fahrraddiebstahl = dataset_berlin_fahrraddiebstahl.drop(ZEIT_BIS_TATZEIT_outliers_row_numbers)\n",
    "\n",
    "    # Optionally, reseting the index of the DataFrame\n",
    "    dataset_berlin_fahrraddiebstahl = dataset_berlin_fahrraddiebstahl.reset_index(drop=True)\n",
    "\n",
    "    print('Outliers have been removed.')"
   ]
  },
  {
   "cell_type": "code",
   "execution_count": 919,
   "metadata": {},
   "outputs": [
    {
     "name": "stdout",
     "output_type": "stream",
     "text": [
      "1 days      8036\n",
      "0 days      5365\n",
      "2 days      3237\n",
      "3 days      1774\n",
      "4 days       746\n",
      "            ... \n",
      "113 days       1\n",
      "120 days       1\n",
      "129 days       1\n",
      "153 days       1\n",
      "66 days        1\n",
      "Name: ZEIT_BIS_TATZEIT, Length: 143, dtype: int64\n"
     ]
    }
   ],
   "source": [
    "# Checking distribution of ZEIT_BIS_TATZEIT column\n",
    "print(dataset_berlin_fahrraddiebstahl['ZEIT_BIS_TATZEIT'].value_counts())"
   ]
  },
  {
   "cell_type": "code",
   "execution_count": 920,
   "metadata": {},
   "outputs": [],
   "source": [
    "# Removing LOR, PGR, BZR, PLR columns\n",
    "dataset_berlin_fahrraddiebstahl.drop(['LOR', 'PGR', 'BZR', 'PLR'], axis=1, inplace=True)"
   ]
  },
  {
   "cell_type": "markdown",
   "metadata": {},
   "source": [
    "#### Last check of the dataset_berlin_fahrraddiebstahl"
   ]
  },
  {
   "cell_type": "code",
   "execution_count": 921,
   "metadata": {},
   "outputs": [
    {
     "data": {
      "text/html": [
       "<div>\n",
       "<style scoped>\n",
       "    .dataframe tbody tr th:only-of-type {\n",
       "        vertical-align: middle;\n",
       "    }\n",
       "\n",
       "    .dataframe tbody tr th {\n",
       "        vertical-align: top;\n",
       "    }\n",
       "\n",
       "    .dataframe thead th {\n",
       "        text-align: right;\n",
       "    }\n",
       "</style>\n",
       "<table border=\"1\" class=\"dataframe\">\n",
       "  <thead>\n",
       "    <tr style=\"text-align: right;\">\n",
       "      <th></th>\n",
       "      <th>ANGELEGT_AM</th>\n",
       "      <th>TATZEIT_ANFANG_DATUM</th>\n",
       "      <th>TATZEIT_ANFANG_STUNDE</th>\n",
       "      <th>TATZEIT_ENDE_DATUM</th>\n",
       "      <th>TATZEIT_ENDE_STUNDE</th>\n",
       "      <th>SCHADENSHOEHE</th>\n",
       "      <th>VERSUCH</th>\n",
       "      <th>ART_DES_FAHRRADS</th>\n",
       "      <th>DELIKT</th>\n",
       "      <th>ERFASSUNGSGRUND</th>\n",
       "      <th>bezirk_id</th>\n",
       "      <th>bezirk_name</th>\n",
       "      <th>ZEITUNTERSCHIED</th>\n",
       "      <th>ZEIT_BIS_TATZEIT</th>\n",
       "    </tr>\n",
       "  </thead>\n",
       "  <tbody>\n",
       "    <tr>\n",
       "      <th>0</th>\n",
       "      <td>2024-01-14</td>\n",
       "      <td>2024-01-13</td>\n",
       "      <td>17:00</td>\n",
       "      <td>2024-01-14</td>\n",
       "      <td>11:00</td>\n",
       "      <td>110</td>\n",
       "      <td>Nein</td>\n",
       "      <td>Herrenfahrrad</td>\n",
       "      <td>Fahrraddiebstahl</td>\n",
       "      <td>Sonstiger schwerer Diebstahl von Fahrrädern</td>\n",
       "      <td>7</td>\n",
       "      <td>Tempelhof-Schöneberg</td>\n",
       "      <td>1 days</td>\n",
       "      <td>1 days</td>\n",
       "    </tr>\n",
       "    <tr>\n",
       "      <th>1</th>\n",
       "      <td>2024-01-14</td>\n",
       "      <td>2024-01-13</td>\n",
       "      <td>16:00</td>\n",
       "      <td>2024-01-14</td>\n",
       "      <td>12:00</td>\n",
       "      <td>999</td>\n",
       "      <td>Nein</td>\n",
       "      <td>Damenfahrrad</td>\n",
       "      <td>Fahrraddiebstahl</td>\n",
       "      <td>Sonstiger schwerer Diebstahl von Fahrrädern</td>\n",
       "      <td>8</td>\n",
       "      <td>Neukölln</td>\n",
       "      <td>1 days</td>\n",
       "      <td>1 days</td>\n",
       "    </tr>\n",
       "    <tr>\n",
       "      <th>2</th>\n",
       "      <td>2024-01-14</td>\n",
       "      <td>2024-01-14</td>\n",
       "      <td>15:00</td>\n",
       "      <td>2024-01-14</td>\n",
       "      <td>20:00</td>\n",
       "      <td>399</td>\n",
       "      <td>Nein</td>\n",
       "      <td>Herrenfahrrad</td>\n",
       "      <td>Fahrraddiebstahl</td>\n",
       "      <td>Sonstiger schwerer Diebstahl von Fahrrädern</td>\n",
       "      <td>2</td>\n",
       "      <td>Friedrichshain-Kreuzberg</td>\n",
       "      <td>0 days</td>\n",
       "      <td>0 days</td>\n",
       "    </tr>\n",
       "  </tbody>\n",
       "</table>\n",
       "</div>"
      ],
      "text/plain": [
       "  ANGELEGT_AM TATZEIT_ANFANG_DATUM TATZEIT_ANFANG_STUNDE TATZEIT_ENDE_DATUM  \\\n",
       "0  2024-01-14           2024-01-13                 17:00         2024-01-14   \n",
       "1  2024-01-14           2024-01-13                 16:00         2024-01-14   \n",
       "2  2024-01-14           2024-01-14                 15:00         2024-01-14   \n",
       "\n",
       "  TATZEIT_ENDE_STUNDE  SCHADENSHOEHE VERSUCH ART_DES_FAHRRADS  \\\n",
       "0               11:00            110    Nein    Herrenfahrrad   \n",
       "1               12:00            999    Nein     Damenfahrrad   \n",
       "2               20:00            399    Nein    Herrenfahrrad   \n",
       "\n",
       "             DELIKT                              ERFASSUNGSGRUND bezirk_id  \\\n",
       "0  Fahrraddiebstahl  Sonstiger schwerer Diebstahl von Fahrrädern         7   \n",
       "1  Fahrraddiebstahl  Sonstiger schwerer Diebstahl von Fahrrädern         8   \n",
       "2  Fahrraddiebstahl  Sonstiger schwerer Diebstahl von Fahrrädern         2   \n",
       "\n",
       "                bezirk_name ZEITUNTERSCHIED ZEIT_BIS_TATZEIT  \n",
       "0      Tempelhof-Schöneberg          1 days           1 days  \n",
       "1                  Neukölln          1 days           1 days  \n",
       "2  Friedrichshain-Kreuzberg          0 days           0 days  "
      ]
     },
     "execution_count": 921,
     "metadata": {},
     "output_type": "execute_result"
    }
   ],
   "source": [
    "# Checking of the dataset_berlin_fahrraddiebstahl\n",
    "dataset_berlin_fahrraddiebstahl.head(3)"
   ]
  },
  {
   "cell_type": "code",
   "execution_count": 922,
   "metadata": {},
   "outputs": [
    {
     "name": "stdout",
     "output_type": "stream",
     "text": [
      "<class 'pandas.core.frame.DataFrame'>\n",
      "Int64Index: 21856 entries, 0 to 22126\n",
      "Data columns (total 14 columns):\n",
      " #   Column                 Non-Null Count  Dtype          \n",
      "---  ------                 --------------  -----          \n",
      " 0   ANGELEGT_AM            21856 non-null  datetime64[ns] \n",
      " 1   TATZEIT_ANFANG_DATUM   21856 non-null  datetime64[ns] \n",
      " 2   TATZEIT_ANFANG_STUNDE  21856 non-null  object         \n",
      " 3   TATZEIT_ENDE_DATUM     21856 non-null  datetime64[ns] \n",
      " 4   TATZEIT_ENDE_STUNDE    21856 non-null  object         \n",
      " 5   SCHADENSHOEHE          21856 non-null  int64          \n",
      " 6   VERSUCH                21856 non-null  category       \n",
      " 7   ART_DES_FAHRRADS       21856 non-null  category       \n",
      " 8   DELIKT                 21856 non-null  category       \n",
      " 9   ERFASSUNGSGRUND        21856 non-null  category       \n",
      " 10  bezirk_id              21856 non-null  category       \n",
      " 11  bezirk_name            21856 non-null  object         \n",
      " 12  ZEITUNTERSCHIED        21856 non-null  timedelta64[ns]\n",
      " 13  ZEIT_BIS_TATZEIT       21856 non-null  timedelta64[ns]\n",
      "dtypes: category(5), datetime64[ns](3), int64(1), object(3), timedelta64[ns](2)\n",
      "memory usage: 2.3+ MB\n"
     ]
    }
   ],
   "source": [
    "# Checking information of the dataset_berlin_fahrraddiebstahl\n",
    "dataset_berlin_fahrraddiebstahl.info()"
   ]
  },
  {
   "cell_type": "code",
   "execution_count": 923,
   "metadata": {},
   "outputs": [
    {
     "name": "stdout",
     "output_type": "stream",
     "text": [
      "Before merge:\n",
      "dataset_berlin row count: 12\n",
      "dataset_fahrraddiebstahl row count: 22127\n",
      "After merge:\n",
      "dataset_berlin_fahrraddiebstahl row count: 21856\n",
      "----------------------------------------\n",
      "\n",
      "Null values in merged dataset:\n",
      "ANGELEGT_AM              0\n",
      "TATZEIT_ANFANG_DATUM     0\n",
      "TATZEIT_ANFANG_STUNDE    0\n",
      "TATZEIT_ENDE_DATUM       0\n",
      "TATZEIT_ENDE_STUNDE      0\n",
      "SCHADENSHOEHE            0\n",
      "VERSUCH                  0\n",
      "ART_DES_FAHRRADS         0\n",
      "DELIKT                   0\n",
      "ERFASSUNGSGRUND          0\n",
      "bezirk_id                0\n",
      "bezirk_name              0\n",
      "ZEITUNTERSCHIED          0\n",
      "ZEIT_BIS_TATZEIT         0\n",
      "dtype: int64\n",
      "----------------------------------------\n",
      "Number of records with invalid bezirk_id: 0\n"
     ]
    }
   ],
   "source": [
    "# Printing row counts before and after merge\n",
    "print(\"Before merge:\")\n",
    "print(\"dataset_berlin row count:\", dataset_berlin.shape[0])\n",
    "print(\"dataset_fahrraddiebstahl row count:\", dataset_fahrraddiebstahl.shape[0])\n",
    "print(\"After merge:\")\n",
    "print(\"dataset_berlin_fahrraddiebstahl row count:\", dataset_berlin_fahrraddiebstahl.shape[0])\n",
    "print(\"----------------------------------------\")\n",
    "\n",
    "# Checking for null values in the merged dataset\n",
    "print(\"\\nNull values in merged dataset:\")\n",
    "print(dataset_berlin_fahrraddiebstahl.isnull().sum())\n",
    "print(\"----------------------------------------\")\n",
    "\n",
    "# Checking if all bezirk_id values in the merged dataset exist in the original dataset\n",
    "invalid_bezirk_ids = dataset_berlin_fahrraddiebstahl[~dataset_berlin_fahrraddiebstahl['bezirk_id'].isin(dataset_berlin['bezirk_id'])]\n",
    "print(\"Number of records with invalid bezirk_id:\", invalid_bezirk_ids.shape[0])"
   ]
  },
  {
   "cell_type": "code",
   "execution_count": 924,
   "metadata": {},
   "outputs": [
    {
     "name": "stdout",
     "output_type": "stream",
     "text": [
      "Shape of dataset_berlin_fahrraddiebstahl:  (21856, 14)\n"
     ]
    }
   ],
   "source": [
    "# Printing the shape of dataset_berlin_fahrraddiebstahl\n",
    "print(\"Shape of dataset_berlin_fahrraddiebstahl: \", dataset_berlin_fahrraddiebstahl.shape)"
   ]
  },
  {
   "cell_type": "code",
   "execution_count": 925,
   "metadata": {},
   "outputs": [
    {
     "name": "stdout",
     "output_type": "stream",
     "text": [
      "\n",
      "Sample rows from merged dataset:\n",
      "      ANGELEGT_AM TATZEIT_ANFANG_DATUM TATZEIT_ANFANG_STUNDE  \\\n",
      "716    2023-12-18           2023-12-18                 18:00   \n",
      "8805   2023-08-11           2023-08-10                 18:00   \n",
      "1207   2023-12-05           2023-11-13                 19:00   \n",
      "11389  2023-07-06           2023-07-03                 12:00   \n",
      "3097   2023-10-29           2023-10-28                 16:00   \n",
      "\n",
      "      TATZEIT_ENDE_DATUM TATZEIT_ENDE_STUNDE  SCHADENSHOEHE VERSUCH  \\\n",
      "716           2023-12-18               19:00            550    Nein   \n",
      "8805          2023-08-10               23:00            299    Nein   \n",
      "1207          2023-11-14               07:00           1050    Nein   \n",
      "11389         2023-07-04               10:00           1600    Nein   \n",
      "3097          2023-10-29               13:00           4500    Nein   \n",
      "\n",
      "      ART_DES_FAHRRADS                     DELIKT  \\\n",
      "716      Herrenfahrrad  Keller- und Bodeneinbruch   \n",
      "8805           Rennrad           Fahrraddiebstahl   \n",
      "1207     Herrenfahrrad           Fahrraddiebstahl   \n",
      "11389    Herrenfahrrad           Fahrraddiebstahl   \n",
      "3097           Fahrrad           Fahrraddiebstahl   \n",
      "\n",
      "                                         ERFASSUNGSGRUND bezirk_id  \\\n",
      "716    Sonstiger schwerer Diebstahl in/aus Keller/Bod...        10   \n",
      "8805         Sonstiger schwerer Diebstahl von Fahrrädern         2   \n",
      "1207         Sonstiger schwerer Diebstahl von Fahrrädern         2   \n",
      "11389                 Einfacher Diebstahl von Fahrrädern         6   \n",
      "3097         Sonstiger schwerer Diebstahl von Fahrrädern         4   \n",
      "\n",
      "                      bezirk_name ZEITUNTERSCHIED ZEIT_BIS_TATZEIT  \n",
      "716           Marzahn-Hellersdorf          0 days           0 days  \n",
      "8805     Friedrichshain-Kreuzberg          0 days           1 days  \n",
      "1207     Friedrichshain-Kreuzberg          1 days          22 days  \n",
      "11389         Steglitz-Zehlendorf          1 days           3 days  \n",
      "3097   Charlottenburg-Wilmersdorf          1 days           1 days  \n"
     ]
    }
   ],
   "source": [
    "# Creating random sample rows for manual inspection\n",
    "print(\"\\nSample rows from merged dataset:\")\n",
    "print(dataset_berlin_fahrraddiebstahl.sample(5))"
   ]
  },
  {
   "cell_type": "code",
   "execution_count": 926,
   "metadata": {},
   "outputs": [
    {
     "name": "stdout",
     "output_type": "stream",
     "text": [
      "\n",
      "Aggregated statistics comparison:\n",
      "dataset_berlin statistics:\n",
      "        bezirk_id bezirk_name\n",
      "count          12          12\n",
      "unique         12          12\n",
      "top             1       Mitte\n",
      "freq            1           1\n",
      "----------------------------------------\n",
      "\n",
      "dataset_fahrraddiebstahl statistics:\n",
      "       TATZEIT_ANFANG_STUNDE  TATZEIT_ENDE_STUNDE  SCHADENSHOEHE\n",
      "count           22127.000000         22127.000000   22127.000000\n",
      "mean               14.582591            13.438650    1151.737967\n",
      "std                 5.369114             5.422444    1142.846193\n",
      "min                 0.000000             0.000000       0.000000\n",
      "25%                10.000000             9.000000     470.000000\n",
      "50%                16.000000            14.000000     799.000000\n",
      "75%                19.000000            18.000000    1399.000000\n",
      "max                23.000000            23.000000   10000.000000\n",
      "----------------------------------------\n",
      "\n",
      "dataset_berlin_fahrraddiebstahl statistics:\n",
      "       SCHADENSHOEHE            ZEITUNTERSCHIED            ZEIT_BIS_TATZEIT\n",
      "count   21856.000000                      21856                       21856\n",
      "mean     1091.633053  0 days 15:34:51.215226939   3 days 06:42:06.061493411\n",
      "std       965.256715  0 days 18:44:35.232434907  11 days 13:41:47.354235173\n",
      "min         0.000000            0 days 00:00:00             0 days 00:00:00\n",
      "25%       469.000000            0 days 00:00:00             1 days 00:00:00\n",
      "50%       796.500000            0 days 00:00:00             1 days 00:00:00\n",
      "75%      1355.250000            1 days 00:00:00             2 days 00:00:00\n",
      "max      5704.000000            3 days 00:00:00           370 days 00:00:00\n"
     ]
    }
   ],
   "source": [
    "# Comparing datasets before and after merge\n",
    "print(\"\\nAggregated statistics comparison:\")\n",
    "print(\"dataset_berlin statistics:\")\n",
    "print(dataset_berlin.describe())\n",
    "print(\"----------------------------------------\")\n",
    "print(\"\\ndataset_fahrraddiebstahl statistics:\")\n",
    "print(dataset_fahrraddiebstahl.describe())\n",
    "print(\"----------------------------------------\")\n",
    "print(\"\\ndataset_berlin_fahrraddiebstahl statistics:\")\n",
    "print(dataset_berlin_fahrraddiebstahl.describe())"
   ]
  },
  {
   "cell_type": "code",
   "execution_count": 927,
   "metadata": {},
   "outputs": [],
   "source": [
    "# Saving the dataset_berlin_fahrraddiebstahl as a csv file to ../data folder\n",
    "dataset_berlin_fahrraddiebstahl.to_csv('../data/dataset_berlin_fahrraddiebstahl.csv', index=False)"
   ]
  }
 ],
 "metadata": {
  "kernelspec": {
   "display_name": "base",
   "language": "python",
   "name": "python3"
  },
  "language_info": {
   "codemirror_mode": {
    "name": "ipython",
    "version": 3
   },
   "file_extension": ".py",
   "mimetype": "text/x-python",
   "name": "python",
   "nbconvert_exporter": "python",
   "pygments_lexer": "ipython3",
   "version": "3.10.9"
  }
 },
 "nbformat": 4,
 "nbformat_minor": 2
}
