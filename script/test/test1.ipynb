{
 "cells": [
  {
   "cell_type": "markdown",
   "metadata": {},
   "source": [
    "# DATA UNDERSTANDING"
   ]
  },
  {
   "cell_type": "code",
   "execution_count": 1,
   "metadata": {},
   "outputs": [],
   "source": [
    "# OK\n",
    "# Importing necessary libraries\n",
    "import pandas as pd                 # To read and manipulate data\n",
    "import numpy as np                  # To perform mathematical operations\n",
    "import matplotlib.pyplot as plt     # To plot the graphs\n",
    "import seaborn as sns               # To plot the graphs\n",
    "import chardet                      # To detect the encoding of the file\n",
    "import datetime                     # To perform operations on date and time"
   ]
  },
  {
   "cell_type": "code",
   "execution_count": 2,
   "metadata": {},
   "outputs": [],
   "source": [
    "# OK\n",
    "# Importing the dataset berlin_districts.csv\n",
    "dataset_berlin = pd.read_csv('../data/berlin_districts.csv', delimiter=';')"
   ]
  },
  {
   "cell_type": "code",
   "execution_count": 3,
   "metadata": {},
   "outputs": [],
   "source": [
    "# OK\n",
    "# WARNING: The following code block was used for a one-time character encoding detection.\n",
    "# Set this to True if you need to run the encoding detection\n",
    "run_encoding_check = False\n",
    "\n",
    "if run_encoding_check:\n",
    "    with open(r'../data/fahrraddiebstahl.csv', 'rb') as file:\n",
    "        print(chardet.detect(file.read()))"
   ]
  },
  {
   "cell_type": "code",
   "execution_count": 4,
   "metadata": {},
   "outputs": [],
   "source": [
    "# OK\n",
    "# Importing the dataset fahrraddiebstahl.csv\n",
    "dataset_fahrraddiebstahl = pd.read_csv(r'../data/fahrraddiebstahl.csv', encoding='ISO-8859-1')"
   ]
  },
  {
   "cell_type": "code",
   "execution_count": 5,
   "metadata": {},
   "outputs": [
    {
     "data": {
      "text/plain": [
       "(12, 2)"
      ]
     },
     "execution_count": 5,
     "metadata": {},
     "output_type": "execute_result"
    }
   ],
   "source": [
    "# OK\n",
    "# Checking the shape of the dataset berlin_districts\n",
    "dataset_berlin.shape"
   ]
  },
  {
   "cell_type": "code",
   "execution_count": 6,
   "metadata": {},
   "outputs": [
    {
     "name": "stdout",
     "output_type": "stream",
     "text": [
      "<class 'pandas.core.frame.DataFrame'>\n",
      "RangeIndex: 12 entries, 0 to 11\n",
      "Data columns (total 2 columns):\n",
      " #   Column       Non-Null Count  Dtype \n",
      "---  ------       --------------  ----- \n",
      " 0   bezirk_id    12 non-null     int64 \n",
      " 1   bezirk_name  12 non-null     object\n",
      "dtypes: int64(1), object(1)\n",
      "memory usage: 320.0+ bytes\n"
     ]
    }
   ],
   "source": [
    "# OK\n",
    "# Checking the information of the dataset berlin_districts\n",
    "dataset_berlin.info()"
   ]
  },
  {
   "cell_type": "code",
   "execution_count": 7,
   "metadata": {},
   "outputs": [
    {
     "data": {
      "text/html": [
       "<div>\n",
       "<style scoped>\n",
       "    .dataframe tbody tr th:only-of-type {\n",
       "        vertical-align: middle;\n",
       "    }\n",
       "\n",
       "    .dataframe tbody tr th {\n",
       "        vertical-align: top;\n",
       "    }\n",
       "\n",
       "    .dataframe thead th {\n",
       "        text-align: right;\n",
       "    }\n",
       "</style>\n",
       "<table border=\"1\" class=\"dataframe\">\n",
       "  <thead>\n",
       "    <tr style=\"text-align: right;\">\n",
       "      <th></th>\n",
       "      <th>bezirk_id</th>\n",
       "      <th>bezirk_name</th>\n",
       "    </tr>\n",
       "  </thead>\n",
       "  <tbody>\n",
       "    <tr>\n",
       "      <th>0</th>\n",
       "      <td>1</td>\n",
       "      <td>Mitte</td>\n",
       "    </tr>\n",
       "    <tr>\n",
       "      <th>1</th>\n",
       "      <td>2</td>\n",
       "      <td>Friedrichshain-Kreuzberg</td>\n",
       "    </tr>\n",
       "    <tr>\n",
       "      <th>2</th>\n",
       "      <td>3</td>\n",
       "      <td>Pankow</td>\n",
       "    </tr>\n",
       "  </tbody>\n",
       "</table>\n",
       "</div>"
      ],
      "text/plain": [
       "   bezirk_id               bezirk_name\n",
       "0          1                     Mitte\n",
       "1          2  Friedrichshain-Kreuzberg\n",
       "2          3                    Pankow"
      ]
     },
     "execution_count": 7,
     "metadata": {},
     "output_type": "execute_result"
    }
   ],
   "source": [
    "# OK\n",
    "# Checking the first 3 rows of the dataset berlin_districts\n",
    "dataset_berlin.head(3)"
   ]
  },
  {
   "cell_type": "code",
   "execution_count": 8,
   "metadata": {},
   "outputs": [
    {
     "name": "stdout",
     "output_type": "stream",
     "text": [
      "Total missing values in dataset_berlin: 0\n"
     ]
    }
   ],
   "source": [
    "# OKOK\n",
    "# Checking missing values in dataset berlin_districts\n",
    "dataset_berlin_missing=dataset_berlin.isnull().sum()\n",
    "print(\"Total missing values in dataset_berlin:\",dataset_berlin_missing.sum())"
   ]
  },
  {
   "cell_type": "code",
   "execution_count": 9,
   "metadata": {},
   "outputs": [
    {
     "name": "stdout",
     "output_type": "stream",
     "text": [
      "Total duplicates in dataset_berlin:  0\n"
     ]
    }
   ],
   "source": [
    "# OKOK\n",
    "# Checking duplicated rows in dataset berlin_districts\n",
    "dataset_berlin_duplicated=dataset_berlin.duplicated().sum()\n",
    "print(\"Total duplicates in dataset_berlin: \", dataset_berlin_duplicated)"
   ]
  },
  {
   "cell_type": "code",
   "execution_count": 10,
   "metadata": {},
   "outputs": [],
   "source": [
    "#OKOK\n",
    "# Converting the column bezirk_id to categorical data type in dataset berlin_districts\n",
    "dataset_berlin['bezirk_id'] = dataset_berlin['bezirk_id'].astype('category')"
   ]
  },
  {
   "cell_type": "code",
   "execution_count": 11,
   "metadata": {},
   "outputs": [
    {
     "data": {
      "text/plain": [
       "1     1\n",
       "2     1\n",
       "3     1\n",
       "4     1\n",
       "5     1\n",
       "6     1\n",
       "7     1\n",
       "8     1\n",
       "9     1\n",
       "10    1\n",
       "11    1\n",
       "12    1\n",
       "Name: bezirk_id, dtype: int64"
      ]
     },
     "execution_count": 11,
     "metadata": {},
     "output_type": "execute_result"
    }
   ],
   "source": [
    "# OKOK\n",
    "# Checking the unique values in the column bezirk_id in dataset berlin_districts\n",
    "dataset_berlin['bezirk_id'].value_counts()"
   ]
  },
  {
   "cell_type": "code",
   "execution_count": 12,
   "metadata": {},
   "outputs": [
    {
     "data": {
      "text/plain": [
       "(22127, 11)"
      ]
     },
     "execution_count": 12,
     "metadata": {},
     "output_type": "execute_result"
    }
   ],
   "source": [
    "# OKOK\n",
    "# Checking the shape of the dataset fahrraddiebstahl\n",
    "dataset_fahrraddiebstahl.shape"
   ]
  },
  {
   "cell_type": "code",
   "execution_count": 13,
   "metadata": {},
   "outputs": [
    {
     "data": {
      "text/html": [
       "<div>\n",
       "<style scoped>\n",
       "    .dataframe tbody tr th:only-of-type {\n",
       "        vertical-align: middle;\n",
       "    }\n",
       "\n",
       "    .dataframe tbody tr th {\n",
       "        vertical-align: top;\n",
       "    }\n",
       "\n",
       "    .dataframe thead th {\n",
       "        text-align: right;\n",
       "    }\n",
       "</style>\n",
       "<table border=\"1\" class=\"dataframe\">\n",
       "  <thead>\n",
       "    <tr style=\"text-align: right;\">\n",
       "      <th></th>\n",
       "      <th>ANGELEGT_AM</th>\n",
       "      <th>TATZEIT_ANFANG_DATUM</th>\n",
       "      <th>TATZEIT_ANFANG_STUNDE</th>\n",
       "      <th>TATZEIT_ENDE_DATUM</th>\n",
       "      <th>TATZEIT_ENDE_STUNDE</th>\n",
       "      <th>LOR</th>\n",
       "      <th>SCHADENSHOEHE</th>\n",
       "      <th>VERSUCH</th>\n",
       "      <th>ART_DES_FAHRRADS</th>\n",
       "      <th>DELIKT</th>\n",
       "      <th>ERFASSUNGSGRUND</th>\n",
       "    </tr>\n",
       "  </thead>\n",
       "  <tbody>\n",
       "    <tr>\n",
       "      <th>0</th>\n",
       "      <td>14.01.2024</td>\n",
       "      <td>13.01.2024</td>\n",
       "      <td>17</td>\n",
       "      <td>14.01.2024</td>\n",
       "      <td>11</td>\n",
       "      <td>7300515</td>\n",
       "      <td>110</td>\n",
       "      <td>Nein</td>\n",
       "      <td>Herrenfahrrad</td>\n",
       "      <td>Fahrraddiebstahl</td>\n",
       "      <td>Sonstiger schwerer Diebstahl von Fahrrädern</td>\n",
       "    </tr>\n",
       "    <tr>\n",
       "      <th>1</th>\n",
       "      <td>14.01.2024</td>\n",
       "      <td>13.01.2024</td>\n",
       "      <td>16</td>\n",
       "      <td>14.01.2024</td>\n",
       "      <td>12</td>\n",
       "      <td>8100416</td>\n",
       "      <td>999</td>\n",
       "      <td>Nein</td>\n",
       "      <td>Damenfahrrad</td>\n",
       "      <td>Fahrraddiebstahl</td>\n",
       "      <td>Sonstiger schwerer Diebstahl von Fahrrädern</td>\n",
       "    </tr>\n",
       "    <tr>\n",
       "      <th>2</th>\n",
       "      <td>14.01.2024</td>\n",
       "      <td>14.01.2024</td>\n",
       "      <td>15</td>\n",
       "      <td>14.01.2024</td>\n",
       "      <td>20</td>\n",
       "      <td>2500830</td>\n",
       "      <td>399</td>\n",
       "      <td>Nein</td>\n",
       "      <td>Herrenfahrrad</td>\n",
       "      <td>Fahrraddiebstahl</td>\n",
       "      <td>Sonstiger schwerer Diebstahl von Fahrrädern</td>\n",
       "    </tr>\n",
       "  </tbody>\n",
       "</table>\n",
       "</div>"
      ],
      "text/plain": [
       "  ANGELEGT_AM TATZEIT_ANFANG_DATUM  TATZEIT_ANFANG_STUNDE TATZEIT_ENDE_DATUM  \\\n",
       "0  14.01.2024           13.01.2024                     17         14.01.2024   \n",
       "1  14.01.2024           13.01.2024                     16         14.01.2024   \n",
       "2  14.01.2024           14.01.2024                     15         14.01.2024   \n",
       "\n",
       "   TATZEIT_ENDE_STUNDE      LOR  SCHADENSHOEHE VERSUCH ART_DES_FAHRRADS  \\\n",
       "0                   11  7300515            110    Nein    Herrenfahrrad   \n",
       "1                   12  8100416            999    Nein     Damenfahrrad   \n",
       "2                   20  2500830            399    Nein    Herrenfahrrad   \n",
       "\n",
       "             DELIKT                              ERFASSUNGSGRUND  \n",
       "0  Fahrraddiebstahl  Sonstiger schwerer Diebstahl von Fahrrädern  \n",
       "1  Fahrraddiebstahl  Sonstiger schwerer Diebstahl von Fahrrädern  \n",
       "2  Fahrraddiebstahl  Sonstiger schwerer Diebstahl von Fahrrädern  "
      ]
     },
     "execution_count": 13,
     "metadata": {},
     "output_type": "execute_result"
    }
   ],
   "source": [
    "# OKOK\n",
    "# Checking the first 3 rows of the dataset fahrraddiebstahl\n",
    "dataset_fahrraddiebstahl.head(3)"
   ]
  },
  {
   "cell_type": "code",
   "execution_count": 14,
   "metadata": {},
   "outputs": [
    {
     "data": {
      "text/html": [
       "<div>\n",
       "<style scoped>\n",
       "    .dataframe tbody tr th:only-of-type {\n",
       "        vertical-align: middle;\n",
       "    }\n",
       "\n",
       "    .dataframe tbody tr th {\n",
       "        vertical-align: top;\n",
       "    }\n",
       "\n",
       "    .dataframe thead th {\n",
       "        text-align: right;\n",
       "    }\n",
       "</style>\n",
       "<table border=\"1\" class=\"dataframe\">\n",
       "  <thead>\n",
       "    <tr style=\"text-align: right;\">\n",
       "      <th></th>\n",
       "      <th>ANGELEGT_AM</th>\n",
       "      <th>TATZEIT_ANFANG_DATUM</th>\n",
       "      <th>TATZEIT_ANFANG_STUNDE</th>\n",
       "      <th>TATZEIT_ENDE_DATUM</th>\n",
       "      <th>TATZEIT_ENDE_STUNDE</th>\n",
       "      <th>LOR</th>\n",
       "      <th>SCHADENSHOEHE</th>\n",
       "      <th>VERSUCH</th>\n",
       "      <th>ART_DES_FAHRRADS</th>\n",
       "      <th>DELIKT</th>\n",
       "      <th>ERFASSUNGSGRUND</th>\n",
       "    </tr>\n",
       "  </thead>\n",
       "  <tbody>\n",
       "    <tr>\n",
       "      <th>22124</th>\n",
       "      <td>01.01.2023</td>\n",
       "      <td>01.01.2023</td>\n",
       "      <td>5</td>\n",
       "      <td>01.01.2023</td>\n",
       "      <td>9</td>\n",
       "      <td>4300413</td>\n",
       "      <td>1400</td>\n",
       "      <td>Nein</td>\n",
       "      <td>Fahrrad</td>\n",
       "      <td>Fahrraddiebstahl</td>\n",
       "      <td>Sonstiger schwerer Diebstahl von Fahrrädern</td>\n",
       "    </tr>\n",
       "    <tr>\n",
       "      <th>22125</th>\n",
       "      <td>01.01.2023</td>\n",
       "      <td>01.01.2023</td>\n",
       "      <td>12</td>\n",
       "      <td>01.01.2023</td>\n",
       "      <td>18</td>\n",
       "      <td>6300526</td>\n",
       "      <td>695</td>\n",
       "      <td>Nein</td>\n",
       "      <td>Damenfahrrad</td>\n",
       "      <td>Fahrraddiebstahl</td>\n",
       "      <td>Sonstiger schwerer Diebstahl von Fahrrädern</td>\n",
       "    </tr>\n",
       "    <tr>\n",
       "      <th>22126</th>\n",
       "      <td>01.01.2023</td>\n",
       "      <td>01.01.2023</td>\n",
       "      <td>6</td>\n",
       "      <td>01.01.2023</td>\n",
       "      <td>12</td>\n",
       "      <td>4300621</td>\n",
       "      <td>400</td>\n",
       "      <td>Nein</td>\n",
       "      <td>Fahrrad</td>\n",
       "      <td>Fahrraddiebstahl</td>\n",
       "      <td>Sonstiger schwerer Diebstahl von Fahrrädern</td>\n",
       "    </tr>\n",
       "  </tbody>\n",
       "</table>\n",
       "</div>"
      ],
      "text/plain": [
       "      ANGELEGT_AM TATZEIT_ANFANG_DATUM  TATZEIT_ANFANG_STUNDE  \\\n",
       "22124  01.01.2023           01.01.2023                      5   \n",
       "22125  01.01.2023           01.01.2023                     12   \n",
       "22126  01.01.2023           01.01.2023                      6   \n",
       "\n",
       "      TATZEIT_ENDE_DATUM  TATZEIT_ENDE_STUNDE      LOR  SCHADENSHOEHE VERSUCH  \\\n",
       "22124         01.01.2023                    9  4300413           1400    Nein   \n",
       "22125         01.01.2023                   18  6300526            695    Nein   \n",
       "22126         01.01.2023                   12  4300621            400    Nein   \n",
       "\n",
       "      ART_DES_FAHRRADS            DELIKT  \\\n",
       "22124          Fahrrad  Fahrraddiebstahl   \n",
       "22125     Damenfahrrad  Fahrraddiebstahl   \n",
       "22126          Fahrrad  Fahrraddiebstahl   \n",
       "\n",
       "                                   ERFASSUNGSGRUND  \n",
       "22124  Sonstiger schwerer Diebstahl von Fahrrädern  \n",
       "22125  Sonstiger schwerer Diebstahl von Fahrrädern  \n",
       "22126  Sonstiger schwerer Diebstahl von Fahrrädern  "
      ]
     },
     "execution_count": 14,
     "metadata": {},
     "output_type": "execute_result"
    }
   ],
   "source": [
    "# OKOK\n",
    "# Checking the last 3 rows of the dataset fahrraddiebstahl\n",
    "dataset_fahrraddiebstahl.tail(3)"
   ]
  },
  {
   "cell_type": "code",
   "execution_count": 15,
   "metadata": {},
   "outputs": [
    {
     "name": "stdout",
     "output_type": "stream",
     "text": [
      "Total duplicates in dataset_fahrraddiebstahl:  50\n"
     ]
    }
   ],
   "source": [
    "# OKOK\n",
    "# Checking duplucated rows in dataset fahrraddiebstahl\n",
    "dataset_fahrraddiebstahl_duplicated=dataset_fahrraddiebstahl.duplicated().sum()\n",
    "print(\"Total duplicates in dataset_fahrraddiebstahl: \", dataset_fahrraddiebstahl_duplicated)"
   ]
  },
  {
   "cell_type": "code",
   "execution_count": 16,
   "metadata": {},
   "outputs": [
    {
     "name": "stdout",
     "output_type": "stream",
     "text": [
      "<class 'pandas.core.frame.DataFrame'>\n",
      "RangeIndex: 22127 entries, 0 to 22126\n",
      "Data columns (total 11 columns):\n",
      " #   Column                 Non-Null Count  Dtype \n",
      "---  ------                 --------------  ----- \n",
      " 0   ANGELEGT_AM            22127 non-null  object\n",
      " 1   TATZEIT_ANFANG_DATUM   22127 non-null  object\n",
      " 2   TATZEIT_ANFANG_STUNDE  22127 non-null  int64 \n",
      " 3   TATZEIT_ENDE_DATUM     22127 non-null  object\n",
      " 4   TATZEIT_ENDE_STUNDE    22127 non-null  int64 \n",
      " 5   LOR                    22127 non-null  int64 \n",
      " 6   SCHADENSHOEHE          22127 non-null  int64 \n",
      " 7   VERSUCH                22127 non-null  object\n",
      " 8   ART_DES_FAHRRADS       22127 non-null  object\n",
      " 9   DELIKT                 22127 non-null  object\n",
      " 10  ERFASSUNGSGRUND        22127 non-null  object\n",
      "dtypes: int64(4), object(7)\n",
      "memory usage: 1.9+ MB\n"
     ]
    }
   ],
   "source": [
    "# OKOK\n",
    "# Checking information of the dataset fahrraddiebstahl\n",
    "dataset_fahrraddiebstahl.info()"
   ]
  },
  {
   "cell_type": "markdown",
   "metadata": {},
   "source": [
    "Checking ANGELEGT_AM column"
   ]
  },
  {
   "cell_type": "code",
   "execution_count": 17,
   "metadata": {},
   "outputs": [
    {
     "name": "stdout",
     "output_type": "stream",
     "text": [
      "<class 'pandas.core.series.Series'>\n",
      "RangeIndex: 22127 entries, 0 to 22126\n",
      "Series name: ANGELEGT_AM\n",
      "Non-Null Count  Dtype         \n",
      "--------------  -----         \n",
      "22127 non-null  datetime64[ns]\n",
      "dtypes: datetime64[ns](1)\n",
      "memory usage: 173.0 KB\n"
     ]
    }
   ],
   "source": [
    "#OKOK\n",
    "# Changing the data type of ANGELEGT_AM to datetime\n",
    "dataset_fahrraddiebstahl['ANGELEGT_AM'] = pd.to_datetime(dataset_fahrraddiebstahl['ANGELEGT_AM'], format='%d.%m.%Y')\n",
    "\n",
    "# Approving the change of data type for ANGELEGT_AM column\n",
    "dataset_fahrraddiebstahl[\"ANGELEGT_AM\"].info()"
   ]
  },
  {
   "cell_type": "code",
   "execution_count": 18,
   "metadata": {},
   "outputs": [
    {
     "name": "stdout",
     "output_type": "stream",
     "text": [
      "Min value for ANGELEGT_AM:  2023-01-01 00:00:00\n",
      "Max value for ANGELEGT_AM:  2024-01-14 00:00:00\n"
     ]
    }
   ],
   "source": [
    "#OKOK\n",
    "# Checking min and max values for ANGELEGT_AM\n",
    "print(\"Min value for ANGELEGT_AM: \", dataset_fahrraddiebstahl['ANGELEGT_AM'].min())\n",
    "print(\"Max value for ANGELEGT_AM: \", dataset_fahrraddiebstahl['ANGELEGT_AM'].max())"
   ]
  },
  {
   "cell_type": "code",
   "execution_count": 19,
   "metadata": {},
   "outputs": [
    {
     "data": {
      "image/png": "[encoded data removed]",
      "text/plain": [
       "<Figure size 1000x500 with 1 Axes>"
      ]
     },
     "metadata": {},
     "output_type": "display_data"
    }
   ],
   "source": [
    "#OKOK\n",
    "# Plotting histogram for ANGELEGT_AM\n",
    "dataset_fahrraddiebstahl['ANGELEGT_AM'].hist(bins=50, figsize=(10,5))\n",
    "\n",
    "# Adding Red lines for the mean and median\n",
    "plt.axvline(dataset_fahrraddiebstahl['ANGELEGT_AM'].mean(), color='red', linestyle='dashed', linewidth=1)\n",
    "plt.axvline(dataset_fahrraddiebstahl['ANGELEGT_AM'].median(), color='red', linestyle='dashed', linewidth=1)\n",
    "\n",
    "# Adding Yellow lines for seasons\n",
    "plt.axvline(pd.to_datetime('2023-03-20'), color='yellow', linestyle='dashed', linewidth=1)\n",
    "plt.axvline(pd.to_datetime('2023-06-20'), color='yellow', linestyle='dashed', linewidth=1)\n",
    "plt.axvline(pd.to_datetime('2023-09-22'), color='yellow', linestyle='dashed', linewidth=1)\n",
    "plt.axvline(pd.to_datetime('2023-12-21'), color='yellow', linestyle='dashed', linewidth=1)\n",
    "\n",
    "# Adding title, x, and y labels\n",
    "plt.title('Histogram for ANGELEGT_AM')\n",
    "plt.xlabel('ANGELEGT_AM Date')\n",
    "plt.ylabel('Frequency')\n",
    "\n",
    "plt.show()"
   ]
  },
  {
   "cell_type": "markdown",
   "metadata": {},
   "source": [
    "Checking TATZEIT_ANFANG_DATUM column"
   ]
  },
  {
   "cell_type": "code",
   "execution_count": 20,
   "metadata": {},
   "outputs": [
    {
     "name": "stdout",
     "output_type": "stream",
     "text": [
      "<class 'pandas.core.series.Series'>\n",
      "RangeIndex: 22127 entries, 0 to 22126\n",
      "Series name: TATZEIT_ANFANG_DATUM\n",
      "Non-Null Count  Dtype         \n",
      "--------------  -----         \n",
      "22127 non-null  datetime64[ns]\n",
      "dtypes: datetime64[ns](1)\n",
      "memory usage: 173.0 KB\n"
     ]
    }
   ],
   "source": [
    "#OKOK\n",
    "# Changing the data type to datetime for the column TATZEIT_ANFANG_DATUM\n",
    "dataset_fahrraddiebstahl['TATZEIT_ANFANG_DATUM'] = pd.to_datetime(dataset_fahrraddiebstahl['TATZEIT_ANFANG_DATUM'], format='%d.%m.%Y')\n",
    "\n",
    "# Approving the change of data type for TATZEIT_ANFANG_DATUM column\n",
    "dataset_fahrraddiebstahl[\"TATZEIT_ANFANG_DATUM\"].info()"
   ]
  },
  {
   "cell_type": "code",
   "execution_count": 21,
   "metadata": {},
   "outputs": [
    {
     "name": "stdout",
     "output_type": "stream",
     "text": [
      "Min value for TATZEIT_ANFANG_DATUM:  2023-01-01 00:00:00\n",
      "Max value for TATZEIT_ANFANG_DATUM:  2024-01-14 00:00:00\n"
     ]
    }
   ],
   "source": [
    "#OKOK\n",
    "# Checking min and max values for TATZEIT_ANFANG_DATUM\n",
    "print(\"Min value for TATZEIT_ANFANG_DATUM: \", dataset_fahrraddiebstahl['TATZEIT_ANFANG_DATUM'].min())\n",
    "print(\"Max value for TATZEIT_ANFANG_DATUM: \", dataset_fahrraddiebstahl['TATZEIT_ANFANG_DATUM'].max())"
   ]
  },
  {
   "cell_type": "code",
   "execution_count": 22,
   "metadata": {},
   "outputs": [
    {
     "data": {
      "image/png": "[encoded data removed]",
      "text/plain": [
       "<Figure size 1000x500 with 1 Axes>"
      ]
     },
     "metadata": {},
     "output_type": "display_data"
    }
   ],
   "source": [
    "#OKOK\n",
    "# Plotting histogram for TATZEIT_ANFANG_DATUM\n",
    "dataset_fahrraddiebstahl['TATZEIT_ANFANG_DATUM'].hist(bins=50, figsize=(10,5))\n",
    "\n",
    "# Adding Red lines for the mean and median\n",
    "plt.axvline(dataset_fahrraddiebstahl['TATZEIT_ANFANG_DATUM'].mean(), color='red', linestyle='dashed', linewidth=1)\n",
    "plt.axvline(dataset_fahrraddiebstahl['TATZEIT_ANFANG_DATUM'].median(), color='red', linestyle='dashed', linewidth=1)\n",
    "\n",
    "# Add Yellow lines for seasons\n",
    "plt.axvline(pd.to_datetime('2023-03-20'), color='yellow', linestyle='dashed', linewidth=1)\n",
    "plt.axvline(pd.to_datetime('2023-06-20'), color='yellow', linestyle='dashed', linewidth=1)\n",
    "plt.axvline(pd.to_datetime('2023-09-22'), color='yellow', linestyle='dashed', linewidth=1)\n",
    "plt.axvline(pd.to_datetime('2023-12-21'), color='yellow', linestyle='dashed', linewidth=1)\n",
    "\n",
    "# Adding title as well as x and y labels\n",
    "plt.title('Histogram for TATZEIT_ANFANG_DATUM')\n",
    "plt.xlabel('TATZEIT_ANFANG_DATUM')\n",
    "plt.ylabel('Frequency')\n",
    "\n",
    "plt.show()"
   ]
  },
  {
   "cell_type": "markdown",
   "metadata": {},
   "source": [
    "Checking TATZEIT_ANFANG_STUNDE column"
   ]
  },
  {
   "cell_type": "code",
   "execution_count": 23,
   "metadata": {},
   "outputs": [
    {
     "name": "stdout",
     "output_type": "stream",
     "text": [
      "Min value for TATZEIT_ANFANG_STUNDE:  0\n",
      "Max value for TATZEIT_ANFANG_STUNDE:  23\n"
     ]
    }
   ],
   "source": [
    "#OKOK\n",
    "# Checkin min and max values for TATZEIT_ANFANG_STUNDE\n",
    "print(\"Min value for TATZEIT_ANFANG_STUNDE: \", dataset_fahrraddiebstahl['TATZEIT_ANFANG_STUNDE'].min())\n",
    "print(\"Max value for TATZEIT_ANFANG_STUNDE: \", dataset_fahrraddiebstahl['TATZEIT_ANFANG_STUNDE'].max())"
   ]
  },
  {
   "cell_type": "code",
   "execution_count": 24,
   "metadata": {},
   "outputs": [
    {
     "data": {
      "image/png": "[encoded data removed]",
      "text/plain": [
       "<Figure size 640x480 with 1 Axes>"
      ]
     },
     "metadata": {},
     "output_type": "display_data"
    }
   ],
   "source": [
    "#OKOK\n",
    "# Calculating the counts for each unique value in 'TATZEIT_ANFANG_STUNDE'\n",
    "tatzeit_counts = dataset_fahrraddiebstahl['TATZEIT_ANFANG_STUNDE'].value_counts().sort_index()\n",
    "\n",
    "# Creating a lineplot\n",
    "sns.lineplot(x=tatzeit_counts.index, y=tatzeit_counts.values)\n",
    "\n",
    "# Adding significance markers to the plot\n",
    "plt.plot(tatzeit_counts.index, tatzeit_counts.values, 's', markersize=4)\n",
    "\n",
    "# Adding Working Hour lines\n",
    "plt.axvline(8, color='red', linestyle='dashed', linewidth=1)\n",
    "plt.axvline(16, color='red', linestyle='dashed', linewidth=1)\n",
    "\n",
    "# Adding transparent sketches for bike parking hours\n",
    "# Shades are added to show the bike parking hours\n",
    "plt.axvspan(7, 9, color='blue', alpha=0.2)  # Shaded region from 7 to 9\n",
    "plt.axvspan(16, 18, color='blue', alpha=0.2)  # Shaded region from 15 to 18\n",
    "\n",
    "# Adding title as well as x and y labels\n",
    "plt.title('Line Plot for TATZEIT_ANFANG_STUNDE')\n",
    "plt.xlabel('TATZEIT_ANFANG_STUNDE')\n",
    "plt.ylabel('Frequency')\n",
    "\n",
    "plt.show()\n"
   ]
  },
  {
   "cell_type": "markdown",
   "metadata": {},
   "source": [
    "Checking TATZEIT_ENDE_DATUM column"
   ]
  },
  {
   "cell_type": "code",
   "execution_count": 25,
   "metadata": {},
   "outputs": [
    {
     "name": "stdout",
     "output_type": "stream",
     "text": [
      "<class 'pandas.core.series.Series'>\n",
      "RangeIndex: 22127 entries, 0 to 22126\n",
      "Series name: TATZEIT_ENDE_DATUM\n",
      "Non-Null Count  Dtype         \n",
      "--------------  -----         \n",
      "22127 non-null  datetime64[ns]\n",
      "dtypes: datetime64[ns](1)\n",
      "memory usage: 173.0 KB\n"
     ]
    }
   ],
   "source": [
    "#OK\n",
    "# Changing the data type to datetime for the column TATZEIT_ENDE_DATUM\n",
    "dataset_fahrraddiebstahl['TATZEIT_ENDE_DATUM'] = pd.to_datetime(dataset_fahrraddiebstahl['TATZEIT_ENDE_DATUM'], format='%d.%m.%Y')\n",
    "\n",
    "# Approving the change of data type for TATZEIT_ANFANG_DATUM column\n",
    "dataset_fahrraddiebstahl[\"TATZEIT_ENDE_DATUM\"].info()"
   ]
  },
  {
   "cell_type": "code",
   "execution_count": 26,
   "metadata": {},
   "outputs": [
    {
     "data": {
      "text/html": [
       "<div>\n",
       "<style scoped>\n",
       "    .dataframe tbody tr th:only-of-type {\n",
       "        vertical-align: middle;\n",
       "    }\n",
       "\n",
       "    .dataframe tbody tr th {\n",
       "        vertical-align: top;\n",
       "    }\n",
       "\n",
       "    .dataframe thead th {\n",
       "        text-align: right;\n",
       "    }\n",
       "</style>\n",
       "<table border=\"1\" class=\"dataframe\">\n",
       "  <thead>\n",
       "    <tr style=\"text-align: right;\">\n",
       "      <th></th>\n",
       "      <th>ANGELEGT_AM</th>\n",
       "      <th>TATZEIT_ANFANG_DATUM</th>\n",
       "      <th>TATZEIT_ANFANG_STUNDE</th>\n",
       "      <th>TATZEIT_ENDE_DATUM</th>\n",
       "      <th>TATZEIT_ENDE_STUNDE</th>\n",
       "      <th>LOR</th>\n",
       "      <th>SCHADENSHOEHE</th>\n",
       "      <th>VERSUCH</th>\n",
       "      <th>ART_DES_FAHRRADS</th>\n",
       "      <th>DELIKT</th>\n",
       "      <th>ERFASSUNGSGRUND</th>\n",
       "    </tr>\n",
       "  </thead>\n",
       "  <tbody>\n",
       "    <tr>\n",
       "      <th>0</th>\n",
       "      <td>2024-01-14</td>\n",
       "      <td>2024-01-13</td>\n",
       "      <td>17</td>\n",
       "      <td>2024-01-14</td>\n",
       "      <td>11</td>\n",
       "      <td>7300515</td>\n",
       "      <td>110</td>\n",
       "      <td>Nein</td>\n",
       "      <td>Herrenfahrrad</td>\n",
       "      <td>Fahrraddiebstahl</td>\n",
       "      <td>Sonstiger schwerer Diebstahl von Fahrrädern</td>\n",
       "    </tr>\n",
       "    <tr>\n",
       "      <th>1</th>\n",
       "      <td>2024-01-14</td>\n",
       "      <td>2024-01-13</td>\n",
       "      <td>16</td>\n",
       "      <td>2024-01-14</td>\n",
       "      <td>12</td>\n",
       "      <td>8100416</td>\n",
       "      <td>999</td>\n",
       "      <td>Nein</td>\n",
       "      <td>Damenfahrrad</td>\n",
       "      <td>Fahrraddiebstahl</td>\n",
       "      <td>Sonstiger schwerer Diebstahl von Fahrrädern</td>\n",
       "    </tr>\n",
       "    <tr>\n",
       "      <th>2</th>\n",
       "      <td>2024-01-14</td>\n",
       "      <td>2024-01-14</td>\n",
       "      <td>15</td>\n",
       "      <td>2024-01-14</td>\n",
       "      <td>20</td>\n",
       "      <td>2500830</td>\n",
       "      <td>399</td>\n",
       "      <td>Nein</td>\n",
       "      <td>Herrenfahrrad</td>\n",
       "      <td>Fahrraddiebstahl</td>\n",
       "      <td>Sonstiger schwerer Diebstahl von Fahrrädern</td>\n",
       "    </tr>\n",
       "  </tbody>\n",
       "</table>\n",
       "</div>"
      ],
      "text/plain": [
       "  ANGELEGT_AM TATZEIT_ANFANG_DATUM  TATZEIT_ANFANG_STUNDE TATZEIT_ENDE_DATUM  \\\n",
       "0  2024-01-14           2024-01-13                     17         2024-01-14   \n",
       "1  2024-01-14           2024-01-13                     16         2024-01-14   \n",
       "2  2024-01-14           2024-01-14                     15         2024-01-14   \n",
       "\n",
       "   TATZEIT_ENDE_STUNDE      LOR  SCHADENSHOEHE VERSUCH ART_DES_FAHRRADS  \\\n",
       "0                   11  7300515            110    Nein    Herrenfahrrad   \n",
       "1                   12  8100416            999    Nein     Damenfahrrad   \n",
       "2                   20  2500830            399    Nein    Herrenfahrrad   \n",
       "\n",
       "             DELIKT                              ERFASSUNGSGRUND  \n",
       "0  Fahrraddiebstahl  Sonstiger schwerer Diebstahl von Fahrrädern  \n",
       "1  Fahrraddiebstahl  Sonstiger schwerer Diebstahl von Fahrrädern  \n",
       "2  Fahrraddiebstahl  Sonstiger schwerer Diebstahl von Fahrrädern  "
      ]
     },
     "execution_count": 26,
     "metadata": {},
     "output_type": "execute_result"
    }
   ],
   "source": [
    "# Checking the first 3 rows of the dataset fahrraddiebstahl\n",
    "dataset_fahrraddiebstahl.head(3)"
   ]
  },
  {
   "cell_type": "code",
   "execution_count": 27,
   "metadata": {},
   "outputs": [
    {
     "name": "stdout",
     "output_type": "stream",
     "text": [
      "Min value for TATZEIT_ENDE_DATUM:  2023-01-01 00:00:00\n",
      "Max value for TATZEIT_ENDE_DATUM:  2024-01-14 00:00:00\n"
     ]
    }
   ],
   "source": [
    "#OK\n",
    "# Checking min and max values for TATZEIT_ENDE_DATUM\n",
    "print(\"Min value for TATZEIT_ENDE_DATUM: \", dataset_fahrraddiebstahl['TATZEIT_ENDE_DATUM'].min())\n",
    "print(\"Max value for TATZEIT_ENDE_DATUM: \", dataset_fahrraddiebstahl['TATZEIT_ENDE_DATUM'].max())"
   ]
  },
  {
   "cell_type": "code",
   "execution_count": 28,
   "metadata": {},
   "outputs": [
    {
     "data": {
      "image/png": "[encoded data removed]",
      "text/plain": [
       "<Figure size 1000x500 with 1 Axes>"
      ]
     },
     "metadata": {},
     "output_type": "display_data"
    }
   ],
   "source": [
    "#OK\n",
    "# Plotting histogram for TATZEIT_ENDE_DATUM\n",
    "dataset_fahrraddiebstahl['TATZEIT_ENDE_DATUM'].hist(bins=50, figsize=(10,5))\n",
    "\n",
    "# Adding Red lines for the mean and median\n",
    "plt.axvline(dataset_fahrraddiebstahl['TATZEIT_ENDE_DATUM'].mean(), color='red', linestyle='dashed', linewidth=1)\n",
    "plt.axvline(dataset_fahrraddiebstahl['TATZEIT_ENDE_DATUM'].median(), color='red', linestyle='dashed', linewidth=1)\n",
    "\n",
    "#Adding Yellow lines for seasons\n",
    "plt.axvline(pd.to_datetime('2023-03-20'), color='yellow', linestyle='dashed', linewidth=1)\n",
    "plt.axvline(pd.to_datetime('2023-06-20'), color='yellow', linestyle='dashed', linewidth=1)\n",
    "plt.axvline(pd.to_datetime('2023-09-22'), color='yellow', linestyle='dashed', linewidth=1)\n",
    "plt.axvline(pd.to_datetime('2023-12-21'), color='yellow', linestyle='dashed', linewidth=1)\n",
    "\n",
    "# Adding title as well as x and y labels\n",
    "plt.title('Histogram for TATZEIT_ENDE_DATUM')\n",
    "plt.xlabel('TATZEIT_ENDE_DATUM')\n",
    "plt.ylabel('Frequency')\n",
    "\n",
    "plt.show()"
   ]
  },
  {
   "cell_type": "markdown",
   "metadata": {},
   "source": [
    "Checking TATZEIT_ENDE_STUNDE column"
   ]
  },
  {
   "cell_type": "code",
   "execution_count": 29,
   "metadata": {},
   "outputs": [
    {
     "name": "stdout",
     "output_type": "stream",
     "text": [
      "Min value for TATZEIT_ENDE_STUNDE:  0\n",
      "Max value for TATZEIT_ENDE_STUNDE:  23\n"
     ]
    }
   ],
   "source": [
    "#OK\n",
    "# Checking min and max values for TATZEIT_ENDE_STUNDE\n",
    "print(\"Min value for TATZEIT_ENDE_STUNDE: \", dataset_fahrraddiebstahl['TATZEIT_ENDE_STUNDE'].min())\n",
    "print(\"Max value for TATZEIT_ENDE_STUNDE: \", dataset_fahrraddiebstahl['TATZEIT_ENDE_STUNDE'].max())"
   ]
  },
  {
   "cell_type": "code",
   "execution_count": 30,
   "metadata": {},
   "outputs": [
    {
     "data": {
      "image/png": "[encoded data removed]",
      "text/plain": [
       "<Figure size 640x480 with 1 Axes>"
      ]
     },
     "metadata": {},
     "output_type": "display_data"
    }
   ],
   "source": [
    "#OK\n",
    "# Calculating the counts for each unique value in 'TATZEIT_ENDE_STUNDE'\n",
    "tatzeit_ende_counts = dataset_fahrraddiebstahl['TATZEIT_ENDE_STUNDE'].value_counts().sort_index()\n",
    "\n",
    "# Creating a lineplot\n",
    "sns.lineplot(x=tatzeit_ende_counts.index, y=tatzeit_ende_counts.values)\n",
    "\n",
    "# Adding significance markers to the plot\n",
    "plt.plot(tatzeit_ende_counts.index, tatzeit_ende_counts.values, 's', markersize=4)  # 's' specifies square markers\n",
    "\n",
    "# Adding Working Hour lines\n",
    "plt.axvline(8, color='red', linestyle='dashed', linewidth=1)\n",
    "plt.axvline(16, color='red', linestyle='dashed', linewidth=1)\n",
    "\n",
    "# Adding transparent sketches\n",
    "# Shades are added to show the bike parking hours\n",
    "plt.axvspan(7, 9, color='blue', alpha=0.2)  # Shaded region from 7 to 9\n",
    "plt.axvspan(15, 17, color='blue', alpha=0.2)  # Shaded region from 15 to 17\n",
    "\n",
    "# Adding title as well as x and y labels\n",
    "plt.title('Line Plot for TATZEIT_ENDE_STUNDE')\n",
    "plt.xlabel('TATZEIT_ENDE_STUNDE')\n",
    "plt.ylabel('Frequency')\n",
    "\n",
    "plt.show()\n"
   ]
  },
  {
   "cell_type": "code",
   "execution_count": 31,
   "metadata": {},
   "outputs": [
    {
     "name": "stdout",
     "output_type": "stream",
     "text": [
      "<class 'pandas.core.series.Series'>\n",
      "RangeIndex: 22127 entries, 0 to 22126\n",
      "Series name: LOR\n",
      "Non-Null Count  Dtype\n",
      "--------------  -----\n",
      "22127 non-null  int64\n",
      "dtypes: int64(1)\n",
      "memory usage: 173.0 KB\n"
     ]
    }
   ],
   "source": [
    "# OK\n",
    "# Checking the data type of LOR column\n",
    "dataset_fahrraddiebstahl[\"LOR\"].info()"
   ]
  },
  {
   "cell_type": "code",
   "execution_count": 32,
   "metadata": {},
   "outputs": [
    {
     "name": "stdout",
     "output_type": "stream",
     "text": [
      "Min value for LOR:  1100101\n",
      "Max value for LOR:  12601236\n"
     ]
    }
   ],
   "source": [
    "# OK\n",
    "# Checking min and max values for LOR\n",
    "print(\"Min value for LOR: \", dataset_fahrraddiebstahl['LOR'].min())\n",
    "print(\"Max value for LOR: \", dataset_fahrraddiebstahl['LOR'].max())"
   ]
  },
  {
   "cell_type": "code",
   "execution_count": 33,
   "metadata": {},
   "outputs": [
    {
     "name": "stdout",
     "output_type": "stream",
     "text": [
      "Min value for LOR:  01100101\n",
      "Max value for LOR:  12601236\n"
     ]
    }
   ],
   "source": [
    "# OK\n",
    "# Converting the column to strings\n",
    "dataset_fahrraddiebstahl['LOR'] = dataset_fahrraddiebstahl['LOR'].astype(str)\n",
    "\n",
    "# Adding a leading zero to 7-digit entries\n",
    "dataset_fahrraddiebstahl['LOR'] = dataset_fahrraddiebstahl['LOR'].apply(lambda x: '0' + x if len(x) == 7 else x)\n",
    "\n",
    "# Showing min and max values for LOR\n",
    "print(\"Min value for LOR: \", dataset_fahrraddiebstahl['LOR'].min())\n",
    "print(\"Max value for LOR: \", dataset_fahrraddiebstahl['LOR'].max())"
   ]
  },
  {
   "cell_type": "code",
   "execution_count": 34,
   "metadata": {},
   "outputs": [
    {
     "name": "stdout",
     "output_type": "stream",
     "text": [
      "        LOR bezirk_id PGR BZR PLR\n",
      "0  07300515        07  30  05  15\n",
      "1  08100416        08  10  04  16\n",
      "2  02500830        02  50  08  30\n",
      "3  06300634        06  30  06  34\n",
      "4  07200414        07  20  04  14\n"
     ]
    }
   ],
   "source": [
    "# OK\n",
    "# Create new columns by slicing the LOR column\n",
    "dataset_fahrraddiebstahl['bezirk_id'] = dataset_fahrraddiebstahl['LOR'].str[:2]\n",
    "dataset_fahrraddiebstahl['PGR'] = dataset_fahrraddiebstahl['LOR'].str[2:4]\n",
    "dataset_fahrraddiebstahl['BZR'] = dataset_fahrraddiebstahl['LOR'].str[4:6]\n",
    "dataset_fahrraddiebstahl['PLR'] = dataset_fahrraddiebstahl['LOR'].str[6:8]\n",
    "\n",
    "# Check the first few rows to verify the changes\n",
    "print(dataset_fahrraddiebstahl[['LOR', 'bezirk_id', 'PGR', 'BZR', 'PLR']].head())"
   ]
  },
  {
   "cell_type": "code",
   "execution_count": 35,
   "metadata": {},
   "outputs": [
    {
     "name": "stdout",
     "output_type": "stream",
     "text": [
      "<class 'pandas.core.series.Series'>\n",
      "RangeIndex: 22127 entries, 0 to 22126\n",
      "Series name: bezirk_id\n",
      "Non-Null Count  Dtype\n",
      "--------------  -----\n",
      "22127 non-null  int32\n",
      "dtypes: int32(1)\n",
      "memory usage: 86.6 KB\n"
     ]
    }
   ],
   "source": [
    "# OK\n",
    "#Convert the data type of bezirk_id to int\n",
    "dataset_fahrraddiebstahl['bezirk_id'] = dataset_fahrraddiebstahl['bezirk_id'].astype(int)\n",
    "#Check the data type of bezirk_id column\n",
    "dataset_fahrraddiebstahl[\"bezirk_id\"].info()"
   ]
  },
  {
   "cell_type": "code",
   "execution_count": 36,
   "metadata": {},
   "outputs": [
    {
     "name": "stdout",
     "output_type": "stream",
     "text": [
      "Min value for bezirk_id:  1\n",
      "Max value for bezirk_id:  12\n"
     ]
    }
   ],
   "source": [
    "# OK\n",
    "#Show min and max values for bezirk_id\n",
    "print(\"Min value for bezirk_id: \", dataset_fahrraddiebstahl['bezirk_id'].min())\n",
    "print(\"Max value for bezirk_id: \", dataset_fahrraddiebstahl['bezirk_id'].max())"
   ]
  },
  {
   "cell_type": "code",
   "execution_count": 37,
   "metadata": {},
   "outputs": [
    {
     "data": {
      "text/plain": [
       "1     3321\n",
       "2     3202\n",
       "3     2788\n",
       "4     2231\n",
       "7     2168\n",
       "9     1717\n",
       "8     1693\n",
       "6     1378\n",
       "11    1365\n",
       "12     978\n",
       "10     647\n",
       "5      639\n",
       "Name: bezirk_id, dtype: int64"
      ]
     },
     "execution_count": 37,
     "metadata": {},
     "output_type": "execute_result"
    }
   ],
   "source": [
    "# OK\n",
    "#Check the value counts for bezirk_id\n",
    "dataset_fahrraddiebstahl['bezirk_id'].value_counts()"
   ]
  },
  {
   "cell_type": "code",
   "execution_count": 38,
   "metadata": {},
   "outputs": [],
   "source": [
    "# OK\n",
    "#Convert data type of bezirk_id to category\n",
    "dataset_fahrraddiebstahl['bezirk_id'] = dataset_fahrraddiebstahl['bezirk_id'].astype('category')"
   ]
  },
  {
   "cell_type": "code",
   "execution_count": 39,
   "metadata": {},
   "outputs": [
    {
     "data": {
      "image/png": "[encoded data removed]",
      "text/plain": [
       "<Figure size 640x480 with 1 Axes>"
      ]
     },
     "metadata": {},
     "output_type": "display_data"
    }
   ],
   "source": [
    "#Create barplot for bezirk_id\n",
    "sns.countplot(x='bezirk_id', data=dataset_fahrraddiebstahl)\n",
    "plt.title('Barplot for bezirk_id')\n",
    "plt.xlabel('bezirk_id')\n",
    "plt.ylabel('Frequency')\n",
    "plt.show()"
   ]
  },
  {
   "cell_type": "markdown",
   "metadata": {},
   "source": [
    "Checking SCHADENSHOEHE column"
   ]
  },
  {
   "cell_type": "code",
   "execution_count": 40,
   "metadata": {},
   "outputs": [
    {
     "name": "stdout",
     "output_type": "stream",
     "text": [
      "<class 'pandas.core.series.Series'>\n",
      "RangeIndex: 22127 entries, 0 to 22126\n",
      "Series name: SCHADENSHOEHE\n",
      "Non-Null Count  Dtype\n",
      "--------------  -----\n",
      "22127 non-null  int64\n",
      "dtypes: int64(1)\n",
      "memory usage: 173.0 KB\n"
     ]
    }
   ],
   "source": [
    "#OK\n",
    "#Check the data type of SCHADENSHOEHE column\n",
    "dataset_fahrraddiebstahl[\"SCHADENSHOEHE\"].info()"
   ]
  },
  {
   "cell_type": "code",
   "execution_count": 41,
   "metadata": {},
   "outputs": [
    {
     "name": "stdout",
     "output_type": "stream",
     "text": [
      "count    22127.000000\n",
      "mean      1151.737967\n",
      "std       1142.846193\n",
      "min          0.000000\n",
      "25%        470.000000\n",
      "50%        799.000000\n",
      "75%       1399.000000\n",
      "max      10000.000000\n",
      "Name: SCHADENSHOEHE, dtype: float64\n"
     ]
    }
   ],
   "source": [
    "#OK\n",
    "print(dataset_fahrraddiebstahl['SCHADENSHOEHE'].describe())"
   ]
  },
  {
   "cell_type": "code",
   "execution_count": 42,
   "metadata": {},
   "outputs": [
    {
     "name": "stdout",
     "output_type": "stream",
     "text": [
      "Skewness: 2.673797309410892\n",
      "Kurtosis: 10.302528203073297\n"
     ]
    }
   ],
   "source": [
    "#OK\n",
    "skewness = dataset_fahrraddiebstahl['SCHADENSHOEHE'].skew()\n",
    "kurtosis = dataset_fahrraddiebstahl['SCHADENSHOEHE'].kurtosis()\n",
    "\n",
    "print(f'Skewness: {skewness}')\n",
    "print(f'Kurtosis: {kurtosis}')"
   ]
  },
  {
   "cell_type": "markdown",
   "metadata": {},
   "source": [
    "Skewness (2.673797309410892):\n",
    "A skewness value greater than 0, especially higher than 1, indicates a positively skewed (right-skewed) distribution.\n",
    "This means that the majority of the data points are concentrated on the lower side of the scale, but there are some exceptionally high values (i.e., a long right tail).\n",
    "In the context of prices, it suggests that while most of the items have lower prices, there are a few items with very high prices.\n",
    "\n",
    "Kurtosis (10.302528203073297):\n",
    "A kurtosis value significantly greater than 0 suggests a leptokurtic distribution.\n",
    "This type of distribution has a sharper peak and fatter tails compared to a normal distribution.\n",
    "It indicates that the data has more frequent and severe outliers than a normal distribution would predict.\n",
    "\n",
    "Implications:\n",
    "The positive skewness suggests that any mean-based analysis might be skewed by these high-value outliers. The median might be a more representative measure of central tendency for this data.\n",
    "The high kurtosis value alerts you to the presence of outliers, which might need special attention or treatment, especially in tasks like predictive modeling.\n",
    "So i decided to choose outliers regarding 4 Sigma rule."
   ]
  },
  {
   "cell_type": "code",
   "execution_count": 43,
   "metadata": {},
   "outputs": [
    {
     "name": "stdout",
     "output_type": "stream",
     "text": [
      "Identified outliers: 221\n"
     ]
    }
   ],
   "source": [
    "#OK\n",
    "# Calculate mean and standard deviation\n",
    "mean = dataset_fahrraddiebstahl['SCHADENSHOEHE'].mean()\n",
    "std_dev = dataset_fahrraddiebstahl['SCHADENSHOEHE'].std()\n",
    "\n",
    "# Determine bounds for outliers (4-sigma rule)\n",
    "schadenshoehe_lower_bound = mean - 4 * std_dev\n",
    "schadenshoehe_upper_bound = mean + 4 * std_dev\n",
    "\n",
    "# Identify outliers\n",
    "outliers = dataset_fahrraddiebstahl[(dataset_fahrraddiebstahl['SCHADENSHOEHE'] < schadenshoehe_lower_bound) | (dataset_fahrraddiebstahl['SCHADENSHOEHE'] > schadenshoehe_upper_bound)]\n",
    "\n",
    "#Save row numbers of outliers\n",
    "outliers_row_numbers = outliers.index.values.tolist()\n",
    "\n",
    "# Print total number of outliers\n",
    "print('Identified outliers: %d' % outliers.shape[0])"
   ]
  },
  {
   "cell_type": "code",
   "execution_count": 44,
   "metadata": {},
   "outputs": [
    {
     "data": {
      "image/png": "[encoded data removed]",
      "text/plain": [
       "<Figure size 640x480 with 1 Axes>"
      ]
     },
     "metadata": {},
     "output_type": "display_data"
    }
   ],
   "source": [
    "#OK\n",
    "#Create a histogram for SCHADENSHOEHE with signing the outliers\n",
    "plt.hist(dataset_fahrraddiebstahl['SCHADENSHOEHE'], bins=50, edgecolor='black')\n",
    "plt.title('Distribution of SCHADENSHOEHE')\n",
    "plt.xlabel('SCHADENSHOEHE')\n",
    "plt.ylabel('Frequency')\n",
    "#Add red lines for the mean and median\n",
    "plt.axvline(dataset_fahrraddiebstahl['SCHADENSHOEHE'].mean(), color='red', linestyle='dashed', linewidth=1)\n",
    "plt.axvline(dataset_fahrraddiebstahl['SCHADENSHOEHE'].median(), color='red', linestyle='dashed', linewidth=1)\n",
    "#Add yellow lines for the outliers\n",
    "plt.axvline(schadenshoehe_upper_bound, color='yellow', linestyle='dashed', linewidth=1)\n",
    "plt.show()"
   ]
  },
  {
   "cell_type": "markdown",
   "metadata": {},
   "source": [
    "Checking VERSUCH column"
   ]
  },
  {
   "cell_type": "code",
   "execution_count": 45,
   "metadata": {},
   "outputs": [
    {
     "name": "stdout",
     "output_type": "stream",
     "text": [
      "<class 'pandas.core.series.Series'>\n",
      "RangeIndex: 22127 entries, 0 to 22126\n",
      "Series name: VERSUCH\n",
      "Non-Null Count  Dtype \n",
      "--------------  ----- \n",
      "22127 non-null  object\n",
      "dtypes: object(1)\n",
      "memory usage: 173.0+ KB\n"
     ]
    }
   ],
   "source": [
    "#OK\n",
    "#Check the data type of VERSUCH column\n",
    "dataset_fahrraddiebstahl[\"VERSUCH\"].info()"
   ]
  },
  {
   "cell_type": "code",
   "execution_count": 46,
   "metadata": {},
   "outputs": [
    {
     "name": "stdout",
     "output_type": "stream",
     "text": [
      "count     22127\n",
      "unique        3\n",
      "top        Nein\n",
      "freq      22020\n",
      "Name: VERSUCH, dtype: object\n"
     ]
    }
   ],
   "source": [
    "#OK\n",
    "#Describe the VERSUCH column\n",
    "print(dataset_fahrraddiebstahl['VERSUCH'].describe())"
   ]
  },
  {
   "cell_type": "code",
   "execution_count": 47,
   "metadata": {},
   "outputs": [],
   "source": [
    "#OK\n",
    "dataset_fahrraddiebstahl['VERSUCH'] = dataset_fahrraddiebstahl['VERSUCH'].astype('category')"
   ]
  },
  {
   "cell_type": "code",
   "execution_count": 48,
   "metadata": {},
   "outputs": [
    {
     "name": "stdout",
     "output_type": "stream",
     "text": [
      "Nein         22020\n",
      "Ja              98\n",
      "Unbekannt        9\n",
      "Name: VERSUCH, dtype: int64\n",
      "----------------------------------------------------\n",
      "Nein         0.995164\n",
      "Ja           0.004429\n",
      "Unbekannt    0.000407\n",
      "Name: VERSUCH, dtype: float64\n"
     ]
    }
   ],
   "source": [
    "#OK\n",
    "#Show how many values are in the VERSUCH column\n",
    "print(dataset_fahrraddiebstahl['VERSUCH'].value_counts())\n",
    "print(\"----------------------------------------------------\")\n",
    "# Proportions\n",
    "print(dataset_fahrraddiebstahl['VERSUCH'].value_counts(normalize=True))\n"
   ]
  },
  {
   "cell_type": "code",
   "execution_count": 49,
   "metadata": {},
   "outputs": [
    {
     "data": {
      "image/png": "[encoded data removed]",
      "text/plain": [
       "<Figure size 640x480 with 1 Axes>"
      ]
     },
     "metadata": {},
     "output_type": "display_data"
    }
   ],
   "source": [
    "#OK\n",
    "# Create the bar plot\n",
    "ax = sns.countplot(x='VERSUCH', data=dataset_fahrraddiebstahl)\n",
    "plt.xlabel('VERSUCH')\n",
    "plt.ylabel('Frequency')\n",
    "plt.title('Frequency of Each Category in VERSUCH')\n",
    "\n",
    "# Annotate each bar with its count\n",
    "for p in ax.patches:\n",
    "    ax.annotate(f'{int(p.get_height())}', (p.get_x() + p.get_width() / 2., p.get_height()), ha='center', va='center', xytext=(0, 10), textcoords='offset points')\n",
    "\n",
    "plt.show()\n"
   ]
  },
  {
   "cell_type": "markdown",
   "metadata": {},
   "source": [
    "Checking ART_DES_FAHRRADS column"
   ]
  },
  {
   "cell_type": "code",
   "execution_count": 50,
   "metadata": {},
   "outputs": [
    {
     "name": "stdout",
     "output_type": "stream",
     "text": [
      "<class 'pandas.core.series.Series'>\n",
      "RangeIndex: 22127 entries, 0 to 22126\n",
      "Series name: ART_DES_FAHRRADS\n",
      "Non-Null Count  Dtype \n",
      "--------------  ----- \n",
      "22127 non-null  object\n",
      "dtypes: object(1)\n",
      "memory usage: 173.0+ KB\n"
     ]
    }
   ],
   "source": [
    "#OK\n",
    "#Check the data type of ART_DES_FAHRRADS column\n",
    "dataset_fahrraddiebstahl[\"ART_DES_FAHRRADS\"].info()"
   ]
  },
  {
   "cell_type": "code",
   "execution_count": 51,
   "metadata": {},
   "outputs": [
    {
     "name": "stdout",
     "output_type": "stream",
     "text": [
      "count             22127\n",
      "unique                8\n",
      "top       Herrenfahrrad\n",
      "freq              10050\n",
      "Name: ART_DES_FAHRRADS, dtype: object\n"
     ]
    }
   ],
   "source": [
    "#OK\n",
    "#Describe the ART_DES_FAHRRADS column\n",
    "print(dataset_fahrraddiebstahl['ART_DES_FAHRRADS'].describe())"
   ]
  },
  {
   "cell_type": "code",
   "execution_count": 52,
   "metadata": {},
   "outputs": [],
   "source": [
    "#OK\n",
    "dataset_fahrraddiebstahl['ART_DES_FAHRRADS'] = dataset_fahrraddiebstahl['ART_DES_FAHRRADS'].astype('category')"
   ]
  },
  {
   "cell_type": "code",
   "execution_count": 53,
   "metadata": {},
   "outputs": [
    {
     "name": "stdout",
     "output_type": "stream",
     "text": [
      "Herrenfahrrad        10050\n",
      "Damenfahrrad          5756\n",
      "Fahrrad               3382\n",
      "Kinderfahrrad          924\n",
      "Mountainbike           908\n",
      "diverse Fahrräder      629\n",
      "Rennrad                393\n",
      "Lastenfahrrad           85\n",
      "Name: ART_DES_FAHRRADS, dtype: int64\n",
      "----------------------------------------------------\n",
      "Herrenfahrrad        0.454196\n",
      "Damenfahrrad         0.260135\n",
      "Fahrrad              0.152845\n",
      "Kinderfahrrad        0.041759\n",
      "Mountainbike         0.041036\n",
      "diverse Fahrräder    0.028427\n",
      "Rennrad              0.017761\n",
      "Lastenfahrrad        0.003841\n",
      "Name: ART_DES_FAHRRADS, dtype: float64\n"
     ]
    }
   ],
   "source": [
    "#Show how many values are in the ART_DES_FAHRRADS column\n",
    "print(dataset_fahrraddiebstahl['ART_DES_FAHRRADS'].value_counts())\n",
    "print(\"----------------------------------------------------\")\n",
    "# Proportions\n",
    "print(dataset_fahrraddiebstahl['ART_DES_FAHRRADS'].value_counts(normalize=True))"
   ]
  },
  {
   "cell_type": "code",
   "execution_count": 54,
   "metadata": {},
   "outputs": [
    {
     "data": {
      "image/png": "[encoded data removed]",
      "text/plain": [
       "<Figure size 640x480 with 1 Axes>"
      ]
     },
     "metadata": {},
     "output_type": "display_data"
    }
   ],
   "source": [
    "#OK\n",
    "# Create the bar plot\n",
    "ax = sns.countplot(x='ART_DES_FAHRRADS', data=dataset_fahrraddiebstahl)\n",
    "plt.xlabel('ART_DES_FAHRRADS')\n",
    "#Rotate the x labels\n",
    "plt.xticks(rotation=45)\n",
    "\n",
    "plt.ylabel('Frequency')\n",
    "plt.title('Frequency of Each Category in ART_DES_FAHRRADS')\n",
    "\n",
    "# Annotate each bar with its count\n",
    "for p in ax.patches:\n",
    "    ax.annotate(f'{int(p.get_height())}', (p.get_x() + p.get_width() / 2., p.get_height()), ha='center', va='center', xytext=(0, 10), textcoords='offset points')\n",
    "\n",
    "plt.show()"
   ]
  },
  {
   "cell_type": "markdown",
   "metadata": {},
   "source": [
    "Checking DELIKT column"
   ]
  },
  {
   "cell_type": "code",
   "execution_count": 55,
   "metadata": {},
   "outputs": [
    {
     "name": "stdout",
     "output_type": "stream",
     "text": [
      "<class 'pandas.core.series.Series'>\n",
      "RangeIndex: 22127 entries, 0 to 22126\n",
      "Series name: DELIKT\n",
      "Non-Null Count  Dtype \n",
      "--------------  ----- \n",
      "22127 non-null  object\n",
      "dtypes: object(1)\n",
      "memory usage: 173.0+ KB\n"
     ]
    }
   ],
   "source": [
    "# OK\n",
    "#Check the data type of DELIKT column\n",
    "dataset_fahrraddiebstahl[\"DELIKT\"].info()"
   ]
  },
  {
   "cell_type": "code",
   "execution_count": 56,
   "metadata": {},
   "outputs": [
    {
     "name": "stdout",
     "output_type": "stream",
     "text": [
      "count                22127\n",
      "unique                   2\n",
      "top       Fahrraddiebstahl\n",
      "freq                 20798\n",
      "Name: DELIKT, dtype: object\n"
     ]
    }
   ],
   "source": [
    "#OK\n",
    "#Describe the DELIKT column\n",
    "print(dataset_fahrraddiebstahl['DELIKT'].describe())"
   ]
  },
  {
   "cell_type": "code",
   "execution_count": 57,
   "metadata": {},
   "outputs": [],
   "source": [
    "#OK\n",
    "dataset_fahrraddiebstahl['DELIKT'] = dataset_fahrraddiebstahl['DELIKT'].astype('category')"
   ]
  },
  {
   "cell_type": "code",
   "execution_count": 58,
   "metadata": {},
   "outputs": [
    {
     "name": "stdout",
     "output_type": "stream",
     "text": [
      "Fahrraddiebstahl             20798\n",
      "Keller- und Bodeneinbruch     1329\n",
      "Name: DELIKT, dtype: int64\n",
      "----------------------------------------------------\n",
      "Fahrraddiebstahl             0.939938\n",
      "Keller- und Bodeneinbruch    0.060062\n",
      "Name: DELIKT, dtype: float64\n"
     ]
    }
   ],
   "source": [
    "#OK\n",
    "#Show how many values are in the DELIKT column\n",
    "print(dataset_fahrraddiebstahl['DELIKT'].value_counts())\n",
    "print(\"----------------------------------------------------\")\n",
    "# Proportions\n",
    "print(dataset_fahrraddiebstahl['DELIKT'].value_counts(normalize=True))"
   ]
  },
  {
   "cell_type": "code",
   "execution_count": 59,
   "metadata": {},
   "outputs": [
    {
     "data": {
      "image/png": "[encoded data removed]",
      "text/plain": [
       "<Figure size 640x480 with 1 Axes>"
      ]
     },
     "metadata": {},
     "output_type": "display_data"
    }
   ],
   "source": [
    "#OK\n",
    "# Create the bar plot\n",
    "ax = sns.countplot(x='DELIKT', data=dataset_fahrraddiebstahl)\n",
    "plt.xlabel('DELIKT')\n",
    "plt.ylabel('Frequency')\n",
    "plt.title('Frequency of Each Category in DELIKT')\n",
    "\n",
    "# Annotate each bar with its count\n",
    "for p in ax.patches:\n",
    "    ax.annotate(f'{int(p.get_height())}', (p.get_x() + p.get_width() / 2., p.get_height()), ha='center', va='center', xytext=(0, 10), textcoords='offset points')\n",
    "\n",
    "plt.show()"
   ]
  },
  {
   "cell_type": "markdown",
   "metadata": {},
   "source": [
    "Checking ERFASSUNGSGRUND column"
   ]
  },
  {
   "cell_type": "code",
   "execution_count": 60,
   "metadata": {},
   "outputs": [
    {
     "name": "stdout",
     "output_type": "stream",
     "text": [
      "<class 'pandas.core.series.Series'>\n",
      "RangeIndex: 22127 entries, 0 to 22126\n",
      "Series name: ERFASSUNGSGRUND\n",
      "Non-Null Count  Dtype \n",
      "--------------  ----- \n",
      "22127 non-null  object\n",
      "dtypes: object(1)\n",
      "memory usage: 173.0+ KB\n"
     ]
    }
   ],
   "source": [
    "#OK\n",
    "#Check the data type of ERFASSUNGSGRUND column\n",
    "dataset_fahrraddiebstahl[\"ERFASSUNGSGRUND\"].info()"
   ]
  },
  {
   "cell_type": "code",
   "execution_count": 61,
   "metadata": {},
   "outputs": [
    {
     "name": "stdout",
     "output_type": "stream",
     "text": [
      "count                                           22127\n",
      "unique                                              4\n",
      "top       Sonstiger schwerer Diebstahl von Fahrrädern\n",
      "freq                                            19657\n",
      "Name: ERFASSUNGSGRUND, dtype: object\n"
     ]
    }
   ],
   "source": [
    "#OK\n",
    "#Describe the ERFASSUNGSGRUND column\n",
    "print(dataset_fahrraddiebstahl['ERFASSUNGSGRUND'].describe())"
   ]
  },
  {
   "cell_type": "code",
   "execution_count": 62,
   "metadata": {},
   "outputs": [],
   "source": [
    "#OK\n",
    "dataset_fahrraddiebstahl['ERFASSUNGSGRUND'] = dataset_fahrraddiebstahl['ERFASSUNGSGRUND'].astype('category')"
   ]
  },
  {
   "cell_type": "code",
   "execution_count": 63,
   "metadata": {},
   "outputs": [
    {
     "name": "stdout",
     "output_type": "stream",
     "text": [
      "Sonstiger schwerer Diebstahl von Fahrrädern                        19657\n",
      "Sonstiger schwerer Diebstahl in/aus Keller/Boden von Fahrrädern     1329\n",
      "Einfacher Diebstahl von Fahrrädern                                  1093\n",
      "Einfacher Diebstahl aus Keller/Boden von Fahrrädern                   48\n",
      "Name: ERFASSUNGSGRUND, dtype: int64\n",
      "----------------------------------------------------\n",
      "Sonstiger schwerer Diebstahl von Fahrrädern                        0.888372\n",
      "Sonstiger schwerer Diebstahl in/aus Keller/Boden von Fahrrädern    0.060062\n",
      "Einfacher Diebstahl von Fahrrädern                                 0.049397\n",
      "Einfacher Diebstahl aus Keller/Boden von Fahrrädern                0.002169\n",
      "Name: ERFASSUNGSGRUND, dtype: float64\n"
     ]
    }
   ],
   "source": [
    "#OK\n",
    "#Show how many values are in the ERFASSUNGSGRUND column\n",
    "print(dataset_fahrraddiebstahl['ERFASSUNGSGRUND'].value_counts())\n",
    "print(\"----------------------------------------------------\")\n",
    "# Proportions\n",
    "print(dataset_fahrraddiebstahl['ERFASSUNGSGRUND'].value_counts(normalize=True))"
   ]
  },
  {
   "cell_type": "code",
   "execution_count": 64,
   "metadata": {},
   "outputs": [
    {
     "data": {
      "image/png": "[encoded data removed]",
      "text/plain": [
       "<Figure size 640x480 with 1 Axes>"
      ]
     },
     "metadata": {},
     "output_type": "display_data"
    }
   ],
   "source": [
    "#OK\n",
    "# Create the bar plot\n",
    "ax = sns.countplot(x='ERFASSUNGSGRUND', data=dataset_fahrraddiebstahl)\n",
    "plt.xlabel('ERFASSUNGSGRUND')\n",
    "#Rotate the x labels\n",
    "plt.xticks(rotation=90)\n",
    "plt.ylabel('Frequency')\n",
    "plt.title('Frequency of Each Category in ERFASSUNGSGRUND')\n",
    "\n",
    "# Annotate each bar with its count\n",
    "for p in ax.patches:\n",
    "    ax.annotate(f'{int(p.get_height())}', (p.get_x() + p.get_width() / 2., p.get_height()), ha='center', va='center', xytext=(0, 10), textcoords='offset points')\n",
    "\n",
    "plt.show()"
   ]
  },
  {
   "cell_type": "code",
   "execution_count": 65,
   "metadata": {},
   "outputs": [
    {
     "name": "stdout",
     "output_type": "stream",
     "text": [
      "Shape of dataset_fahrraddiebstahl before dropping duplicates:  (22127, 15)\n",
      "Shape of dataset_fahrraddiebstahl after dropping duplicates:  (22077, 15)\n"
     ]
    }
   ],
   "source": [
    "#OK\n",
    "#Print the shape of the dataset\n",
    "print(\"Shape of dataset_fahrraddiebstahl before dropping duplicates: \", dataset_fahrraddiebstahl.shape)\n",
    "#Drop duplicated rows\n",
    "dataset_fahrraddiebstahl.drop_duplicates(inplace=True)\n",
    "#Print the shape of the dataset\n",
    "print(\"Shape of dataset_fahrraddiebstahl after dropping duplicates: \", dataset_fahrraddiebstahl.shape)"
   ]
  },
  {
   "cell_type": "code",
   "execution_count": 66,
   "metadata": {},
   "outputs": [
    {
     "name": "stdout",
     "output_type": "stream",
     "text": [
      "Shape of dataset_fahrraddiebstahl before dropping outliers:  (22077, 15)\n",
      "Shape of dataset_fahrraddiebstahl after dropping outliers:  (21856, 15)\n"
     ]
    }
   ],
   "source": [
    "#OK\n",
    "#Print the shape of the dataset\n",
    "print(\"Shape of dataset_fahrraddiebstahl before dropping outliers: \", dataset_fahrraddiebstahl.shape)\n",
    "#Drop rows which are identified as outliers\n",
    "dataset_fahrraddiebstahl.drop(outliers_row_numbers, inplace=True)\n",
    "#Print the shape of the dataset\n",
    "print(\"Shape of dataset_fahrraddiebstahl after dropping outliers: \", dataset_fahrraddiebstahl.shape)"
   ]
  },
  {
   "cell_type": "code",
   "execution_count": 67,
   "metadata": {},
   "outputs": [
    {
     "data": {
      "text/html": [
       "<div>\n",
       "<style scoped>\n",
       "    .dataframe tbody tr th:only-of-type {\n",
       "        vertical-align: middle;\n",
       "    }\n",
       "\n",
       "    .dataframe tbody tr th {\n",
       "        vertical-align: top;\n",
       "    }\n",
       "\n",
       "    .dataframe thead th {\n",
       "        text-align: right;\n",
       "    }\n",
       "</style>\n",
       "<table border=\"1\" class=\"dataframe\">\n",
       "  <thead>\n",
       "    <tr style=\"text-align: right;\">\n",
       "      <th></th>\n",
       "      <th>bezirk_id</th>\n",
       "      <th>bezirk_name</th>\n",
       "    </tr>\n",
       "  </thead>\n",
       "  <tbody>\n",
       "    <tr>\n",
       "      <th>0</th>\n",
       "      <td>1</td>\n",
       "      <td>Mitte</td>\n",
       "    </tr>\n",
       "    <tr>\n",
       "      <th>1</th>\n",
       "      <td>2</td>\n",
       "      <td>Friedrichshain-Kreuzberg</td>\n",
       "    </tr>\n",
       "    <tr>\n",
       "      <th>2</th>\n",
       "      <td>3</td>\n",
       "      <td>Pankow</td>\n",
       "    </tr>\n",
       "  </tbody>\n",
       "</table>\n",
       "</div>"
      ],
      "text/plain": [
       "  bezirk_id               bezirk_name\n",
       "0         1                     Mitte\n",
       "1         2  Friedrichshain-Kreuzberg\n",
       "2         3                    Pankow"
      ]
     },
     "execution_count": 67,
     "metadata": {},
     "output_type": "execute_result"
    }
   ],
   "source": [
    "#print head of dataset_fahrraddiebstahl\n",
    "dataset_fahrraddiebstahl.head(3)\n",
    "#print head of dataset_berlin\n",
    "dataset_berlin.head(3)"
   ]
  },
  {
   "cell_type": "code",
   "execution_count": 68,
   "metadata": {},
   "outputs": [
    {
     "name": "stdout",
     "output_type": "stream",
     "text": [
      "Shape of dataset_berlin:  (12, 2)\n",
      "Shape of dataset_fahrraddiebstahl:  (21856, 15)\n",
      "Shape of dataset_berlin_fahrraddiebstahl:  (21856, 16)\n"
     ]
    }
   ],
   "source": [
    "#OK\n",
    "#Print the shape of dataset_berlin\n",
    "print(\"Shape of dataset_berlin: \", dataset_berlin.shape)\n",
    "#Print the shape of dataset_fahrraddiebstahl\n",
    "print(\"Shape of dataset_fahrraddiebstahl: \", dataset_fahrraddiebstahl.shape)\n",
    "#Merge the two datasets over the column bezirk_id\n",
    "dataset_berlin_fahrraddiebstahl = pd.merge(dataset_fahrraddiebstahl, dataset_berlin, on='bezirk_id', how='left')\n",
    "#Print the shape of the new dataset\n",
    "print(\"Shape of dataset_berlin_fahrraddiebstahl: \", dataset_berlin_fahrraddiebstahl.shape)"
   ]
  },
  {
   "cell_type": "code",
   "execution_count": 69,
   "metadata": {},
   "outputs": [
    {
     "data": {
      "text/html": [
       "<div>\n",
       "<style scoped>\n",
       "    .dataframe tbody tr th:only-of-type {\n",
       "        vertical-align: middle;\n",
       "    }\n",
       "\n",
       "    .dataframe tbody tr th {\n",
       "        vertical-align: top;\n",
       "    }\n",
       "\n",
       "    .dataframe thead th {\n",
       "        text-align: right;\n",
       "    }\n",
       "</style>\n",
       "<table border=\"1\" class=\"dataframe\">\n",
       "  <thead>\n",
       "    <tr style=\"text-align: right;\">\n",
       "      <th></th>\n",
       "      <th>ANGELEGT_AM</th>\n",
       "      <th>TATZEIT_ANFANG_DATUM</th>\n",
       "      <th>TATZEIT_ANFANG_STUNDE</th>\n",
       "      <th>TATZEIT_ENDE_DATUM</th>\n",
       "      <th>TATZEIT_ENDE_STUNDE</th>\n",
       "      <th>LOR</th>\n",
       "      <th>SCHADENSHOEHE</th>\n",
       "      <th>VERSUCH</th>\n",
       "      <th>ART_DES_FAHRRADS</th>\n",
       "      <th>DELIKT</th>\n",
       "      <th>ERFASSUNGSGRUND</th>\n",
       "      <th>bezirk_id</th>\n",
       "      <th>PGR</th>\n",
       "      <th>BZR</th>\n",
       "      <th>PLR</th>\n",
       "    </tr>\n",
       "  </thead>\n",
       "  <tbody>\n",
       "    <tr>\n",
       "      <th>0</th>\n",
       "      <td>2024-01-14</td>\n",
       "      <td>2024-01-13</td>\n",
       "      <td>17</td>\n",
       "      <td>2024-01-14</td>\n",
       "      <td>11</td>\n",
       "      <td>07300515</td>\n",
       "      <td>110</td>\n",
       "      <td>Nein</td>\n",
       "      <td>Herrenfahrrad</td>\n",
       "      <td>Fahrraddiebstahl</td>\n",
       "      <td>Sonstiger schwerer Diebstahl von Fahrrädern</td>\n",
       "      <td>7</td>\n",
       "      <td>30</td>\n",
       "      <td>05</td>\n",
       "      <td>15</td>\n",
       "    </tr>\n",
       "    <tr>\n",
       "      <th>1</th>\n",
       "      <td>2024-01-14</td>\n",
       "      <td>2024-01-13</td>\n",
       "      <td>16</td>\n",
       "      <td>2024-01-14</td>\n",
       "      <td>12</td>\n",
       "      <td>08100416</td>\n",
       "      <td>999</td>\n",
       "      <td>Nein</td>\n",
       "      <td>Damenfahrrad</td>\n",
       "      <td>Fahrraddiebstahl</td>\n",
       "      <td>Sonstiger schwerer Diebstahl von Fahrrädern</td>\n",
       "      <td>8</td>\n",
       "      <td>10</td>\n",
       "      <td>04</td>\n",
       "      <td>16</td>\n",
       "    </tr>\n",
       "    <tr>\n",
       "      <th>2</th>\n",
       "      <td>2024-01-14</td>\n",
       "      <td>2024-01-14</td>\n",
       "      <td>15</td>\n",
       "      <td>2024-01-14</td>\n",
       "      <td>20</td>\n",
       "      <td>02500830</td>\n",
       "      <td>399</td>\n",
       "      <td>Nein</td>\n",
       "      <td>Herrenfahrrad</td>\n",
       "      <td>Fahrraddiebstahl</td>\n",
       "      <td>Sonstiger schwerer Diebstahl von Fahrrädern</td>\n",
       "      <td>2</td>\n",
       "      <td>50</td>\n",
       "      <td>08</td>\n",
       "      <td>30</td>\n",
       "    </tr>\n",
       "  </tbody>\n",
       "</table>\n",
       "</div>"
      ],
      "text/plain": [
       "  ANGELEGT_AM TATZEIT_ANFANG_DATUM  TATZEIT_ANFANG_STUNDE TATZEIT_ENDE_DATUM  \\\n",
       "0  2024-01-14           2024-01-13                     17         2024-01-14   \n",
       "1  2024-01-14           2024-01-13                     16         2024-01-14   \n",
       "2  2024-01-14           2024-01-14                     15         2024-01-14   \n",
       "\n",
       "   TATZEIT_ENDE_STUNDE       LOR  SCHADENSHOEHE VERSUCH ART_DES_FAHRRADS  \\\n",
       "0                   11  07300515            110    Nein    Herrenfahrrad   \n",
       "1                   12  08100416            999    Nein     Damenfahrrad   \n",
       "2                   20  02500830            399    Nein    Herrenfahrrad   \n",
       "\n",
       "             DELIKT                              ERFASSUNGSGRUND bezirk_id  \\\n",
       "0  Fahrraddiebstahl  Sonstiger schwerer Diebstahl von Fahrrädern         7   \n",
       "1  Fahrraddiebstahl  Sonstiger schwerer Diebstahl von Fahrrädern         8   \n",
       "2  Fahrraddiebstahl  Sonstiger schwerer Diebstahl von Fahrrädern         2   \n",
       "\n",
       "  PGR BZR PLR  \n",
       "0  30  05  15  \n",
       "1  10  04  16  \n",
       "2  50  08  30  "
      ]
     },
     "execution_count": 69,
     "metadata": {},
     "output_type": "execute_result"
    }
   ],
   "source": [
    "dataset_fahrraddiebstahl.head(3)"
   ]
  },
  {
   "cell_type": "code",
   "execution_count": 70,
   "metadata": {},
   "outputs": [
    {
     "data": {
      "text/html": [
       "<div>\n",
       "<style scoped>\n",
       "    .dataframe tbody tr th:only-of-type {\n",
       "        vertical-align: middle;\n",
       "    }\n",
       "\n",
       "    .dataframe tbody tr th {\n",
       "        vertical-align: top;\n",
       "    }\n",
       "\n",
       "    .dataframe thead th {\n",
       "        text-align: right;\n",
       "    }\n",
       "</style>\n",
       "<table border=\"1\" class=\"dataframe\">\n",
       "  <thead>\n",
       "    <tr style=\"text-align: right;\">\n",
       "      <th></th>\n",
       "      <th>ANGELEGT_AM</th>\n",
       "      <th>TATZEIT_ANFANG_DATUM</th>\n",
       "      <th>TATZEIT_ANFANG_STUNDE</th>\n",
       "      <th>TATZEIT_ENDE_DATUM</th>\n",
       "      <th>TATZEIT_ENDE_STUNDE</th>\n",
       "      <th>LOR</th>\n",
       "      <th>SCHADENSHOEHE</th>\n",
       "      <th>VERSUCH</th>\n",
       "      <th>ART_DES_FAHRRADS</th>\n",
       "      <th>DELIKT</th>\n",
       "      <th>ERFASSUNGSGRUND</th>\n",
       "      <th>bezirk_id</th>\n",
       "      <th>PGR</th>\n",
       "      <th>BZR</th>\n",
       "      <th>PLR</th>\n",
       "      <th>bezirk_name</th>\n",
       "    </tr>\n",
       "  </thead>\n",
       "  <tbody>\n",
       "    <tr>\n",
       "      <th>0</th>\n",
       "      <td>2024-01-14</td>\n",
       "      <td>2024-01-13</td>\n",
       "      <td>17</td>\n",
       "      <td>2024-01-14</td>\n",
       "      <td>11</td>\n",
       "      <td>07300515</td>\n",
       "      <td>110</td>\n",
       "      <td>Nein</td>\n",
       "      <td>Herrenfahrrad</td>\n",
       "      <td>Fahrraddiebstahl</td>\n",
       "      <td>Sonstiger schwerer Diebstahl von Fahrrädern</td>\n",
       "      <td>7</td>\n",
       "      <td>30</td>\n",
       "      <td>05</td>\n",
       "      <td>15</td>\n",
       "      <td>Tempelhof-Schöneberg</td>\n",
       "    </tr>\n",
       "    <tr>\n",
       "      <th>1</th>\n",
       "      <td>2024-01-14</td>\n",
       "      <td>2024-01-13</td>\n",
       "      <td>16</td>\n",
       "      <td>2024-01-14</td>\n",
       "      <td>12</td>\n",
       "      <td>08100416</td>\n",
       "      <td>999</td>\n",
       "      <td>Nein</td>\n",
       "      <td>Damenfahrrad</td>\n",
       "      <td>Fahrraddiebstahl</td>\n",
       "      <td>Sonstiger schwerer Diebstahl von Fahrrädern</td>\n",
       "      <td>8</td>\n",
       "      <td>10</td>\n",
       "      <td>04</td>\n",
       "      <td>16</td>\n",
       "      <td>Neukölln</td>\n",
       "    </tr>\n",
       "    <tr>\n",
       "      <th>2</th>\n",
       "      <td>2024-01-14</td>\n",
       "      <td>2024-01-14</td>\n",
       "      <td>15</td>\n",
       "      <td>2024-01-14</td>\n",
       "      <td>20</td>\n",
       "      <td>02500830</td>\n",
       "      <td>399</td>\n",
       "      <td>Nein</td>\n",
       "      <td>Herrenfahrrad</td>\n",
       "      <td>Fahrraddiebstahl</td>\n",
       "      <td>Sonstiger schwerer Diebstahl von Fahrrädern</td>\n",
       "      <td>2</td>\n",
       "      <td>50</td>\n",
       "      <td>08</td>\n",
       "      <td>30</td>\n",
       "      <td>Friedrichshain-Kreuzberg</td>\n",
       "    </tr>\n",
       "  </tbody>\n",
       "</table>\n",
       "</div>"
      ],
      "text/plain": [
       "  ANGELEGT_AM TATZEIT_ANFANG_DATUM  TATZEIT_ANFANG_STUNDE TATZEIT_ENDE_DATUM  \\\n",
       "0  2024-01-14           2024-01-13                     17         2024-01-14   \n",
       "1  2024-01-14           2024-01-13                     16         2024-01-14   \n",
       "2  2024-01-14           2024-01-14                     15         2024-01-14   \n",
       "\n",
       "   TATZEIT_ENDE_STUNDE       LOR  SCHADENSHOEHE VERSUCH ART_DES_FAHRRADS  \\\n",
       "0                   11  07300515            110    Nein    Herrenfahrrad   \n",
       "1                   12  08100416            999    Nein     Damenfahrrad   \n",
       "2                   20  02500830            399    Nein    Herrenfahrrad   \n",
       "\n",
       "             DELIKT                              ERFASSUNGSGRUND bezirk_id  \\\n",
       "0  Fahrraddiebstahl  Sonstiger schwerer Diebstahl von Fahrrädern         7   \n",
       "1  Fahrraddiebstahl  Sonstiger schwerer Diebstahl von Fahrrädern         8   \n",
       "2  Fahrraddiebstahl  Sonstiger schwerer Diebstahl von Fahrrädern         2   \n",
       "\n",
       "  PGR BZR PLR               bezirk_name  \n",
       "0  30  05  15      Tempelhof-Schöneberg  \n",
       "1  10  04  16                  Neukölln  \n",
       "2  50  08  30  Friedrichshain-Kreuzberg  "
      ]
     },
     "execution_count": 70,
     "metadata": {},
     "output_type": "execute_result"
    }
   ],
   "source": [
    "#OK\n",
    "#Print head of dataset_berlin_fahrraddiebstahl\n",
    "dataset_berlin_fahrraddiebstahl.head(3)"
   ]
  },
  {
   "cell_type": "code",
   "execution_count": 71,
   "metadata": {},
   "outputs": [
    {
     "name": "stderr",
     "output_type": "stream",
     "text": [
      "C:\\Users\\MehmetCemAkuras\\AppData\\Local\\Temp\\ipykernel_4036\\2786409718.py:3: FutureWarning: The default value of numeric_only in DataFrame.corr is deprecated. In a future version, it will default to False. Select only valid columns or specify the value of numeric_only to silence this warning.\n",
      "  dataset_berlin_fahrraddiebstahl.corr()\n"
     ]
    },
    {
     "data": {
      "text/html": [
       "<div>\n",
       "<style scoped>\n",
       "    .dataframe tbody tr th:only-of-type {\n",
       "        vertical-align: middle;\n",
       "    }\n",
       "\n",
       "    .dataframe tbody tr th {\n",
       "        vertical-align: top;\n",
       "    }\n",
       "\n",
       "    .dataframe thead th {\n",
       "        text-align: right;\n",
       "    }\n",
       "</style>\n",
       "<table border=\"1\" class=\"dataframe\">\n",
       "  <thead>\n",
       "    <tr style=\"text-align: right;\">\n",
       "      <th></th>\n",
       "      <th>TATZEIT_ANFANG_STUNDE</th>\n",
       "      <th>TATZEIT_ENDE_STUNDE</th>\n",
       "      <th>SCHADENSHOEHE</th>\n",
       "    </tr>\n",
       "  </thead>\n",
       "  <tbody>\n",
       "    <tr>\n",
       "      <th>TATZEIT_ANFANG_STUNDE</th>\n",
       "      <td>1.000000</td>\n",
       "      <td>0.006942</td>\n",
       "      <td>0.044618</td>\n",
       "    </tr>\n",
       "    <tr>\n",
       "      <th>TATZEIT_ENDE_STUNDE</th>\n",
       "      <td>0.006942</td>\n",
       "      <td>1.000000</td>\n",
       "      <td>-0.006928</td>\n",
       "    </tr>\n",
       "    <tr>\n",
       "      <th>SCHADENSHOEHE</th>\n",
       "      <td>0.044618</td>\n",
       "      <td>-0.006928</td>\n",
       "      <td>1.000000</td>\n",
       "    </tr>\n",
       "  </tbody>\n",
       "</table>\n",
       "</div>"
      ],
      "text/plain": [
       "                       TATZEIT_ANFANG_STUNDE  TATZEIT_ENDE_STUNDE  \\\n",
       "TATZEIT_ANFANG_STUNDE               1.000000             0.006942   \n",
       "TATZEIT_ENDE_STUNDE                 0.006942             1.000000   \n",
       "SCHADENSHOEHE                       0.044618            -0.006928   \n",
       "\n",
       "                       SCHADENSHOEHE  \n",
       "TATZEIT_ANFANG_STUNDE       0.044618  \n",
       "TATZEIT_ENDE_STUNDE        -0.006928  \n",
       "SCHADENSHOEHE               1.000000  "
      ]
     },
     "execution_count": 71,
     "metadata": {},
     "output_type": "execute_result"
    }
   ],
   "source": [
    "#OK\n",
    "#Check correlation matrix\n",
    "dataset_berlin_fahrraddiebstahl.corr()"
   ]
  },
  {
   "cell_type": "code",
   "execution_count": 72,
   "metadata": {},
   "outputs": [
    {
     "data": {
      "text/html": [
       "<div>\n",
       "<style scoped>\n",
       "    .dataframe tbody tr th:only-of-type {\n",
       "        vertical-align: middle;\n",
       "    }\n",
       "\n",
       "    .dataframe tbody tr th {\n",
       "        vertical-align: top;\n",
       "    }\n",
       "\n",
       "    .dataframe thead th {\n",
       "        text-align: right;\n",
       "    }\n",
       "</style>\n",
       "<table border=\"1\" class=\"dataframe\">\n",
       "  <thead>\n",
       "    <tr style=\"text-align: right;\">\n",
       "      <th></th>\n",
       "      <th>ANGELEGT_AM</th>\n",
       "      <th>TATZEIT_ANFANG_DATUM</th>\n",
       "      <th>TATZEIT_ANFANG_STUNDE</th>\n",
       "      <th>TATZEIT_ENDE_DATUM</th>\n",
       "      <th>TATZEIT_ENDE_STUNDE</th>\n",
       "      <th>LOR</th>\n",
       "      <th>SCHADENSHOEHE</th>\n",
       "      <th>VERSUCH</th>\n",
       "      <th>ART_DES_FAHRRADS</th>\n",
       "      <th>DELIKT</th>\n",
       "      <th>ERFASSUNGSGRUND</th>\n",
       "      <th>bezirk_id</th>\n",
       "      <th>PGR</th>\n",
       "      <th>BZR</th>\n",
       "      <th>PLR</th>\n",
       "      <th>bezirk_name</th>\n",
       "    </tr>\n",
       "  </thead>\n",
       "  <tbody>\n",
       "    <tr>\n",
       "      <th>0</th>\n",
       "      <td>2024-01-14</td>\n",
       "      <td>2024-01-13 17:00:00</td>\n",
       "      <td>17</td>\n",
       "      <td>2024-01-14 11:00:00</td>\n",
       "      <td>11</td>\n",
       "      <td>07300515</td>\n",
       "      <td>110</td>\n",
       "      <td>Nein</td>\n",
       "      <td>Herrenfahrrad</td>\n",
       "      <td>Fahrraddiebstahl</td>\n",
       "      <td>Sonstiger schwerer Diebstahl von Fahrrädern</td>\n",
       "      <td>7</td>\n",
       "      <td>30</td>\n",
       "      <td>05</td>\n",
       "      <td>15</td>\n",
       "      <td>Tempelhof-Schöneberg</td>\n",
       "    </tr>\n",
       "    <tr>\n",
       "      <th>1</th>\n",
       "      <td>2024-01-14</td>\n",
       "      <td>2024-01-13 16:00:00</td>\n",
       "      <td>16</td>\n",
       "      <td>2024-01-14 12:00:00</td>\n",
       "      <td>12</td>\n",
       "      <td>08100416</td>\n",
       "      <td>999</td>\n",
       "      <td>Nein</td>\n",
       "      <td>Damenfahrrad</td>\n",
       "      <td>Fahrraddiebstahl</td>\n",
       "      <td>Sonstiger schwerer Diebstahl von Fahrrädern</td>\n",
       "      <td>8</td>\n",
       "      <td>10</td>\n",
       "      <td>04</td>\n",
       "      <td>16</td>\n",
       "      <td>Neukölln</td>\n",
       "    </tr>\n",
       "    <tr>\n",
       "      <th>2</th>\n",
       "      <td>2024-01-14</td>\n",
       "      <td>2024-01-14 15:00:00</td>\n",
       "      <td>15</td>\n",
       "      <td>2024-01-14 20:00:00</td>\n",
       "      <td>20</td>\n",
       "      <td>02500830</td>\n",
       "      <td>399</td>\n",
       "      <td>Nein</td>\n",
       "      <td>Herrenfahrrad</td>\n",
       "      <td>Fahrraddiebstahl</td>\n",
       "      <td>Sonstiger schwerer Diebstahl von Fahrrädern</td>\n",
       "      <td>2</td>\n",
       "      <td>50</td>\n",
       "      <td>08</td>\n",
       "      <td>30</td>\n",
       "      <td>Friedrichshain-Kreuzberg</td>\n",
       "    </tr>\n",
       "  </tbody>\n",
       "</table>\n",
       "</div>"
      ],
      "text/plain": [
       "  ANGELEGT_AM TATZEIT_ANFANG_DATUM  TATZEIT_ANFANG_STUNDE  TATZEIT_ENDE_DATUM  \\\n",
       "0  2024-01-14  2024-01-13 17:00:00                     17 2024-01-14 11:00:00   \n",
       "1  2024-01-14  2024-01-13 16:00:00                     16 2024-01-14 12:00:00   \n",
       "2  2024-01-14  2024-01-14 15:00:00                     15 2024-01-14 20:00:00   \n",
       "\n",
       "   TATZEIT_ENDE_STUNDE       LOR  SCHADENSHOEHE VERSUCH ART_DES_FAHRRADS  \\\n",
       "0                   11  07300515            110    Nein    Herrenfahrrad   \n",
       "1                   12  08100416            999    Nein     Damenfahrrad   \n",
       "2                   20  02500830            399    Nein    Herrenfahrrad   \n",
       "\n",
       "             DELIKT                              ERFASSUNGSGRUND bezirk_id  \\\n",
       "0  Fahrraddiebstahl  Sonstiger schwerer Diebstahl von Fahrrädern         7   \n",
       "1  Fahrraddiebstahl  Sonstiger schwerer Diebstahl von Fahrrädern         8   \n",
       "2  Fahrraddiebstahl  Sonstiger schwerer Diebstahl von Fahrrädern         2   \n",
       "\n",
       "  PGR BZR PLR               bezirk_name  \n",
       "0  30  05  15      Tempelhof-Schöneberg  \n",
       "1  10  04  16                  Neukölln  \n",
       "2  50  08  30  Friedrichshain-Kreuzberg  "
      ]
     },
     "execution_count": 72,
     "metadata": {},
     "output_type": "execute_result"
    }
   ],
   "source": [
    "#OK\n",
    "# Update the hour in TATZEIT_ANFANG_DATUM with the hour from TATZEIT_ANFANG_STUNDE\n",
    "dataset_berlin_fahrraddiebstahl['TATZEIT_ANFANG_DATUM'] = dataset_berlin_fahrraddiebstahl.apply(\n",
    "    lambda row: row['TATZEIT_ANFANG_DATUM'].replace(hour=int(row['TATZEIT_ANFANG_STUNDE'])), axis=1\n",
    ")\n",
    "\n",
    "# Update the hour in TATZEIT_ENDE_DATUM with the hour from TATZEIT_ENDE_STUNDE\n",
    "dataset_berlin_fahrraddiebstahl['TATZEIT_ENDE_DATUM'] = dataset_berlin_fahrraddiebstahl.apply(\n",
    "    lambda row: row['TATZEIT_ENDE_DATUM'].replace(hour=int(row['TATZEIT_ENDE_STUNDE'])), axis=1\n",
    ")\n",
    "\n",
    "# Check the first few rows to confirm the change\n",
    "dataset_berlin_fahrraddiebstahl.head(3)"
   ]
  },
  {
   "cell_type": "code",
   "execution_count": 73,
   "metadata": {},
   "outputs": [
    {
     "data": {
      "text/html": [
       "<div>\n",
       "<style scoped>\n",
       "    .dataframe tbody tr th:only-of-type {\n",
       "        vertical-align: middle;\n",
       "    }\n",
       "\n",
       "    .dataframe tbody tr th {\n",
       "        vertical-align: top;\n",
       "    }\n",
       "\n",
       "    .dataframe thead th {\n",
       "        text-align: right;\n",
       "    }\n",
       "</style>\n",
       "<table border=\"1\" class=\"dataframe\">\n",
       "  <thead>\n",
       "    <tr style=\"text-align: right;\">\n",
       "      <th></th>\n",
       "      <th>ANGELEGT_AM</th>\n",
       "      <th>TATZEIT_ANFANG_DATUM</th>\n",
       "      <th>TATZEIT_ANFANG_STUNDE</th>\n",
       "      <th>TATZEIT_ENDE_DATUM</th>\n",
       "      <th>TATZEIT_ENDE_STUNDE</th>\n",
       "      <th>LOR</th>\n",
       "      <th>SCHADENSHOEHE</th>\n",
       "      <th>VERSUCH</th>\n",
       "      <th>ART_DES_FAHRRADS</th>\n",
       "      <th>DELIKT</th>\n",
       "      <th>ERFASSUNGSGRUND</th>\n",
       "      <th>bezirk_id</th>\n",
       "      <th>PGR</th>\n",
       "      <th>BZR</th>\n",
       "      <th>PLR</th>\n",
       "      <th>bezirk_name</th>\n",
       "      <th>ZEITUNTERSCHIED</th>\n",
       "    </tr>\n",
       "  </thead>\n",
       "  <tbody>\n",
       "    <tr>\n",
       "      <th>0</th>\n",
       "      <td>2024-01-14</td>\n",
       "      <td>2024-01-13 17:00:00</td>\n",
       "      <td>17</td>\n",
       "      <td>2024-01-14 11:00:00</td>\n",
       "      <td>11</td>\n",
       "      <td>07300515</td>\n",
       "      <td>110</td>\n",
       "      <td>Nein</td>\n",
       "      <td>Herrenfahrrad</td>\n",
       "      <td>Fahrraddiebstahl</td>\n",
       "      <td>Sonstiger schwerer Diebstahl von Fahrrädern</td>\n",
       "      <td>7</td>\n",
       "      <td>30</td>\n",
       "      <td>05</td>\n",
       "      <td>15</td>\n",
       "      <td>Tempelhof-Schöneberg</td>\n",
       "      <td>0 days 18:00:00</td>\n",
       "    </tr>\n",
       "    <tr>\n",
       "      <th>1</th>\n",
       "      <td>2024-01-14</td>\n",
       "      <td>2024-01-13 16:00:00</td>\n",
       "      <td>16</td>\n",
       "      <td>2024-01-14 12:00:00</td>\n",
       "      <td>12</td>\n",
       "      <td>08100416</td>\n",
       "      <td>999</td>\n",
       "      <td>Nein</td>\n",
       "      <td>Damenfahrrad</td>\n",
       "      <td>Fahrraddiebstahl</td>\n",
       "      <td>Sonstiger schwerer Diebstahl von Fahrrädern</td>\n",
       "      <td>8</td>\n",
       "      <td>10</td>\n",
       "      <td>04</td>\n",
       "      <td>16</td>\n",
       "      <td>Neukölln</td>\n",
       "      <td>0 days 20:00:00</td>\n",
       "    </tr>\n",
       "    <tr>\n",
       "      <th>2</th>\n",
       "      <td>2024-01-14</td>\n",
       "      <td>2024-01-14 15:00:00</td>\n",
       "      <td>15</td>\n",
       "      <td>2024-01-14 20:00:00</td>\n",
       "      <td>20</td>\n",
       "      <td>02500830</td>\n",
       "      <td>399</td>\n",
       "      <td>Nein</td>\n",
       "      <td>Herrenfahrrad</td>\n",
       "      <td>Fahrraddiebstahl</td>\n",
       "      <td>Sonstiger schwerer Diebstahl von Fahrrädern</td>\n",
       "      <td>2</td>\n",
       "      <td>50</td>\n",
       "      <td>08</td>\n",
       "      <td>30</td>\n",
       "      <td>Friedrichshain-Kreuzberg</td>\n",
       "      <td>0 days 05:00:00</td>\n",
       "    </tr>\n",
       "  </tbody>\n",
       "</table>\n",
       "</div>"
      ],
      "text/plain": [
       "  ANGELEGT_AM TATZEIT_ANFANG_DATUM  TATZEIT_ANFANG_STUNDE  TATZEIT_ENDE_DATUM  \\\n",
       "0  2024-01-14  2024-01-13 17:00:00                     17 2024-01-14 11:00:00   \n",
       "1  2024-01-14  2024-01-13 16:00:00                     16 2024-01-14 12:00:00   \n",
       "2  2024-01-14  2024-01-14 15:00:00                     15 2024-01-14 20:00:00   \n",
       "\n",
       "   TATZEIT_ENDE_STUNDE       LOR  SCHADENSHOEHE VERSUCH ART_DES_FAHRRADS  \\\n",
       "0                   11  07300515            110    Nein    Herrenfahrrad   \n",
       "1                   12  08100416            999    Nein     Damenfahrrad   \n",
       "2                   20  02500830            399    Nein    Herrenfahrrad   \n",
       "\n",
       "             DELIKT                              ERFASSUNGSGRUND bezirk_id  \\\n",
       "0  Fahrraddiebstahl  Sonstiger schwerer Diebstahl von Fahrrädern         7   \n",
       "1  Fahrraddiebstahl  Sonstiger schwerer Diebstahl von Fahrrädern         8   \n",
       "2  Fahrraddiebstahl  Sonstiger schwerer Diebstahl von Fahrrädern         2   \n",
       "\n",
       "  PGR BZR PLR               bezirk_name ZEITUNTERSCHIED  \n",
       "0  30  05  15      Tempelhof-Schöneberg 0 days 18:00:00  \n",
       "1  10  04  16                  Neukölln 0 days 20:00:00  \n",
       "2  50  08  30  Friedrichshain-Kreuzberg 0 days 05:00:00  "
      ]
     },
     "execution_count": 73,
     "metadata": {},
     "output_type": "execute_result"
    }
   ],
   "source": [
    "#OK\n",
    "#Check time difference between TATZEIT_ANFANG_DATUM and TATZEIT_ENDE_DATUM\n",
    "dataset_berlin_fahrraddiebstahl['ZEITUNTERSCHIED'] = dataset_berlin_fahrraddiebstahl['TATZEIT_ENDE_DATUM'] - dataset_berlin_fahrraddiebstahl['TATZEIT_ANFANG_DATUM']\n",
    "#Check the first few rows to confirm the change\n",
    "dataset_berlin_fahrraddiebstahl.head(3)"
   ]
  },
  {
   "cell_type": "code",
   "execution_count": 74,
   "metadata": {},
   "outputs": [
    {
     "name": "stdout",
     "output_type": "stream",
     "text": [
      "Min value for ZEITUNTERSCHIED:  0 days 00:00:00\n",
      "Max value for ZEITUNTERSCHIED:  3 days 00:00:00\n"
     ]
    }
   ],
   "source": [
    "#OK\n",
    "#Show min and max values for ZEITUNTERSCHIED\n",
    "print(\"Min value for ZEITUNTERSCHIED: \", dataset_berlin_fahrraddiebstahl['ZEITUNTERSCHIED'].min())\n",
    "print(\"Max value for ZEITUNTERSCHIED: \", dataset_berlin_fahrraddiebstahl['ZEITUNTERSCHIED'].max())"
   ]
  },
  {
   "cell_type": "code",
   "execution_count": 75,
   "metadata": {},
   "outputs": [
    {
     "name": "stdout",
     "output_type": "stream",
     "text": [
      "Min value for ZEIT_BIS_TATZEIT:  -1 days +00:00:00\n",
      "Max value for ZEIT_BIS_TATZEIT:  369 days 00:00:00\n"
     ]
    }
   ],
   "source": [
    "#OK\n",
    "#Calculate time difference between ANGELEGT_AM and TATZEIT_ANFANG_DATUM without hours\n",
    "dataset_berlin_fahrraddiebstahl['ZEIT_BIS_TATZEIT'] = dataset_berlin_fahrraddiebstahl['ANGELEGT_AM'].dt.date - dataset_berlin_fahrraddiebstahl['TATZEIT_ENDE_DATUM'].dt.date\n",
    "\n",
    "#Show min and max values for ZEIT_BIS_TATZEIT\n",
    "print(\"Min value for ZEIT_BIS_TATZEIT: \", dataset_berlin_fahrraddiebstahl['ZEIT_BIS_TATZEIT'].min())\n",
    "print(\"Max value for ZEIT_BIS_TATZEIT: \", dataset_berlin_fahrraddiebstahl['ZEIT_BIS_TATZEIT'].max())"
   ]
  },
  {
   "cell_type": "code",
   "execution_count": 76,
   "metadata": {},
   "outputs": [
    {
     "name": "stdout",
     "output_type": "stream",
     "text": [
      "Quantity of negative values for ZEIT_BIS_TATZEIT:  3\n",
      "Row numbers of negative values for ZEIT_BIS_TATZEIT:  [3084, 3118, 13525]\n"
     ]
    }
   ],
   "source": [
    "#OK\n",
    "#Show qty of negative values for ZEIT_BIS_TATZEIT\n",
    "print(\"Quantity of negative values for ZEIT_BIS_TATZEIT: \", dataset_berlin_fahrraddiebstahl[dataset_berlin_fahrraddiebstahl['ZEIT_BIS_TATZEIT'] < datetime.timedelta(0)].shape[0])\n",
    "#Give row numbers of negative values for ZEIT_BIS_TATZEIT\n",
    "print(\"Row numbers of negative values for ZEIT_BIS_TATZEIT: \", dataset_berlin_fahrraddiebstahl[dataset_berlin_fahrraddiebstahl['ZEIT_BIS_TATZEIT'] < datetime.timedelta(0)].index.values.tolist())"
   ]
  },
  {
   "cell_type": "code",
   "execution_count": 77,
   "metadata": {},
   "outputs": [
    {
     "name": "stdout",
     "output_type": "stream",
     "text": [
      "      ANGELEGT_AM  TATZEIT_ENDE_DATUM\n",
      "3084   2023-10-28 2023-10-29 02:00:00\n",
      "3118   2023-10-28 2023-10-29 00:00:00\n",
      "13525  2023-06-08 2023-06-09 04:00:00\n"
     ]
    }
   ],
   "source": [
    "#OK\n",
    "#Print ANGELEGT_AM and TATZEIT_ENDE_DATUM columns of 3084, 3118 and 13525\n",
    "print(dataset_berlin_fahrraddiebstahl.loc[[3084, 3118, 13525], ['ANGELEGT_AM', 'TATZEIT_ENDE_DATUM']])"
   ]
  },
  {
   "cell_type": "code",
   "execution_count": 78,
   "metadata": {},
   "outputs": [],
   "source": [
    "#OK\n",
    "#Change the row 3084 of ANGELEGT_AM to 2023-10-29\n",
    "dataset_berlin_fahrraddiebstahl.loc[3084, 'ANGELEGT_AM'] = pd.to_datetime('2023-10-29')\n",
    "\n",
    "#Change the row 3118 of ANGELEGT_AM to 2023-10-29\n",
    "dataset_berlin_fahrraddiebstahl.loc[3118, 'ANGELEGT_AM'] = pd.to_datetime('2023-10-29')\n",
    "\n",
    "#Change the row 13525 of ANGELEGT_AM to 2023-06-09\n",
    "dataset_berlin_fahrraddiebstahl.loc[13525, 'ANGELEGT_AM'] = pd.to_datetime('2023-06-09')\n"
   ]
  },
  {
   "cell_type": "code",
   "execution_count": 79,
   "metadata": {},
   "outputs": [
    {
     "name": "stdout",
     "output_type": "stream",
     "text": [
      "Min value for ZEIT_BIS_TATZEIT:  0 days 00:00:00\n",
      "Max value for ZEIT_BIS_TATZEIT:  370 days 00:00:00\n"
     ]
    }
   ],
   "source": [
    "#OK\n",
    "#Calculate time difference between ANGELEGT_AM and TATZEIT_ANFANG_DATUM without hours\n",
    "dataset_berlin_fahrraddiebstahl['ZEIT_BIS_TATZEIT'] = dataset_berlin_fahrraddiebstahl['ANGELEGT_AM'].dt.date - dataset_berlin_fahrraddiebstahl['TATZEIT_ANFANG_DATUM'].dt.date\n",
    "\n",
    "#Show min and max values for ZEIT_BIS_TATZEIT\n",
    "print(\"Min value for ZEIT_BIS_TATZEIT: \", dataset_berlin_fahrraddiebstahl['ZEIT_BIS_TATZEIT'].min())\n",
    "print(\"Max value for ZEIT_BIS_TATZEIT: \", dataset_berlin_fahrraddiebstahl['ZEIT_BIS_TATZEIT'].max())"
   ]
  },
  {
   "cell_type": "code",
   "execution_count": 80,
   "metadata": {},
   "outputs": [
    {
     "name": "stdout",
     "output_type": "stream",
     "text": [
      "Identified outliers: 168\n"
     ]
    }
   ],
   "source": [
    "#OK\n",
    "#Calculate outliers for ZEIT_BIS_TATZEIT regarding the 4-sigma rule\n",
    "ZEIT_BIS_TATZEIT_mean = dataset_berlin_fahrraddiebstahl['ZEIT_BIS_TATZEIT'].mean()\n",
    "ZEIT_BIS_TATZEIT_std_dev = dataset_berlin_fahrraddiebstahl['ZEIT_BIS_TATZEIT'].std()\n",
    "\n",
    "# Determine bounds for outliers (4-sigma rule)\n",
    "zeit_bis_tatzeit_lower_bound = ZEIT_BIS_TATZEIT_mean - 4 * ZEIT_BIS_TATZEIT_std_dev\n",
    "zeit_bis_tatzeit_upper_bound = ZEIT_BIS_TATZEIT_mean + 4 * ZEIT_BIS_TATZEIT_std_dev\n",
    "\n",
    "# Identify outliers\n",
    "ZEIT_BIS_TATZEIT_outliers = dataset_berlin_fahrraddiebstahl[(dataset_berlin_fahrraddiebstahl['ZEIT_BIS_TATZEIT'] < zeit_bis_tatzeit_lower_bound) | (dataset_berlin_fahrraddiebstahl['ZEIT_BIS_TATZEIT'] > zeit_bis_tatzeit_upper_bound)]\n",
    "\n",
    "#Save row numbers of outliers\n",
    "ZEIT_BIS_TATZEIT_outliers_row_numbers = outliers.index.values.tolist()\n",
    "\n",
    "# Print total number of outliers\n",
    "print('Identified outliers: %d' % ZEIT_BIS_TATZEIT_outliers.shape[0])\n"
   ]
  },
  {
   "cell_type": "code",
   "execution_count": 81,
   "metadata": {},
   "outputs": [
    {
     "data": {
      "text/html": [
       "<div>\n",
       "<style scoped>\n",
       "    .dataframe tbody tr th:only-of-type {\n",
       "        vertical-align: middle;\n",
       "    }\n",
       "\n",
       "    .dataframe tbody tr th {\n",
       "        vertical-align: top;\n",
       "    }\n",
       "\n",
       "    .dataframe thead th {\n",
       "        text-align: right;\n",
       "    }\n",
       "</style>\n",
       "<table border=\"1\" class=\"dataframe\">\n",
       "  <thead>\n",
       "    <tr style=\"text-align: right;\">\n",
       "      <th></th>\n",
       "      <th>ANGELEGT_AM</th>\n",
       "      <th>TATZEIT_ANFANG_DATUM</th>\n",
       "      <th>TATZEIT_ANFANG_STUNDE</th>\n",
       "      <th>TATZEIT_ENDE_DATUM</th>\n",
       "      <th>TATZEIT_ENDE_STUNDE</th>\n",
       "      <th>LOR</th>\n",
       "      <th>SCHADENSHOEHE</th>\n",
       "      <th>VERSUCH</th>\n",
       "      <th>ART_DES_FAHRRADS</th>\n",
       "      <th>DELIKT</th>\n",
       "      <th>ERFASSUNGSGRUND</th>\n",
       "      <th>bezirk_id</th>\n",
       "      <th>PGR</th>\n",
       "      <th>BZR</th>\n",
       "      <th>PLR</th>\n",
       "      <th>bezirk_name</th>\n",
       "      <th>ZEITUNTERSCHIED</th>\n",
       "      <th>ZEIT_BIS_TATZEIT</th>\n",
       "    </tr>\n",
       "  </thead>\n",
       "  <tbody>\n",
       "    <tr>\n",
       "      <th>0</th>\n",
       "      <td>2024-01-14</td>\n",
       "      <td>2024-01-13 17:00:00</td>\n",
       "      <td>17</td>\n",
       "      <td>2024-01-14 11:00:00</td>\n",
       "      <td>11</td>\n",
       "      <td>07300515</td>\n",
       "      <td>110</td>\n",
       "      <td>Nein</td>\n",
       "      <td>Herrenfahrrad</td>\n",
       "      <td>Fahrraddiebstahl</td>\n",
       "      <td>Sonstiger schwerer Diebstahl von Fahrrädern</td>\n",
       "      <td>7</td>\n",
       "      <td>30</td>\n",
       "      <td>05</td>\n",
       "      <td>15</td>\n",
       "      <td>Tempelhof-Schöneberg</td>\n",
       "      <td>0 days 18:00:00</td>\n",
       "      <td>1 days</td>\n",
       "    </tr>\n",
       "    <tr>\n",
       "      <th>1</th>\n",
       "      <td>2024-01-14</td>\n",
       "      <td>2024-01-13 16:00:00</td>\n",
       "      <td>16</td>\n",
       "      <td>2024-01-14 12:00:00</td>\n",
       "      <td>12</td>\n",
       "      <td>08100416</td>\n",
       "      <td>999</td>\n",
       "      <td>Nein</td>\n",
       "      <td>Damenfahrrad</td>\n",
       "      <td>Fahrraddiebstahl</td>\n",
       "      <td>Sonstiger schwerer Diebstahl von Fahrrädern</td>\n",
       "      <td>8</td>\n",
       "      <td>10</td>\n",
       "      <td>04</td>\n",
       "      <td>16</td>\n",
       "      <td>Neukölln</td>\n",
       "      <td>0 days 20:00:00</td>\n",
       "      <td>1 days</td>\n",
       "    </tr>\n",
       "    <tr>\n",
       "      <th>2</th>\n",
       "      <td>2024-01-14</td>\n",
       "      <td>2024-01-14 15:00:00</td>\n",
       "      <td>15</td>\n",
       "      <td>2024-01-14 20:00:00</td>\n",
       "      <td>20</td>\n",
       "      <td>02500830</td>\n",
       "      <td>399</td>\n",
       "      <td>Nein</td>\n",
       "      <td>Herrenfahrrad</td>\n",
       "      <td>Fahrraddiebstahl</td>\n",
       "      <td>Sonstiger schwerer Diebstahl von Fahrrädern</td>\n",
       "      <td>2</td>\n",
       "      <td>50</td>\n",
       "      <td>08</td>\n",
       "      <td>30</td>\n",
       "      <td>Friedrichshain-Kreuzberg</td>\n",
       "      <td>0 days 05:00:00</td>\n",
       "      <td>0 days</td>\n",
       "    </tr>\n",
       "  </tbody>\n",
       "</table>\n",
       "</div>"
      ],
      "text/plain": [
       "  ANGELEGT_AM TATZEIT_ANFANG_DATUM  TATZEIT_ANFANG_STUNDE  TATZEIT_ENDE_DATUM  \\\n",
       "0  2024-01-14  2024-01-13 17:00:00                     17 2024-01-14 11:00:00   \n",
       "1  2024-01-14  2024-01-13 16:00:00                     16 2024-01-14 12:00:00   \n",
       "2  2024-01-14  2024-01-14 15:00:00                     15 2024-01-14 20:00:00   \n",
       "\n",
       "   TATZEIT_ENDE_STUNDE       LOR  SCHADENSHOEHE VERSUCH ART_DES_FAHRRADS  \\\n",
       "0                   11  07300515            110    Nein    Herrenfahrrad   \n",
       "1                   12  08100416            999    Nein     Damenfahrrad   \n",
       "2                   20  02500830            399    Nein    Herrenfahrrad   \n",
       "\n",
       "             DELIKT                              ERFASSUNGSGRUND bezirk_id  \\\n",
       "0  Fahrraddiebstahl  Sonstiger schwerer Diebstahl von Fahrrädern         7   \n",
       "1  Fahrraddiebstahl  Sonstiger schwerer Diebstahl von Fahrrädern         8   \n",
       "2  Fahrraddiebstahl  Sonstiger schwerer Diebstahl von Fahrrädern         2   \n",
       "\n",
       "  PGR BZR PLR               bezirk_name ZEITUNTERSCHIED ZEIT_BIS_TATZEIT  \n",
       "0  30  05  15      Tempelhof-Schöneberg 0 days 18:00:00           1 days  \n",
       "1  10  04  16                  Neukölln 0 days 20:00:00           1 days  \n",
       "2  50  08  30  Friedrichshain-Kreuzberg 0 days 05:00:00           0 days  "
      ]
     },
     "execution_count": 81,
     "metadata": {},
     "output_type": "execute_result"
    }
   ],
   "source": [
    "#Print head of dataset_berlin_fahrraddiebstahl\n",
    "dataset_berlin_fahrraddiebstahl.head(3)"
   ]
  },
  {
   "cell_type": "code",
   "execution_count": 82,
   "metadata": {},
   "outputs": [
    {
     "name": "stdout",
     "output_type": "stream",
     "text": [
      "1 days      8036\n",
      "0 days      5365\n",
      "2 days      3237\n",
      "3 days      1774\n",
      "4 days       746\n",
      "            ... \n",
      "113 days       1\n",
      "120 days       1\n",
      "129 days       1\n",
      "153 days       1\n",
      "66 days        1\n",
      "Name: ZEIT_BIS_TATZEIT, Length: 143, dtype: int64\n"
     ]
    }
   ],
   "source": [
    "#OK\n",
    "#Show value counts for ZEIT_BIS_TATZEIT\n",
    "print(dataset_berlin_fahrraddiebstahl['ZEIT_BIS_TATZEIT'].value_counts())"
   ]
  },
  {
   "cell_type": "code",
   "execution_count": 83,
   "metadata": {},
   "outputs": [],
   "source": [
    "#OK\n",
    "#Remove TATZEIT_ANFANG_STUNDE, TATZEIT_ENDE_STUNDE, LOR, PGR, BZR, PLR columns\n",
    "dataset_berlin_fahrraddiebstahl.drop(['TATZEIT_ANFANG_STUNDE', 'TATZEIT_ENDE_STUNDE', 'LOR', 'PGR', 'BZR', 'PLR'], axis=1, inplace=True)"
   ]
  },
  {
   "cell_type": "code",
   "execution_count": 84,
   "metadata": {},
   "outputs": [
    {
     "data": {
      "text/html": [
       "<div>\n",
       "<style scoped>\n",
       "    .dataframe tbody tr th:only-of-type {\n",
       "        vertical-align: middle;\n",
       "    }\n",
       "\n",
       "    .dataframe tbody tr th {\n",
       "        vertical-align: top;\n",
       "    }\n",
       "\n",
       "    .dataframe thead th {\n",
       "        text-align: right;\n",
       "    }\n",
       "</style>\n",
       "<table border=\"1\" class=\"dataframe\">\n",
       "  <thead>\n",
       "    <tr style=\"text-align: right;\">\n",
       "      <th></th>\n",
       "      <th>ANGELEGT_AM</th>\n",
       "      <th>TATZEIT_ANFANG_DATUM</th>\n",
       "      <th>TATZEIT_ENDE_DATUM</th>\n",
       "      <th>SCHADENSHOEHE</th>\n",
       "      <th>VERSUCH</th>\n",
       "      <th>ART_DES_FAHRRADS</th>\n",
       "      <th>DELIKT</th>\n",
       "      <th>ERFASSUNGSGRUND</th>\n",
       "      <th>bezirk_id</th>\n",
       "      <th>bezirk_name</th>\n",
       "      <th>ZEITUNTERSCHIED</th>\n",
       "      <th>ZEIT_BIS_TATZEIT</th>\n",
       "    </tr>\n",
       "  </thead>\n",
       "  <tbody>\n",
       "    <tr>\n",
       "      <th>0</th>\n",
       "      <td>2024-01-14</td>\n",
       "      <td>2024-01-13 17:00:00</td>\n",
       "      <td>2024-01-14 11:00:00</td>\n",
       "      <td>110</td>\n",
       "      <td>Nein</td>\n",
       "      <td>Herrenfahrrad</td>\n",
       "      <td>Fahrraddiebstahl</td>\n",
       "      <td>Sonstiger schwerer Diebstahl von Fahrrädern</td>\n",
       "      <td>7</td>\n",
       "      <td>Tempelhof-Schöneberg</td>\n",
       "      <td>0 days 18:00:00</td>\n",
       "      <td>1 days</td>\n",
       "    </tr>\n",
       "    <tr>\n",
       "      <th>1</th>\n",
       "      <td>2024-01-14</td>\n",
       "      <td>2024-01-13 16:00:00</td>\n",
       "      <td>2024-01-14 12:00:00</td>\n",
       "      <td>999</td>\n",
       "      <td>Nein</td>\n",
       "      <td>Damenfahrrad</td>\n",
       "      <td>Fahrraddiebstahl</td>\n",
       "      <td>Sonstiger schwerer Diebstahl von Fahrrädern</td>\n",
       "      <td>8</td>\n",
       "      <td>Neukölln</td>\n",
       "      <td>0 days 20:00:00</td>\n",
       "      <td>1 days</td>\n",
       "    </tr>\n",
       "    <tr>\n",
       "      <th>2</th>\n",
       "      <td>2024-01-14</td>\n",
       "      <td>2024-01-14 15:00:00</td>\n",
       "      <td>2024-01-14 20:00:00</td>\n",
       "      <td>399</td>\n",
       "      <td>Nein</td>\n",
       "      <td>Herrenfahrrad</td>\n",
       "      <td>Fahrraddiebstahl</td>\n",
       "      <td>Sonstiger schwerer Diebstahl von Fahrrädern</td>\n",
       "      <td>2</td>\n",
       "      <td>Friedrichshain-Kreuzberg</td>\n",
       "      <td>0 days 05:00:00</td>\n",
       "      <td>0 days</td>\n",
       "    </tr>\n",
       "  </tbody>\n",
       "</table>\n",
       "</div>"
      ],
      "text/plain": [
       "  ANGELEGT_AM TATZEIT_ANFANG_DATUM  TATZEIT_ENDE_DATUM  SCHADENSHOEHE VERSUCH  \\\n",
       "0  2024-01-14  2024-01-13 17:00:00 2024-01-14 11:00:00            110    Nein   \n",
       "1  2024-01-14  2024-01-13 16:00:00 2024-01-14 12:00:00            999    Nein   \n",
       "2  2024-01-14  2024-01-14 15:00:00 2024-01-14 20:00:00            399    Nein   \n",
       "\n",
       "  ART_DES_FAHRRADS            DELIKT  \\\n",
       "0    Herrenfahrrad  Fahrraddiebstahl   \n",
       "1     Damenfahrrad  Fahrraddiebstahl   \n",
       "2    Herrenfahrrad  Fahrraddiebstahl   \n",
       "\n",
       "                               ERFASSUNGSGRUND bezirk_id  \\\n",
       "0  Sonstiger schwerer Diebstahl von Fahrrädern         7   \n",
       "1  Sonstiger schwerer Diebstahl von Fahrrädern         8   \n",
       "2  Sonstiger schwerer Diebstahl von Fahrrädern         2   \n",
       "\n",
       "                bezirk_name ZEITUNTERSCHIED ZEIT_BIS_TATZEIT  \n",
       "0      Tempelhof-Schöneberg 0 days 18:00:00           1 days  \n",
       "1                  Neukölln 0 days 20:00:00           1 days  \n",
       "2  Friedrichshain-Kreuzberg 0 days 05:00:00           0 days  "
      ]
     },
     "execution_count": 84,
     "metadata": {},
     "output_type": "execute_result"
    }
   ],
   "source": [
    "#Print head of dataset_berlin_fahrraddiebstahl\n",
    "dataset_berlin_fahrraddiebstahl.head(3)"
   ]
  },
  {
   "cell_type": "code",
   "execution_count": 85,
   "metadata": {},
   "outputs": [
    {
     "name": "stdout",
     "output_type": "stream",
     "text": [
      "Shape of dataset_berlin_fahrraddiebstahl:  (21856, 12)\n"
     ]
    }
   ],
   "source": [
    "#OK\n",
    "#Print the shape of dataset_berlin_fahrraddiebstahl\n",
    "print(\"Shape of dataset_berlin_fahrraddiebstahl: \", dataset_berlin_fahrraddiebstahl.shape)"
   ]
  },
  {
   "cell_type": "code",
   "execution_count": 86,
   "metadata": {},
   "outputs": [
    {
     "data": {
      "text/html": [
       "<div>\n",
       "<style scoped>\n",
       "    .dataframe tbody tr th:only-of-type {\n",
       "        vertical-align: middle;\n",
       "    }\n",
       "\n",
       "    .dataframe tbody tr th {\n",
       "        vertical-align: top;\n",
       "    }\n",
       "\n",
       "    .dataframe thead th {\n",
       "        text-align: right;\n",
       "    }\n",
       "</style>\n",
       "<table border=\"1\" class=\"dataframe\">\n",
       "  <thead>\n",
       "    <tr style=\"text-align: right;\">\n",
       "      <th></th>\n",
       "      <th>bezirk_id</th>\n",
       "      <th>bezirk_name</th>\n",
       "    </tr>\n",
       "  </thead>\n",
       "  <tbody>\n",
       "    <tr>\n",
       "      <th>0</th>\n",
       "      <td>1</td>\n",
       "      <td>Mitte</td>\n",
       "    </tr>\n",
       "    <tr>\n",
       "      <th>1</th>\n",
       "      <td>2</td>\n",
       "      <td>Friedrichshain-Kreuzberg</td>\n",
       "    </tr>\n",
       "    <tr>\n",
       "      <th>2</th>\n",
       "      <td>3</td>\n",
       "      <td>Pankow</td>\n",
       "    </tr>\n",
       "    <tr>\n",
       "      <th>3</th>\n",
       "      <td>4</td>\n",
       "      <td>Charlottenburg-Wilmersdorf</td>\n",
       "    </tr>\n",
       "    <tr>\n",
       "      <th>4</th>\n",
       "      <td>5</td>\n",
       "      <td>Spandau</td>\n",
       "    </tr>\n",
       "    <tr>\n",
       "      <th>5</th>\n",
       "      <td>6</td>\n",
       "      <td>Steglitz-Zehlendorf</td>\n",
       "    </tr>\n",
       "    <tr>\n",
       "      <th>6</th>\n",
       "      <td>7</td>\n",
       "      <td>Tempelhof-Schöneberg</td>\n",
       "    </tr>\n",
       "    <tr>\n",
       "      <th>7</th>\n",
       "      <td>8</td>\n",
       "      <td>Neukölln</td>\n",
       "    </tr>\n",
       "    <tr>\n",
       "      <th>8</th>\n",
       "      <td>9</td>\n",
       "      <td>Treptow-Köpenick</td>\n",
       "    </tr>\n",
       "    <tr>\n",
       "      <th>9</th>\n",
       "      <td>10</td>\n",
       "      <td>Marzahn-Hellersdorf</td>\n",
       "    </tr>\n",
       "    <tr>\n",
       "      <th>10</th>\n",
       "      <td>11</td>\n",
       "      <td>Lichtenberg</td>\n",
       "    </tr>\n",
       "    <tr>\n",
       "      <th>11</th>\n",
       "      <td>12</td>\n",
       "      <td>Reinickendorf</td>\n",
       "    </tr>\n",
       "  </tbody>\n",
       "</table>\n",
       "</div>"
      ],
      "text/plain": [
       "   bezirk_id                 bezirk_name\n",
       "0          1                       Mitte\n",
       "1          2    Friedrichshain-Kreuzberg\n",
       "2          3                      Pankow\n",
       "3          4  Charlottenburg-Wilmersdorf\n",
       "4          5                     Spandau\n",
       "5          6         Steglitz-Zehlendorf\n",
       "6          7        Tempelhof-Schöneberg\n",
       "7          8                    Neukölln\n",
       "8          9            Treptow-Köpenick\n",
       "9         10         Marzahn-Hellersdorf\n",
       "10        11                 Lichtenberg\n",
       "11        12               Reinickendorf"
      ]
     },
     "execution_count": 86,
     "metadata": {},
     "output_type": "execute_result"
    }
   ],
   "source": [
    "dataset_berlin"
   ]
  },
  {
   "cell_type": "code",
   "execution_count": 87,
   "metadata": {},
   "outputs": [],
   "source": [
    "# Add a new column 'POSTLEITZAHL' with a default value (for example, None)\n",
    "dataset_berlin_fahrraddiebstahl['POSTLEITZAHL'] = None\n"
   ]
  },
  {
   "cell_type": "code",
   "execution_count": 88,
   "metadata": {},
   "outputs": [],
   "source": [
    "# Add value to the new column 'POSTLEITZAHL' if bezirk_id is 1 POSTLEITZAHL is 10115, if bezirk_id is 2 POSTLEITZAHL is 10785\n",
    "dataset_berlin_fahrraddiebstahl.loc[dataset_berlin_fahrraddiebstahl['bezirk_id'] == 1, 'POSTLEITZAHL'] = 10115\n",
    "dataset_berlin_fahrraddiebstahl.loc[dataset_berlin_fahrraddiebstahl['bezirk_id'] == 2, 'POSTLEITZAHL'] = 10243\n",
    "dataset_berlin_fahrraddiebstahl.loc[dataset_berlin_fahrraddiebstahl['bezirk_id'] == 3, 'POSTLEITZAHL'] = 13129\n",
    "dataset_berlin_fahrraddiebstahl.loc[dataset_berlin_fahrraddiebstahl['bezirk_id'] == 4, 'POSTLEITZAHL'] = 10627\n",
    "dataset_berlin_fahrraddiebstahl.loc[dataset_berlin_fahrraddiebstahl['bezirk_id'] == 5, 'POSTLEITZAHL'] = 13581\n",
    "dataset_berlin_fahrraddiebstahl.loc[dataset_berlin_fahrraddiebstahl['bezirk_id'] == 6, 'POSTLEITZAHL'] = 12165\n",
    "dataset_berlin_fahrraddiebstahl.loc[dataset_berlin_fahrraddiebstahl['bezirk_id'] == 7, 'POSTLEITZAHL'] = 12101\n",
    "dataset_berlin_fahrraddiebstahl.loc[dataset_berlin_fahrraddiebstahl['bezirk_id'] == 8, 'POSTLEITZAHL'] = 12043\n",
    "dataset_berlin_fahrraddiebstahl.loc[dataset_berlin_fahrraddiebstahl['bezirk_id'] == 9, 'POSTLEITZAHL'] = 12526\n",
    "dataset_berlin_fahrraddiebstahl.loc[dataset_berlin_fahrraddiebstahl['bezirk_id'] == 10, 'POSTLEITZAHL'] = 12619\n",
    "dataset_berlin_fahrraddiebstahl.loc[dataset_berlin_fahrraddiebstahl['bezirk_id'] == 11, 'POSTLEITZAHL'] = 10315\n",
    "dataset_berlin_fahrraddiebstahl.loc[dataset_berlin_fahrraddiebstahl['bezirk_id'] == 12, 'POSTLEITZAHL'] = 13403"
   ]
  },
  {
   "cell_type": "code",
   "execution_count": 89,
   "metadata": {},
   "outputs": [
    {
     "data": {
      "text/html": [
       "<div>\n",
       "<style scoped>\n",
       "    .dataframe tbody tr th:only-of-type {\n",
       "        vertical-align: middle;\n",
       "    }\n",
       "\n",
       "    .dataframe tbody tr th {\n",
       "        vertical-align: top;\n",
       "    }\n",
       "\n",
       "    .dataframe thead th {\n",
       "        text-align: right;\n",
       "    }\n",
       "</style>\n",
       "<table border=\"1\" class=\"dataframe\">\n",
       "  <thead>\n",
       "    <tr style=\"text-align: right;\">\n",
       "      <th></th>\n",
       "      <th>ANGELEGT_AM</th>\n",
       "      <th>TATZEIT_ANFANG_DATUM</th>\n",
       "      <th>TATZEIT_ENDE_DATUM</th>\n",
       "      <th>SCHADENSHOEHE</th>\n",
       "      <th>VERSUCH</th>\n",
       "      <th>ART_DES_FAHRRADS</th>\n",
       "      <th>DELIKT</th>\n",
       "      <th>ERFASSUNGSGRUND</th>\n",
       "      <th>bezirk_id</th>\n",
       "      <th>bezirk_name</th>\n",
       "      <th>ZEITUNTERSCHIED</th>\n",
       "      <th>ZEIT_BIS_TATZEIT</th>\n",
       "      <th>POSTLEITZAHL</th>\n",
       "    </tr>\n",
       "  </thead>\n",
       "  <tbody>\n",
       "    <tr>\n",
       "      <th>0</th>\n",
       "      <td>2024-01-14</td>\n",
       "      <td>2024-01-13 17:00:00</td>\n",
       "      <td>2024-01-14 11:00:00</td>\n",
       "      <td>110</td>\n",
       "      <td>Nein</td>\n",
       "      <td>Herrenfahrrad</td>\n",
       "      <td>Fahrraddiebstahl</td>\n",
       "      <td>Sonstiger schwerer Diebstahl von Fahrrädern</td>\n",
       "      <td>7</td>\n",
       "      <td>Tempelhof-Schöneberg</td>\n",
       "      <td>0 days 18:00:00</td>\n",
       "      <td>1 days</td>\n",
       "      <td>12101</td>\n",
       "    </tr>\n",
       "    <tr>\n",
       "      <th>1</th>\n",
       "      <td>2024-01-14</td>\n",
       "      <td>2024-01-13 16:00:00</td>\n",
       "      <td>2024-01-14 12:00:00</td>\n",
       "      <td>999</td>\n",
       "      <td>Nein</td>\n",
       "      <td>Damenfahrrad</td>\n",
       "      <td>Fahrraddiebstahl</td>\n",
       "      <td>Sonstiger schwerer Diebstahl von Fahrrädern</td>\n",
       "      <td>8</td>\n",
       "      <td>Neukölln</td>\n",
       "      <td>0 days 20:00:00</td>\n",
       "      <td>1 days</td>\n",
       "      <td>12043</td>\n",
       "    </tr>\n",
       "    <tr>\n",
       "      <th>2</th>\n",
       "      <td>2024-01-14</td>\n",
       "      <td>2024-01-14 15:00:00</td>\n",
       "      <td>2024-01-14 20:00:00</td>\n",
       "      <td>399</td>\n",
       "      <td>Nein</td>\n",
       "      <td>Herrenfahrrad</td>\n",
       "      <td>Fahrraddiebstahl</td>\n",
       "      <td>Sonstiger schwerer Diebstahl von Fahrrädern</td>\n",
       "      <td>2</td>\n",
       "      <td>Friedrichshain-Kreuzberg</td>\n",
       "      <td>0 days 05:00:00</td>\n",
       "      <td>0 days</td>\n",
       "      <td>10243</td>\n",
       "    </tr>\n",
       "  </tbody>\n",
       "</table>\n",
       "</div>"
      ],
      "text/plain": [
       "  ANGELEGT_AM TATZEIT_ANFANG_DATUM  TATZEIT_ENDE_DATUM  SCHADENSHOEHE VERSUCH  \\\n",
       "0  2024-01-14  2024-01-13 17:00:00 2024-01-14 11:00:00            110    Nein   \n",
       "1  2024-01-14  2024-01-13 16:00:00 2024-01-14 12:00:00            999    Nein   \n",
       "2  2024-01-14  2024-01-14 15:00:00 2024-01-14 20:00:00            399    Nein   \n",
       "\n",
       "  ART_DES_FAHRRADS            DELIKT  \\\n",
       "0    Herrenfahrrad  Fahrraddiebstahl   \n",
       "1     Damenfahrrad  Fahrraddiebstahl   \n",
       "2    Herrenfahrrad  Fahrraddiebstahl   \n",
       "\n",
       "                               ERFASSUNGSGRUND bezirk_id  \\\n",
       "0  Sonstiger schwerer Diebstahl von Fahrrädern         7   \n",
       "1  Sonstiger schwerer Diebstahl von Fahrrädern         8   \n",
       "2  Sonstiger schwerer Diebstahl von Fahrrädern         2   \n",
       "\n",
       "                bezirk_name ZEITUNTERSCHIED ZEIT_BIS_TATZEIT POSTLEITZAHL  \n",
       "0      Tempelhof-Schöneberg 0 days 18:00:00           1 days        12101  \n",
       "1                  Neukölln 0 days 20:00:00           1 days        12043  \n",
       "2  Friedrichshain-Kreuzberg 0 days 05:00:00           0 days        10243  "
      ]
     },
     "execution_count": 89,
     "metadata": {},
     "output_type": "execute_result"
    }
   ],
   "source": [
    "# Print the first few rows to confirm the change\n",
    "dataset_berlin_fahrraddiebstahl.head(3)"
   ]
  },
  {
   "cell_type": "code",
   "execution_count": 90,
   "metadata": {},
   "outputs": [],
   "source": [
    "# Add Longitude and Latitude columns with default values\n",
    "dataset_berlin_fahrraddiebstahl['Longitude'] = None\n",
    "dataset_berlin_fahrraddiebstahl['Latitude'] = None"
   ]
  },
  {
   "cell_type": "code",
   "execution_count": 91,
   "metadata": {},
   "outputs": [],
   "source": [
    "dataset_berlin_fahrraddiebstahl.loc[dataset_berlin_fahrraddiebstahl['bezirk_id'] == 1, 'Longitude'] = 52.54171\n",
    "dataset_berlin_fahrraddiebstahl.loc[dataset_berlin_fahrraddiebstahl['bezirk_id'] == 2, 'Longitude'] = 52.50176\n",
    "dataset_berlin_fahrraddiebstahl.loc[dataset_berlin_fahrraddiebstahl['bezirk_id'] == 3, 'Longitude'] = 52.57993\n",
    "dataset_berlin_fahrraddiebstahl.loc[dataset_berlin_fahrraddiebstahl['bezirk_id'] == 4, 'Longitude'] = 52.50695\n",
    "dataset_berlin_fahrraddiebstahl.loc[dataset_berlin_fahrraddiebstahl['bezirk_id'] == 5, 'Longitude'] = 52.54071\n",
    "dataset_berlin_fahrraddiebstahl.loc[dataset_berlin_fahrraddiebstahl['bezirk_id'] == 6, 'Longitude'] = 52.43972\n",
    "dataset_berlin_fahrraddiebstahl.loc[dataset_berlin_fahrraddiebstahl['bezirk_id'] == 7, 'Longitude'] = 52.45163\n",
    "dataset_berlin_fahrraddiebstahl.loc[dataset_berlin_fahrraddiebstahl['bezirk_id'] == 8, 'Longitude'] = 52.46051\n",
    "dataset_berlin_fahrraddiebstahl.loc[dataset_berlin_fahrraddiebstahl['bezirk_id'] == 9, 'Longitude'] = 52.43655\n",
    "dataset_berlin_fahrraddiebstahl.loc[dataset_berlin_fahrraddiebstahl['bezirk_id'] == 10, 'Longitude'] = 52.52807\n",
    "dataset_berlin_fahrraddiebstahl.loc[dataset_berlin_fahrraddiebstahl['bezirk_id'] == 11, 'Longitude'] = 52.53505\n",
    "dataset_berlin_fahrraddiebstahl.loc[dataset_berlin_fahrraddiebstahl['bezirk_id'] == 12, 'Longitude'] = 52.57823"
   ]
  },
  {
   "cell_type": "code",
   "execution_count": 92,
   "metadata": {},
   "outputs": [],
   "source": [
    "dataset_berlin_fahrraddiebstahl.loc[dataset_berlin_fahrraddiebstahl['bezirk_id'] == 1, 'Latitude'] = 13.34467\n",
    "dataset_berlin_fahrraddiebstahl.loc[dataset_berlin_fahrraddiebstahl['bezirk_id'] == 2, 'Latitude'] = 13.40307\n",
    "dataset_berlin_fahrraddiebstahl.loc[dataset_berlin_fahrraddiebstahl['bezirk_id'] == 3, 'Latitude'] = 13.44077\n",
    "dataset_berlin_fahrraddiebstahl.loc[dataset_berlin_fahrraddiebstahl['bezirk_id'] == 4, 'Latitude'] = 13.25292\n",
    "dataset_berlin_fahrraddiebstahl.loc[dataset_berlin_fahrraddiebstahl['bezirk_id'] == 5, 'Latitude'] = 13.19169\n",
    "dataset_berlin_fahrraddiebstahl.loc[dataset_berlin_fahrraddiebstahl['bezirk_id'] == 6, 'Latitude'] = 13.25306\n",
    "dataset_berlin_fahrraddiebstahl.loc[dataset_berlin_fahrraddiebstahl['bezirk_id'] == 7, 'Latitude'] = 13.38861\n",
    "dataset_berlin_fahrraddiebstahl.loc[dataset_berlin_fahrraddiebstahl['bezirk_id'] == 8, 'Latitude'] = 13.44361\n",
    "dataset_berlin_fahrraddiebstahl.loc[dataset_berlin_fahrraddiebstahl['bezirk_id'] == 9, 'Latitude'] = 13.57091\n",
    "dataset_berlin_fahrraddiebstahl.loc[dataset_berlin_fahrraddiebstahl['bezirk_id'] == 10, 'Latitude'] = 13.57565\n",
    "dataset_berlin_fahrraddiebstahl.loc[dataset_berlin_fahrraddiebstahl['bezirk_id'] == 11, 'Latitude'] = 13.50015\n",
    "dataset_berlin_fahrraddiebstahl.loc[dataset_berlin_fahrraddiebstahl['bezirk_id'] == 12, 'Latitude'] = 13.33333"
   ]
  },
  {
   "cell_type": "code",
   "execution_count": 93,
   "metadata": {},
   "outputs": [],
   "source": [
    "#Save the dataset_berlin_fahrraddiebstahl as a csv file\n",
    "dataset_berlin_fahrraddiebstahl.to_csv('dataset_berlin_fahrraddiebstahl_test.csv', index=False)"
   ]
  }
 ],
 "metadata": {
  "kernelspec": {
   "display_name": "base",
   "language": "python",
   "name": "python3"
  },
  "language_info": {
   "codemirror_mode": {
    "name": "ipython",
    "version": 3
   },
   "file_extension": ".py",
   "mimetype": "text/x-python",
   "name": "python",
   "nbconvert_exporter": "python",
   "pygments_lexer": "ipython3",
   "version": "3.10.9"
  }
 },
 "nbformat": 4,
 "nbformat_minor": 2
}
